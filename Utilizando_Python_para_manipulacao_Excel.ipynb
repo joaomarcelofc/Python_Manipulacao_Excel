{
  "nbformat": 4,
  "nbformat_minor": 0,
  "metadata": {
    "colab": {
      "provenance": [],
      "collapsed_sections": []
    },
    "kernelspec": {
      "name": "python3",
      "display_name": "Python 3"
    },
    "language_info": {
      "name": "python"
    }
  },
  "cells": [
    {
      "cell_type": "markdown",
      "source": [
        "<img alt=\"Colaboratory logo\" width=\"15%\" src=\"https://raw.githubusercontent.com/carlosfab/escola-data-science/master/img/novo_logo_bg_claro.png\">\n",
        "\n",
        "#**Utilizando Python para manipulação de Excel**\n",
        "\n",
        "O objetivo deste notebook é estudar algumas das diversas formas de manipulação de planilhas de Excel utilizando a linguagem de programação Python. \n",
        "\n",
        "De forma mais específica iremos estudar e aprofundar um pouco na ferramenta `openpyxl`, uma biblioteca de Python que nos permite ler, escrever e manipular arquivos Excel de uma forma fácil, sem muitas complicações. Isso pode viabilizar o nosso dia a dia, otimizando nossas tarefas e nos possibilitando mais desempenho em nossas rotinas do dia a dia.\n",
        "\n",
        "Este notebook compila informações do material presente no curso Python do Zero, da plataforma Sigmoidal.\n",
        "\n",
        "<center><img width=\"60%\" src=\"https://miro.medium.com/max/720/0*eSQte3e-rJeH7bu8.jpg\"></center>"
      ],
      "metadata": {
        "id": "gFNgIlGW7Jey"
      }
    },
    {
      "cell_type": "code",
      "source": [],
      "metadata": {
        "id": "u0BQ2jzRlShE"
      },
      "execution_count": null,
      "outputs": []
    },
    {
      "cell_type": "markdown",
      "source": [
        "Para facilitar nossos estudos, iremos dividir cada assunto abordado em um tópico distinto. Abaixo os tópicos apresentados neste notebook:\n",
        "\n",
        "* `1 - Carregando uma Planilha e passos iniciais`\n",
        "\n",
        "* `2 - Navegando pela Planilha`\n",
        "\n",
        "* `3 - Manipulando os dados`\n",
        "\n",
        "* `4 - Adicionando Dados a uma Planilha`\n",
        "\n",
        "* `5 - Removendo e Adicionnado Linhas e Colunas`\n",
        "\n",
        "* `6 - Navegando pelas Abas de uma Planilha`\n",
        "\n",
        "* `7 - Filtros e Fórmulas`\n",
        "\n",
        "* `8 - Inserindo Gráficos`\n",
        "\n",
        "* `9 - Integração com Pandas`\n"
      ],
      "metadata": {
        "id": "dFUEjqqGGIdq"
      }
    },
    {
      "cell_type": "markdown",
      "source": [
        "#**1 - Carregando uma Planilha e passos iniciais**\n",
        "\n",
        "A biblioteca openpyxl permite que seja feita, com facilidade a manipulação de arquivos em formato .xlsx, do Microsoft Excel, por meio do Python.\n",
        "\n",
        "<center><img width=\"50%\" src=\"https://img.freepik.com/vetores-gratis/ilustracao-do-conceito-de-planilhas_114360-945.jpg?w=740&t=st=1663782429~exp=1663783029~hmac=d9c26489bd66df4314ec66c8566705fe07dd6ee8751fb11ca977fb00cebc15cf\"></center>"
      ],
      "metadata": {
        "id": "s2kcWoAiSwtp"
      }
    },
    {
      "cell_type": "markdown",
      "source": [
        "O openpyxl vem por padrão no Colab, mas sua versão desatualizada não será capaz de fazer o que precisamos. Portanto, o primeiro passo sempre que abrir um notebook onde o openpyxl será necessário é rodar o comando abaixo, para atualizar o pacote no notebook."
      ],
      "metadata": {
        "id": "_r0FLGszTQZz"
      }
    },
    {
      "cell_type": "code",
      "source": [
        "# atualizando o pacote openpyxl\n",
        "!pip install -U openpyxl -q\n"
      ],
      "metadata": {
        "id": "rmPJf9qqTg4s"
      },
      "execution_count": null,
      "outputs": []
    },
    {
      "cell_type": "markdown",
      "source": [
        "##Criando uma Planilha\n",
        "\n",
        "Aqui, vamos entender como funciona a nomenclatura utilizada pelo pacote. A planilha, e aqui leia-se o arquivo xlsx é chamada de `workbook`. Portanto, vamos criar um objeto do tipo Workbook, e associá-lo à essa variável.\n",
        "\n",
        "Dentro de um `workbook`, podemos ter diferentes sheets, que, neste caso, são as abas da planilha.\n",
        "\n",
        "Sempre precisamos definir qual a aba que será ativada e utilizada. Passando somente o padrão `active`, ele abrirá a primeira aba, aquela que aparece quando abrimos o arquivo. "
      ],
      "metadata": {
        "id": "WRv9Z9QqT4_l"
      }
    },
    {
      "cell_type": "code",
      "source": [
        "# importando a lib\n",
        "from openpyxl import Workbook\n",
        "\n",
        "# criando o workbook/planilha (associando ao objeto do tipo Workbook)\n",
        "workbook = Workbook()\n",
        "\n",
        "# selecionando a aba\n",
        "sheet = workbook.active"
      ],
      "metadata": {
        "id": "hmkXczHvUr-x"
      },
      "execution_count": null,
      "outputs": []
    },
    {
      "cell_type": "markdown",
      "source": [
        "##Escrevendo na Planilha\n",
        "\n",
        "Agora que estamos dentro da aba desejada dentro da planilha, selecionada através do `sheet = workbook.active`, podemos acessar as células e associar valores a elas. Para escrevermos em nossa planilha, precisamos acessar as células em que desejamos inserir os valores."
      ],
      "metadata": {
        "id": "k0g2vYeeVbNI"
      }
    },
    {
      "cell_type": "code",
      "source": [
        "# acessando as células A1 e B1 e associando valores a elas\n",
        "sheet['A1'] = 'hello'\n",
        "sheet['B1'] = 'world'\n",
        "\n",
        "# para salvar as alterações, utilizamos o comando abaixo:\n",
        "workbook.save(filename='helloworld.xlsx')"
      ],
      "metadata": {
        "id": "h6zq7rcIVwE6"
      },
      "execution_count": null,
      "outputs": []
    },
    {
      "cell_type": "markdown",
      "source": [
        "##Carregando uma Planilha\n",
        "\n",
        "Além de criar planilhas, também podemos acessar planilhas criadas previamente. Como estamos lidando com o Google Colab, vamos fazer o upload da planilha, que foi disponibilizada no material de apoio dessa aula ('controle_da_empresa.xlsx').\n",
        "\n",
        "Agora vamos utilizar um outro módulo da lib openpyxl, que se chama `load_workbook`. Sua função, como o próprio nome sugere, é carregar planilhas."
      ],
      "metadata": {
        "id": "bXBY1E9-W4Zw"
      }
    },
    {
      "cell_type": "code",
      "source": [
        "# carregando uma planilha\n",
        "from openpyxl import load_workbook\n",
        "\n",
        "# carregando o arquivo\n",
        "workbook = load_workbook(filename='controle_da_empresa.xlsx')\n",
        "\n",
        "# verificando as abas\n",
        "workbook.sheetnames"
      ],
      "metadata": {
        "colab": {
          "base_uri": "https://localhost:8080/"
        },
        "id": "Egun5YDqXcC_",
        "outputId": "93f79b6d-2399-4439-de47-d420bb550df6"
      },
      "execution_count": null,
      "outputs": [
        {
          "output_type": "execute_result",
          "data": {
            "text/plain": [
              "['Estoque', 'Vendas', 'Funcionários']"
            ]
          },
          "metadata": {},
          "execution_count": 6
        }
      ]
    },
    {
      "cell_type": "markdown",
      "source": [
        "Conforme verificado acima, esta planilha conta com 3 abas diferentes. Portanto, devemos utilizar o comando abaixo para selecionar a planilha específica, que desejamos utilizar."
      ],
      "metadata": {
        "id": "vGn6g9KPaoXc"
      }
    },
    {
      "cell_type": "code",
      "source": [
        "# selecionando a aba específica\n",
        "sheet = workbook['Vendas']\n",
        "\n",
        "# verificando a aba aberta\n",
        "sheet.title"
      ],
      "metadata": {
        "colab": {
          "base_uri": "https://localhost:8080/",
          "height": 36
        },
        "id": "F2nNBf5lazM8",
        "outputId": "31bde868-bea5-430f-c5f5-d2569dc4cdff"
      },
      "execution_count": null,
      "outputs": [
        {
          "output_type": "execute_result",
          "data": {
            "text/plain": [
              "'Vendas'"
            ],
            "application/vnd.google.colaboratory.intrinsic+json": {
              "type": "string"
            }
          },
          "metadata": {},
          "execution_count": 7
        }
      ]
    },
    {
      "cell_type": "markdown",
      "source": [
        "##Acessando as Células\n",
        "\n",
        "Para acessar uma célula, basta utilizar o comando abaixo. Lembrando sempre de passar o método .value, para que consulte o valor inserido dentro da célula."
      ],
      "metadata": {
        "id": "xTkRA_g-bBN7"
      }
    },
    {
      "cell_type": "code",
      "source": [
        "# acessando as células\n",
        "sheet['F10'].value"
      ],
      "metadata": {
        "colab": {
          "base_uri": "https://localhost:8080/"
        },
        "id": "EvompvcYbS58",
        "outputId": "09378ec0-b9a5-43d0-9414-b90215ed54f5"
      },
      "execution_count": null,
      "outputs": [
        {
          "output_type": "execute_result",
          "data": {
            "text/plain": [
              "17994"
            ]
          },
          "metadata": {},
          "execution_count": 8
        }
      ]
    },
    {
      "cell_type": "markdown",
      "source": [
        "Também é possível acessar o conteúdo, por meio do método cell, passando o número da coluna e da linha. Atenção para o index do excel, que começa com 1, diferente do index do Python."
      ],
      "metadata": {
        "id": "mn0INdQ5barE"
      }
    },
    {
      "cell_type": "code",
      "source": [
        "# acessando as células\n",
        "sheet.cell(row=10, column=6).value"
      ],
      "metadata": {
        "colab": {
          "base_uri": "https://localhost:8080/"
        },
        "id": "13b029SibnR9",
        "outputId": "8f5b6c22-91fc-4c78-fefd-46fe2f9adbf2"
      },
      "execution_count": null,
      "outputs": [
        {
          "output_type": "execute_result",
          "data": {
            "text/plain": [
              "17994"
            ]
          },
          "metadata": {},
          "execution_count": 9
        }
      ]
    },
    {
      "cell_type": "markdown",
      "source": [
        "Alguns argumentos que a função load_workbook recebe:\n",
        "* `read_only` tem por padrão `False`, o que possibilita manipular dados. Utilizando `True` não é possível fazer essa manipulação.\n",
        "\n",
        "* `data_only` recebe por padrão o argumento `False`. Caso seja passado `True`, qualquer célula que tenha fórmula, transmitirá somente o valor resultante da ação executada pla fórmula, sem apresentar a fórmula em si."
      ],
      "metadata": {
        "id": "IYoXJXXYb3tg"
      }
    },
    {
      "cell_type": "code",
      "source": [
        "# adicione os dois parenteses e verifique a doc string para ver os argumentos\n",
        "workbook2 = load_workbook(filename='controle_da_empresa.xlsx', read_only=True, data_only=True)"
      ],
      "metadata": {
        "id": "L0Az6mDvcYYr"
      },
      "execution_count": null,
      "outputs": []
    },
    {
      "cell_type": "markdown",
      "source": [
        "#**2 - Navegando pela Planilha**\n",
        "\n",
        "Uma vez dentro da planilha, é importante saber como navegar por ela, encontrar e manipular as células. Importante lembrar sempre que é primordial checar e realizar a atualização da biblioteca, utilizando o `!pip install -U openpyxl -q`.\n",
        "\n",
        "<center><img width=\"50%\" src=\"https://img.freepik.com/vetores-gratis/ilustracao-do-conceito-de-planilhas_114360-736.jpg?w=740&t=st=1663782654~exp=1663783254~hmac=2f76d2a77f7b82c9faef396aa693c4509347001be0bcfc70733e0f0db5fe978a\"></center>"
      ],
      "metadata": {
        "id": "piRwoIIrdR8Z"
      }
    },
    {
      "cell_type": "code",
      "source": [
        "# carregando a planilha novamente\n",
        "from openpyxl import load_workbook\n",
        "\n",
        "workbook = load_workbook(filename='controle_da_empresa.xlsx')\n",
        "\n",
        "# verificando as abas\n",
        "sheet = workbook['Vendas']"
      ],
      "metadata": {
        "id": "X3J_FfkxTFhP"
      },
      "execution_count": null,
      "outputs": []
    },
    {
      "cell_type": "markdown",
      "source": [
        "##Acessando as Células\n",
        "\n",
        "Para acessar as células de uma planilha, vamos fazer como fizemos no notebook anterior, passado a célula que desejamos utilizar como parâmetro."
      ],
      "metadata": {
        "id": "nmc7ro5NegBQ"
      }
    },
    {
      "cell_type": "code",
      "source": [
        "# acessando um intervalo\n",
        "sheet['A1:C2']"
      ],
      "metadata": {
        "colab": {
          "base_uri": "https://localhost:8080/"
        },
        "id": "RzSQulEZerEf",
        "outputId": "86854cff-8bca-4922-f311-2779ac30c0df"
      },
      "execution_count": null,
      "outputs": [
        {
          "output_type": "execute_result",
          "data": {
            "text/plain": [
              "((<Cell 'Vendas'.A1>, <Cell 'Vendas'.B1>, <Cell 'Vendas'.C1>),\n",
              " (<Cell 'Vendas'.A2>, <Cell 'Vendas'.B2>, <Cell 'Vendas'.C2>))"
            ]
          },
          "metadata": {},
          "execution_count": 13
        }
      ]
    },
    {
      "cell_type": "markdown",
      "source": [
        "Se não passarmos a linha, ele retorna a coluna inteira."
      ],
      "metadata": {
        "id": "JUkt7ZPVfCK0"
      }
    },
    {
      "cell_type": "code",
      "source": [
        "# acessando uma coluna\n",
        "sheet['A']"
      ],
      "metadata": {
        "colab": {
          "base_uri": "https://localhost:8080/"
        },
        "id": "Vfpcy51JfHxM",
        "outputId": "7686e90b-5e7d-4aa7-9a0e-eb0083204cf0"
      },
      "execution_count": null,
      "outputs": [
        {
          "output_type": "execute_result",
          "data": {
            "text/plain": [
              "(<Cell 'Vendas'.A1>,\n",
              " <Cell 'Vendas'.A2>,\n",
              " <Cell 'Vendas'.A3>,\n",
              " <Cell 'Vendas'.A4>,\n",
              " <Cell 'Vendas'.A5>,\n",
              " <Cell 'Vendas'.A6>,\n",
              " <Cell 'Vendas'.A7>,\n",
              " <Cell 'Vendas'.A8>,\n",
              " <Cell 'Vendas'.A9>,\n",
              " <Cell 'Vendas'.A10>,\n",
              " <Cell 'Vendas'.A11>,\n",
              " <Cell 'Vendas'.A12>,\n",
              " <Cell 'Vendas'.A13>,\n",
              " <Cell 'Vendas'.A14>,\n",
              " <Cell 'Vendas'.A15>,\n",
              " <Cell 'Vendas'.A16>,\n",
              " <Cell 'Vendas'.A17>,\n",
              " <Cell 'Vendas'.A18>,\n",
              " <Cell 'Vendas'.A19>,\n",
              " <Cell 'Vendas'.A20>,\n",
              " <Cell 'Vendas'.A21>,\n",
              " <Cell 'Vendas'.A22>,\n",
              " <Cell 'Vendas'.A23>,\n",
              " <Cell 'Vendas'.A24>,\n",
              " <Cell 'Vendas'.A25>,\n",
              " <Cell 'Vendas'.A26>,\n",
              " <Cell 'Vendas'.A27>,\n",
              " <Cell 'Vendas'.A28>,\n",
              " <Cell 'Vendas'.A29>,\n",
              " <Cell 'Vendas'.A30>,\n",
              " <Cell 'Vendas'.A31>,\n",
              " <Cell 'Vendas'.A32>,\n",
              " <Cell 'Vendas'.A33>,\n",
              " <Cell 'Vendas'.A34>,\n",
              " <Cell 'Vendas'.A35>,\n",
              " <Cell 'Vendas'.A36>,\n",
              " <Cell 'Vendas'.A37>,\n",
              " <Cell 'Vendas'.A38>,\n",
              " <Cell 'Vendas'.A39>,\n",
              " <Cell 'Vendas'.A40>,\n",
              " <Cell 'Vendas'.A41>,\n",
              " <Cell 'Vendas'.A42>,\n",
              " <Cell 'Vendas'.A43>,\n",
              " <Cell 'Vendas'.A44>,\n",
              " <Cell 'Vendas'.A45>,\n",
              " <Cell 'Vendas'.A46>,\n",
              " <Cell 'Vendas'.A47>,\n",
              " <Cell 'Vendas'.A48>,\n",
              " <Cell 'Vendas'.A49>,\n",
              " <Cell 'Vendas'.A50>,\n",
              " <Cell 'Vendas'.A51>,\n",
              " <Cell 'Vendas'.A52>,\n",
              " <Cell 'Vendas'.A53>,\n",
              " <Cell 'Vendas'.A54>,\n",
              " <Cell 'Vendas'.A55>,\n",
              " <Cell 'Vendas'.A56>,\n",
              " <Cell 'Vendas'.A57>,\n",
              " <Cell 'Vendas'.A58>,\n",
              " <Cell 'Vendas'.A59>,\n",
              " <Cell 'Vendas'.A60>,\n",
              " <Cell 'Vendas'.A61>,\n",
              " <Cell 'Vendas'.A62>,\n",
              " <Cell 'Vendas'.A63>,\n",
              " <Cell 'Vendas'.A64>,\n",
              " <Cell 'Vendas'.A65>,\n",
              " <Cell 'Vendas'.A66>,\n",
              " <Cell 'Vendas'.A67>,\n",
              " <Cell 'Vendas'.A68>,\n",
              " <Cell 'Vendas'.A69>,\n",
              " <Cell 'Vendas'.A70>,\n",
              " <Cell 'Vendas'.A71>,\n",
              " <Cell 'Vendas'.A72>,\n",
              " <Cell 'Vendas'.A73>,\n",
              " <Cell 'Vendas'.A74>,\n",
              " <Cell 'Vendas'.A75>,\n",
              " <Cell 'Vendas'.A76>,\n",
              " <Cell 'Vendas'.A77>,\n",
              " <Cell 'Vendas'.A78>,\n",
              " <Cell 'Vendas'.A79>,\n",
              " <Cell 'Vendas'.A80>,\n",
              " <Cell 'Vendas'.A81>,\n",
              " <Cell 'Vendas'.A82>,\n",
              " <Cell 'Vendas'.A83>,\n",
              " <Cell 'Vendas'.A84>,\n",
              " <Cell 'Vendas'.A85>,\n",
              " <Cell 'Vendas'.A86>,\n",
              " <Cell 'Vendas'.A87>,\n",
              " <Cell 'Vendas'.A88>,\n",
              " <Cell 'Vendas'.A89>,\n",
              " <Cell 'Vendas'.A90>,\n",
              " <Cell 'Vendas'.A91>)"
            ]
          },
          "metadata": {},
          "execution_count": 14
        }
      ]
    },
    {
      "cell_type": "markdown",
      "source": [
        "Da mesma forma, podemos passar apenas a linha, e teremos como resultado, todas as colunas para aquela linha."
      ],
      "metadata": {
        "id": "evxq47EYfS1Z"
      }
    },
    {
      "cell_type": "code",
      "source": [
        "sheet[1]"
      ],
      "metadata": {
        "colab": {
          "base_uri": "https://localhost:8080/"
        },
        "id": "5TwL95gMfbk5",
        "outputId": "8f41b0c3-b9b4-4852-baa1-7f54d669a1e6"
      },
      "execution_count": null,
      "outputs": [
        {
          "output_type": "execute_result",
          "data": {
            "text/plain": [
              "(<Cell 'Vendas'.A1>,\n",
              " <Cell 'Vendas'.B1>,\n",
              " <Cell 'Vendas'.C1>,\n",
              " <Cell 'Vendas'.D1>,\n",
              " <Cell 'Vendas'.E1>,\n",
              " <Cell 'Vendas'.F1>)"
            ]
          },
          "metadata": {},
          "execution_count": 15
        }
      ]
    },
    {
      "cell_type": "markdown",
      "source": [
        "##Iterando sobre os dados\n",
        "\n",
        "Uma forma mais efetiva de buscarmos determinado intervalo de células, é utilizando uma estrutura de repetição para iterar sobre os dados e nos retornar os valores e células desejados.\n",
        "\n",
        "Para isso, vamos criar um loop for para utilizar o método `iter_rows`, para iterar pelas linhas e retornar as células.\n",
        "\n",
        "Aqui, podemos passar parâmetros para definir em que linhas e colunas será feita a iteração. Os valores min indicam onde começa e os valores max, indicam onde termina essa iteração."
      ],
      "metadata": {
        "id": "GHM1e2MAfgVi"
      }
    },
    {
      "cell_type": "code",
      "source": [
        "sheet.iter_rows()"
      ],
      "metadata": {
        "colab": {
          "base_uri": "https://localhost:8080/"
        },
        "id": "QhNtvyYXgFJT",
        "outputId": "0685ca2b-cb8a-4f7e-acbe-e5c953c47baa"
      },
      "execution_count": null,
      "outputs": [
        {
          "output_type": "execute_result",
          "data": {
            "text/plain": [
              "<generator object Worksheet._cells_by_row at 0x7f4fb46d20d0>"
            ]
          },
          "metadata": {},
          "execution_count": 16
        }
      ]
    },
    {
      "cell_type": "code",
      "source": [
        "# iterando sobre os dados (linhas)\n",
        "for row in sheet.iter_rows(min_row=1,\n",
        "                           max_row=2,\n",
        "                           min_col=1,\n",
        "                           max_col=2):\n",
        "  print(row)"
      ],
      "metadata": {
        "colab": {
          "base_uri": "https://localhost:8080/"
        },
        "id": "6Gg_Z-t-evCA",
        "outputId": "b51e5d4d-f8eb-4c4b-e2fa-4d28fe7654d8"
      },
      "execution_count": null,
      "outputs": [
        {
          "output_type": "stream",
          "name": "stdout",
          "text": [
            "(<Cell 'Vendas'.A1>, <Cell 'Vendas'.B1>)\n",
            "(<Cell 'Vendas'.A2>, <Cell 'Vendas'.B2>)\n"
          ]
        }
      ]
    },
    {
      "cell_type": "markdown",
      "source": [
        "Da mesma forma, também é possível iterar sobre as colunas."
      ],
      "metadata": {
        "id": "7A7gz9Athlu1"
      }
    },
    {
      "cell_type": "code",
      "source": [
        "# iterando sobre os dados (colunas)\n",
        "for row in sheet.iter_cols(min_row=1,\n",
        "                           max_row=2,\n",
        "                           min_col=1,\n",
        "                           max_col=2):\n",
        "  print(row)"
      ],
      "metadata": {
        "colab": {
          "base_uri": "https://localhost:8080/"
        },
        "id": "QepfqhMohp28",
        "outputId": "28f9f04a-963d-4ca7-b113-aea39b3bcfe1"
      },
      "execution_count": null,
      "outputs": [
        {
          "output_type": "stream",
          "name": "stdout",
          "text": [
            "(<Cell 'Vendas'.A1>, <Cell 'Vendas'.A2>)\n",
            "(<Cell 'Vendas'.B1>, <Cell 'Vendas'.B2>)\n"
          ]
        }
      ]
    },
    {
      "cell_type": "markdown",
      "source": [
        "Até agora estamos recebendo tuplas com informações sobre as células, sem nenhum valor, o que não tem caráter informativo e não é interessante em nossa análise. Nosso objeto de interesse é o valor contido em cada célula.\n",
        "\n",
        "Para coletar os valores que estão nas células, vamos passar o parâmetro `values_only` como True, para que ele nos retorne o valor contido nas células do intervalo que definimos para a iteração."
      ],
      "metadata": {
        "id": "xqu505J-iI3t"
      }
    },
    {
      "cell_type": "code",
      "source": [
        "# iterando sobre os dados - linhas\n",
        "for value in sheet.iter_rows(min_row=1,\n",
        "                             max_row=2,\n",
        "                             min_col=1,\n",
        "                             max_col=2,\n",
        "                             values_only=True):\n",
        "  print(value)"
      ],
      "metadata": {
        "colab": {
          "base_uri": "https://localhost:8080/"
        },
        "id": "QRP4B8H6ioVI",
        "outputId": "88b92681-d004-4a88-b2e5-eb744c574d59"
      },
      "execution_count": null,
      "outputs": [
        {
          "output_type": "stream",
          "name": "stdout",
          "text": [
            "('Data da Venda', 'Item')\n",
            "(datetime.datetime(2020, 1, 2, 0, 0), 'Lente 50mm f/1.4')\n"
          ]
        }
      ]
    },
    {
      "cell_type": "code",
      "source": [
        "# iterando sobre os dados - colunas\n",
        "for value_col in sheet.iter_cols(min_row=1,\n",
        "                                 max_row=2,\n",
        "                                 min_col=1,\n",
        "                                 max_col=2,\n",
        "                                 values_only=True):\n",
        "  print(value_col)"
      ],
      "metadata": {
        "colab": {
          "base_uri": "https://localhost:8080/"
        },
        "id": "07tdgFHph25P",
        "outputId": "d3356d40-df58-4e65-d9fc-cb1b4a0d540a"
      },
      "execution_count": null,
      "outputs": [
        {
          "output_type": "stream",
          "name": "stdout",
          "text": [
            "('Data da Venda', datetime.datetime(2020, 1, 2, 0, 0))\n",
            "('Item', 'Lente 50mm f/1.4')\n"
          ]
        }
      ]
    },
    {
      "cell_type": "markdown",
      "source": [
        "Perceba nos exemplos acima, a diferença entre os métodos `iter_rows` e `iter_cols`. A forma de organização difere de um para outro. Sendo que no primeiro caso a iteração é feita pelas linhas, e no segundo é feita pelas colunas."
      ],
      "metadata": {
        "id": "I-8O_fWhjd_A"
      }
    },
    {
      "cell_type": "markdown",
      "source": [
        "Portanto, podemos realizar a iteração sobre toda a planilha, coletando os dados de todas as células. Verificamos que o método que melhor nos atende é o `iter_rows`."
      ],
      "metadata": {
        "id": "aINOJ-NEjzNY"
      }
    },
    {
      "cell_type": "code",
      "source": [
        "# iterando sobre a planilha inteira\n",
        "for value in sheet.iter_rows(values_only=True):\n",
        "  print(value)"
      ],
      "metadata": {
        "colab": {
          "base_uri": "https://localhost:8080/"
        },
        "id": "5ZibAvxrkBhG",
        "outputId": "76593e33-7b6e-4195-d1a2-6c889b167500"
      },
      "execution_count": null,
      "outputs": [
        {
          "output_type": "stream",
          "name": "stdout",
          "text": [
            "('Data da Venda', 'Item', 'Quantidade', 'Vendedor', 'Preço Unitário', 'Total de Vendas')\n",
            "(datetime.datetime(2020, 1, 2, 0, 0), 'Lente 50mm f/1.4', 2, 'Carlos', 1649, 3298)\n",
            "(datetime.datetime(2020, 1, 2, 0, 0), 'Filtro ND 5 Stop', 2, 'Raquel', 1220, 2440)\n",
            "(datetime.datetime(2020, 1, 3, 0, 0), 'Filtro ND 5 Stop', 2, 'Raquel', 1220, 2440)\n",
            "(datetime.datetime(2020, 1, 3, 0, 0), 'Lente 16-35mm f/2.8', 2, 'Carlos', 8997, 17994)\n",
            "(datetime.datetime(2020, 1, 4, 0, 0), 'Lente 16-35mm f/2.8', 2, 'Fernanda', 8997, 17994)\n",
            "(datetime.datetime(2020, 1, 4, 0, 0), 'Filtro ND 3 Stop', 1, 'Raquel', 1220, 1220)\n",
            "(datetime.datetime(2020, 1, 4, 0, 0), 'Lente 16-35mm f/2.8', 2, 'Carlos', 8997, 17994)\n",
            "(datetime.datetime(2020, 1, 4, 0, 0), 'DJI Ronin-S', 2, 'Theo', 5790, 11580)\n",
            "(datetime.datetime(2020, 1, 4, 0, 0), 'Lente 16-35mm f/2.8', 2, 'Carlos', 8997, 17994)\n",
            "(datetime.datetime(2020, 1, 5, 0, 0), 'Lente 85mm f/1.4', 2, 'Raquel', 9989, 19978)\n",
            "(datetime.datetime(2020, 1, 5, 0, 0), 'DJI Ronin-S', 2, 'Theo', 5790, 11580)\n",
            "(datetime.datetime(2020, 1, 5, 0, 0), 'DJI Ronin-S', 2, 'Fernanda', 5790, 11580)\n",
            "(datetime.datetime(2020, 1, 6, 0, 0), 'Filtro ND 5 Stop', 1, 'Carlos', 1220, 1220)\n",
            "(datetime.datetime(2020, 1, 7, 0, 0), 'Lente 85mm f/1.4', 2, 'Theo', 9989, 19978)\n",
            "(datetime.datetime(2020, 1, 7, 0, 0), 'Filtro ND 3 Stop', 1, 'Raquel', 1220, 1220)\n",
            "(datetime.datetime(2020, 1, 9, 0, 0), 'Canon 6D Mark II', 1, 'Fernanda', 8500, 8500)\n",
            "(datetime.datetime(2020, 1, 10, 0, 0), 'DJI Mavic Air 2', 2, 'Theo', 13580, 27160)\n",
            "(datetime.datetime(2020, 1, 10, 0, 0), 'Filtro ND 5 Stop', 2, 'Raquel', 1220, 2440)\n",
            "(datetime.datetime(2020, 1, 10, 0, 0), 'Filtro ND 3 Stop', 2, 'Theo', 1220, 2440)\n",
            "(datetime.datetime(2020, 1, 10, 0, 0), 'Lente 16-35mm f/2.8', 1, 'Raquel', 8997, 8997)\n",
            "(datetime.datetime(2020, 1, 10, 0, 0), 'DJI Mavic Air 2', 2, 'Raquel', 13580, 27160)\n",
            "(datetime.datetime(2020, 1, 12, 0, 0), 'Lente 50mm f/1.4', 2, 'Fernanda', 1649, 3298)\n",
            "(datetime.datetime(2020, 1, 12, 0, 0), 'DJI Mavic Air 2', 1, 'Carlos', 13580, 13580)\n",
            "(datetime.datetime(2020, 1, 12, 0, 0), 'Filtro ND 3 Stop', 1, 'Carlos', 1220, 1220)\n",
            "(datetime.datetime(2020, 1, 12, 0, 0), 'Filtro ND 5 Stop', 1, 'Fernanda', 1220, 1220)\n",
            "(datetime.datetime(2020, 1, 13, 0, 0), 'Lente 50mm f/1.4', 1, 'Fernanda', 1649, 1649)\n",
            "(datetime.datetime(2020, 1, 13, 0, 0), 'Canon 5D Mark III', 2, 'Fernanda', 13650, 27300)\n",
            "(datetime.datetime(2020, 1, 13, 0, 0), 'Canon 5D Mark III', 2, 'Fernanda', 13650, 27300)\n",
            "(datetime.datetime(2020, 1, 13, 0, 0), 'Lente 50mm f/1.4', 1, 'Carlos', 1649, 1649)\n",
            "(datetime.datetime(2020, 1, 13, 0, 0), 'DJI Ronin-S', 2, 'Carlos', 5790, 11580)\n",
            "(datetime.datetime(2020, 1, 14, 0, 0), 'Lente 16-35mm f/2.8', 2, 'Carlos', 8997, 17994)\n",
            "(datetime.datetime(2020, 1, 14, 0, 0), 'Filtro ND 5 Stop', 2, 'Theo', 1220, 2440)\n",
            "(datetime.datetime(2020, 1, 15, 0, 0), 'Lente 50mm f/1.4', 2, 'Raquel', 1649, 3298)\n",
            "(datetime.datetime(2020, 1, 15, 0, 0), 'DJI Ronin-S', 1, 'Raquel', 5790, 5790)\n",
            "(datetime.datetime(2020, 1, 15, 0, 0), 'Filtro ND 3 Stop', 2, 'Theo', 1220, 2440)\n",
            "(datetime.datetime(2020, 1, 16, 0, 0), 'Filtro ND 3 Stop', 2, 'Raquel', 1220, 2440)\n",
            "(datetime.datetime(2020, 1, 16, 0, 0), 'DJI Mavic Air 2', 2, 'Fernanda', 13580, 27160)\n",
            "(datetime.datetime(2020, 1, 16, 0, 0), 'Lente 85mm f/1.4', 1, 'Carlos', 9989, 9989)\n",
            "(datetime.datetime(2020, 1, 16, 0, 0), 'Filtro ND 5 Stop', 2, 'Carlos', 1220, 2440)\n",
            "(datetime.datetime(2020, 1, 16, 0, 0), 'Filtro ND 2 Stop', 2, 'Fernanda', 1220, 2440)\n",
            "(datetime.datetime(2020, 1, 16, 0, 0), 'Lente 50mm f/1.4', 2, 'Raquel', 1649, 3298)\n",
            "(datetime.datetime(2020, 1, 19, 0, 0), 'Filtro ND 5 Stop', 1, 'Raquel', 1220, 1220)\n",
            "(datetime.datetime(2020, 1, 19, 0, 0), 'Lente 16-35mm f/2.8', 1, 'Raquel', 8997, 8997)\n",
            "(datetime.datetime(2020, 1, 20, 0, 0), 'Canon 5D Mark III', 1, 'Carlos', 13650, 13650)\n",
            "(datetime.datetime(2020, 1, 20, 0, 0), 'DJI Mavic Air 2', 2, 'Theo', 13580, 27160)\n",
            "(datetime.datetime(2020, 1, 20, 0, 0), 'Canon 5D Mark III', 1, 'Raquel', 13650, 13650)\n",
            "(datetime.datetime(2020, 1, 20, 0, 0), 'Lente 85mm f/1.4', 2, 'Raquel', 9989, 19978)\n",
            "(datetime.datetime(2020, 1, 21, 0, 0), 'Filtro ND 3 Stop', 2, 'Carlos', 1220, 2440)\n",
            "(datetime.datetime(2020, 1, 21, 0, 0), 'Canon 6D Mark II', 2, 'Theo', 8500, 17000)\n",
            "(datetime.datetime(2020, 1, 21, 0, 0), 'Lente 16-35mm f/2.8', 2, 'Fernanda', 8997, 17994)\n",
            "(datetime.datetime(2020, 1, 21, 0, 0), 'DJI Ronin-S', 1, 'Carlos', 5790, 5790)\n",
            "(datetime.datetime(2020, 1, 21, 0, 0), 'Filtro ND 3 Stop', 2, 'Raquel', 1220, 2440)\n",
            "(datetime.datetime(2020, 1, 23, 0, 0), 'Canon 6D Mark II', 2, 'Carlos', 8500, 17000)\n",
            "(datetime.datetime(2020, 1, 23, 0, 0), 'DJI Mavic Air 2', 1, 'Carlos', 13580, 13580)\n",
            "(datetime.datetime(2020, 1, 23, 0, 0), 'Filtro ND 5 Stop', 2, 'Fernanda', 1220, 2440)\n",
            "(datetime.datetime(2020, 1, 23, 0, 0), 'Lente 50mm f/1.4', 1, 'Raquel', 1649, 1649)\n",
            "(datetime.datetime(2020, 1, 23, 0, 0), 'Filtro ND 3 Stop', 1, 'Carlos', 1220, 1220)\n",
            "(datetime.datetime(2020, 1, 23, 0, 0), 'Lente 16-35mm f/2.8', 1, 'Fernanda', 8997, 8997)\n",
            "(datetime.datetime(2020, 1, 23, 0, 0), 'Canon 5D Mark III', 2, 'Theo', 13650, 27300)\n",
            "(datetime.datetime(2020, 1, 24, 0, 0), 'Filtro ND 5 Stop', 1, 'Carlos', 1220, 1220)\n",
            "(datetime.datetime(2020, 1, 24, 0, 0), 'Filtro ND 2 Stop', 2, 'Raquel', 1220, 2440)\n",
            "(datetime.datetime(2020, 1, 24, 0, 0), 'Lente 50mm f/1.4', 1, 'Carlos', 1649, 1649)\n",
            "(datetime.datetime(2020, 1, 25, 0, 0), 'Lente 16-35mm f/2.8', 1, 'Raquel', 8997, 8997)\n",
            "(datetime.datetime(2020, 1, 25, 0, 0), 'Filtro ND 5 Stop', 1, 'Fernanda', 1220, 1220)\n",
            "(datetime.datetime(2020, 1, 25, 0, 0), 'Lente 16-35mm f/2.8', 1, 'Theo', 8997, 8997)\n",
            "(datetime.datetime(2020, 1, 25, 0, 0), 'Lente 50mm f/1.4', 1, 'Raquel', 1649, 1649)\n",
            "(datetime.datetime(2020, 1, 25, 0, 0), 'Lente 85mm f/1.4', 2, 'Theo', 9989, 19978)\n",
            "(datetime.datetime(2020, 1, 26, 0, 0), 'Filtro ND 2 Stop', 1, 'Theo', 1220, 1220)\n",
            "(datetime.datetime(2020, 1, 26, 0, 0), 'Canon 5D Mark III', 1, 'Raquel', 13650, 13650)\n",
            "(datetime.datetime(2020, 1, 26, 0, 0), 'Canon 6D Mark II', 1, 'Carlos', 8500, 8500)\n",
            "(datetime.datetime(2020, 1, 26, 0, 0), 'Lente 50mm f/1.4', 1, 'Theo', 1649, 1649)\n",
            "(datetime.datetime(2020, 1, 27, 0, 0), 'Lente 85mm f/1.4', 1, 'Raquel', 9989, 9989)\n",
            "(datetime.datetime(2020, 1, 27, 0, 0), 'Canon 6D Mark II', 2, 'Fernanda', 8500, 17000)\n",
            "(datetime.datetime(2020, 1, 27, 0, 0), 'Filtro ND 2 Stop', 1, 'Carlos', 1220, 1220)\n",
            "(datetime.datetime(2020, 1, 28, 0, 0), 'Canon 5D Mark III', 1, 'Fernanda', 13650, 13650)\n",
            "(datetime.datetime(2020, 1, 28, 0, 0), 'Canon 6D Mark II', 1, 'Theo', 8500, 8500)\n",
            "(datetime.datetime(2020, 1, 28, 0, 0), 'DJI Mavic Air 2', 2, 'Theo', 13580, 27160)\n",
            "(datetime.datetime(2020, 1, 28, 0, 0), 'Canon 6D Mark II', 1, 'Carlos', 8500, 8500)\n",
            "(datetime.datetime(2020, 1, 28, 0, 0), 'Filtro ND 2 Stop', 1, 'Raquel', 1220, 1220)\n",
            "(datetime.datetime(2020, 1, 28, 0, 0), 'Canon 5D Mark III', 2, 'Theo', 13650, 27300)\n",
            "(datetime.datetime(2020, 1, 28, 0, 0), 'DJI Mavic Air 2', 1, 'Carlos', 13580, 13580)\n",
            "(datetime.datetime(2020, 1, 28, 0, 0), 'Filtro ND 5 Stop', 2, 'Raquel', 1220, 2440)\n",
            "(datetime.datetime(2020, 1, 28, 0, 0), 'Filtro ND 3 Stop', 1, 'Raquel', 1220, 1220)\n",
            "(datetime.datetime(2020, 1, 29, 0, 0), 'DJI Ronin-S', 2, 'Fernanda', 5790, 11580)\n",
            "(datetime.datetime(2020, 1, 29, 0, 0), 'Canon 6D Mark II', 1, 'Theo', 8500, 8500)\n",
            "(datetime.datetime(2020, 1, 29, 0, 0), 'Filtro ND 5 Stop', 2, 'Theo', 1220, 2440)\n",
            "(datetime.datetime(2020, 1, 29, 0, 0), 'Lente 16-35mm f/2.8', 2, 'Theo', 8997, 17994)\n",
            "(datetime.datetime(2020, 1, 29, 0, 0), 'Filtro ND 2 Stop', 1, 'Fernanda', 1220, 1220)\n",
            "(datetime.datetime(2020, 1, 30, 0, 0), 'Filtro ND 3 Stop', 2, 'Fernanda', 1220, 2440)\n",
            "(datetime.datetime(2020, 1, 30, 0, 0), 'Filtro ND 5 Stop', 2, 'Raquel', 1220, 2440)\n"
          ]
        }
      ]
    },
    {
      "cell_type": "markdown",
      "source": [
        "#**3 - Manipulando os dados**\n",
        "\n",
        "Até agora o que fizemos foi retornar tuplas com informações sobre as céluas. Para manipular esses dados, é mais prático que utilizemos outra estrutura de dados, para extrair e exeplorar essas informações. Importante lembrar sempre que é primordial checar e realizar a atualização da biblioteca, utilizando o `!pip install -U openpyxl -q`.\n",
        "\n",
        "\n",
        "<center><img width=\"50%\" src=\"https://img.freepik.com/fotos-gratis/mulher-tocando-uma-interface-holografica-de-tecnologia-inteligente_53876-98409.jpg?w=740&t=st=1663782783~exp=1663783383~hmac=15bcc62445cc9761ac0f0601d05c4677d3695bdac2420b89bc4fe3d611d3d627\"></center>\n"
      ],
      "metadata": {
        "id": "4lEOrmwnlh8e"
      }
    },
    {
      "cell_type": "markdown",
      "source": [
        "## Dados Analisados\n",
        "\n",
        "Os dados utilizados desta vez serao de um catálogo de relógios comercializados pelo [Amazon](https://www.amazon.com), vide arquivo importado abaixo."
      ],
      "metadata": {
        "id": "40h_PvBLmGCN"
      }
    },
    {
      "cell_type": "code",
      "source": [
        "# carregando a planilha\n",
        "from openpyxl import load_workbook\n",
        "\n",
        "workbook = load_workbook(filename='sample.xlsx')\n",
        "\n",
        "# verifcando as abas\n",
        "sheet_amazon = workbook.active"
      ],
      "metadata": {
        "id": "hBoTHF3TmbZU"
      },
      "execution_count": null,
      "outputs": []
    },
    {
      "cell_type": "markdown",
      "source": [
        "Carregada a nossa planilha, podemos realizar a iteração de todos os dados, utilizando a estrutura for, com o método iter_rows."
      ],
      "metadata": {
        "id": "HaxLyq5bnQJ0"
      }
    },
    {
      "cell_type": "code",
      "source": [
        "# iterando sobre os dados\n",
        "for value_amazon in sheet_amazon.iter_rows(values_only=True):\n",
        "  print(value_amazon)"
      ],
      "metadata": {
        "colab": {
          "base_uri": "https://localhost:8080/"
        },
        "id": "NpoCeBYgnYns",
        "outputId": "677beada-1f15-4d3f-943c-5a5f5a24956d"
      },
      "execution_count": null,
      "outputs": [
        {
          "output_type": "stream",
          "name": "stdout",
          "text": [
            "('marketplace', 'customer_id', 'review_id', 'product_id', 'product_parent', 'product_title', 'product_category', 'star_rating', 'helpful_votes', 'total_votes', 'vine', 'verified_purchase', 'review_headline', 'review_body', 'review_date')\n",
            "('US', 3653882, 'R3O9SGZBVQBV76', 'B00FALQ1ZC', 937001370, 'Invicta Women\\'s 15150 \"Angel\" 18k Yellow Gold Ion-Plated Stainless Steel and Brown Leather Watch', 'Watches', 5, 0, 0, 'N', 'Y', 'Five Stars', 'Absolutely love this watch! Get compliments almost every time I wear it. Dainty.', '2015-08-31')\n",
            "('US', 14661224, 'RKH8BNC3L5DLF', 'B00D3RGO20', 484010722, \"Kenneth Cole New York Women's KC4944 Automatic Silver Automatic Mesh Bracelet Analog Watch\", 'Watches', 5, 0, 0, 'N', 'Y', 'I love thiswatch it keeps time wonderfully', 'I love this watch it keeps time wonderfully.', '2015-08-31')\n",
            "('US', 27324930, 'R2HLE8WKZSU3NL', 'B00DKYC7TK', 361166390, 'Ritche 22mm Black Stainless Steel Bracelet Watch Band Strap Pebble Time/Pebble Classic', 'Watches', 2, 1, 1, 'N', 'Y', 'Two Stars', 'Scratches', '2015-08-31')\n",
            "('US', 7211452, 'R31U3UH5AZ42LL', 'B000EQS1JW', 958035625, \"Citizen Men's BM8180-03E Eco-Drive Stainless Steel Watch with Green Canvas Band\", 'Watches', 5, 0, 0, 'N', 'Y', 'Five Stars', 'It works well on me. However, I found cheaper prices in other places after making the purchase', '2015-08-31')\n",
            "('US', 12733322, 'R2SV659OUJ945Y', 'B00A6GFD7S', 765328221, \"Orient ER27009B Men's Symphony Automatic Stainless Steel Black Dial Mechanical Watch\", 'Watches', 4, 0, 0, 'N', 'Y', 'Beautiful face, but cheap sounding links', \"Beautiful watch face.  The band looks nice all around.  The links do make that squeaky cheapo noise when you swing it back and forth on your wrist which can be embarrassing in front of watch enthusiasts.  However, to the naked eye from afar, you can't tell the links are cheap or folded because it is well polished and brushed and the folds are pretty tight for the most part.<br /><br />I love the new member of my collection and it looks great.  I've had it for about a week and so far it has kept good time despite day 1 which is typical of a new mechanical watch\", '2015-08-31')\n",
            "('US', 6576411, 'RA51CP8TR5A2L', 'B00EYSOSE8', 230493695, \"Casio Men's GW-9400BJ-1JF G-Shock Master of G Rangeman Digital Solar Black Carbon Fiber Insert Watch\", 'Watches', 5, 0, 0, 'N', 'Y', 'No complaints', 'i love this watch for my purpose, about the people complaining should of done their research better before buying. dumb people.', '2015-08-31')\n",
            "('US', 11811565, 'RB2Q7DLDN6TH6', 'B00WM0QA3M', 549298279, \"Fossil Women's ES3851 Urban Traveler Multifunction Stainless Steel Watch - Rose\", 'Watches', 5, 1, 1, 'N', 'Y', 'Five Stars', 'for my wife and she loved it, looks great and a great price!', '2015-08-31')\n",
            "('US', 49401598, 'R2RHFJV0UYBK3Y', 'B00A4EYBR0', 844009113, 'INFANTRY Mens Night Vision Analog Quartz Wrist Watch with Nato Nylon Watchband-Red.', 'Watches', 1, 1, 5, 'N', 'N', 'I was about to buy this thinking it was a ...', 'I was about to buy this thinking it was a Swiss Army Infantry watch-- the description uses the words infantry and army--- when I realized it must be a fraud for $12.00. This should not be offered on Amazon-- it is designed to confuse consumers.', '2015-08-31')\n",
            "('US', 45925069, 'R2Z6JOQ94LFHEP', 'B00MAMPGGE', 263720892, \"G-Shock Men's Grey Sport Watch\", 'Watches', 5, 1, 2, 'N', 'Y', 'Perfect watch!', \"Watch is perfect. Rugged with the metal &#34;Bull Bars&#34;. The red accents are a great touch and I get compliments when wearing it. If you are worried about being able to read this in sunlight or in the dark don't! The LED ilumination works great! I might even get this in a different color for my next G-Shock purchase!\", '2015-08-31')\n",
            "('US', 44751341, 'RX27XIIWY5JPB', 'B004LBPB7Q', 124278407, 'Heiden Quad Watch Winder in Black Leather', 'Watches', 4, 0, 0, 'N', 'Y', 'Great quality and build', 'Great quality and build.<br />The motors are really silent.<br />After fiddling with the settings my watches are always charged and ready to use.', '2015-08-31')\n",
            "('US', 9962330, 'R15C7QEZT0LGZN', 'B00KGTVGKS', 28017857, \"Fossil Women's ES3621 Serena Crystal-Accented Two-Tone Stainless Steel Watch\", 'Watches', 4, 2, 2, 'N', 'Y', 'Satisfied', \"The watch was pretty much as it was described and how it looks. I really like the simplicity of it and it looks pretty amazing. It is slightly too big, so I have yet to adjust it, but I'm glad it's too big rather than too small. The weight is good which is what I was hoping for. Very satisfied with this purchase. I was slightly on the fence getting this one because of the previous fossil watch I had, which by some time, did have some gems fall off from ring around the numbers, but so far so good with this one! Excuse my bad lighting for my pic.\", '2015-08-31')\n",
            "('US', 16097204, 'R361XSS37V0NCZ', 'B0039UT5OU', 685450910, \"Casio General Men's Watches Sporty Digital AE-2000W-1AVDF - WW\", 'Watches', 1, 0, 0, 'N', 'N', 'I do not think this watch is a good product. Do not buy it', 'I bought this watch on 2013, the screen had a problem 10 months later. I sent the watch back to Casio Service Center in LA, they sent to me a replacement new watch. Last week, less than one year after I received the new watch, the battery is out.  I went to a shop to replace the battery. Then the A button of the watch do not working, so I could not change the time and other settings. I do not think this watch is a good product. Do not buy it.', '2015-08-31')\n",
            "('US', 51330346, 'ROTNLALUAJAUB', 'B00MPF0XJQ', 767769082, '2Tone Gold Silver Cable Band Ladies Bangle Cuff Watch', 'Watches', 3, 0, 0, 'N', 'Y', 'Three Stars', \"It is a cheap watch that looks cheap.  There isn't much else to say.\", '2015-08-31')\n",
            "('US', 4201739, 'R2DYX7QU6BGOHR', 'B003P1OHHS', 648595227, \"Bulova Men's 98B143 Precisionist Charcoal Grey Dial Bracelet Watch\", 'Watches', 5, 0, 0, 'N', 'Y', 'Five Stars', 'Heavier than i though', '2015-08-31')\n",
            "('US', 26339765, 'RWASY7FKI7QOT', 'B00R70YEOE', 457338020, 'Casio - G-Shock - Gulfmaster - Black - GWN1000C-1A', 'Watches', 5, 2, 3, 'N', 'Y', 'Worth it - love it', 'Had it for several weeks now and I love it - reliable, functional, wears easy, not too heavy.  I also get a lot of comments on it - great watch!', '2015-08-31')\n",
            "('US', 2692576, 'R2KKYZIN3CCL21', 'B000FVE3BG', 824370661, \"Invicta Men's 3329 Force Collection Lefty Watch\", 'Watches', 5, 0, 0, 'N', 'Y', 'This is when different is good.', 'This one is different from the rest of my Invictas. I like the big watches but this one gave a classy more defined look for the craftsmanship. All of the colors compliment each other. It all starts from the stitching of the band.  Very nice watch.', '2015-08-31')\n",
            "('US', 44713366, 'R22H4FGVD5O52O', 'B008X6JB12', 814431355, \"Seiko Women's SUT068 Dress Solar Classic Diamond-Accented Two-Tone Stainless Steel Watch\", 'Watches', 4, 1, 1, 'N', 'Y', 'Thewatch is attractive and easy to read', \"The watch is attractive and easy to read, except for the date. The little diamonds are very, very tiny. All in all, I'm happy with it.\", '2015-08-31')\n",
            "('US', 32778769, 'R11UACZERCM4ZY', 'B0040UOFPW', 187700878, \"Anne Klein Women's 109271MPTT Swarovski Crystal Accented Two-Tone Multi-Chain Bracelet Watch\", 'Watches', 5, 0, 0, 'N', 'Y', 'Five Stars', 'said my wife..', '2015-08-31')\n",
            "('US', 27258523, 'R1AT8NQ38UQOL6', 'B00UR2R5UY', 594315262, \"Guess U13630G1 Men's day and date Gunmetal dial Gunmetal tone bracelet\", 'Watches', 5, 0, 0, 'N', 'Y', 'Five Stars', 'Nice watch, on time delivery from seller.', '2015-08-31')\n",
            "('US', 42646538, 'R2NCZRQGIF1Q75', 'B00HFF57L0', 520810507, \"Nixon Men's Geo Volt Sentry Stainless Steel Watch with Link Bracelet\", 'Watches', 4, 0, 0, 'N', 'Y', 'Very stylish', 'Looks great and love to wear this watch.  Only negative thing is due to its blue/black colors, it is difficult to read in average or low light.  Good thing for me, I wear a watch for looks and not really for telling the time.', '2015-08-31')\n",
            "('US', 46017899, 'RJ9HWWMU4IAHF', 'B00F5O06E6', 601596859, \"Nautica Men's N14699G BFD 101 Chrono Classic Stainless Steel Watch with Brown Band\", 'Watches', 4, 1, 1, 'N', 'Y', 'Good looking watch', \"I really like this watch. It has a great face that contrasts nicely with the white numerals. Keeps time accurately. Overall very pleased. I really like its distinctive look. It's also durable and water proof. I leave it on when I go kayaking or out on the boat fishing.\", '2015-08-31')\n",
            "('US', 37192375, 'R3CNTCKG352GL1', 'B00CHS398I', 798261110, 'HDE Watch Link Pin Remover Band Strap Repair Tool Kit for Watchmakers with Pack of 3 Extra Pins', 'Watches', 4, 0, 0, 'N', 'Y', 'Works great but the watch a used it on was slim ...', 'Works great but the watch a used it on was slim so I had to use a quarter to rase it up the right height', '2015-08-31')\n",
            "('US', 11710007, 'R9Q2LDSES6NBL', 'B003OQ4TA4', 557813802, \"Timex Women's Q7B860 Padded Calfskin 8mm Black Replacement Watchband\", 'Watches', 4, 0, 0, 'N', 'Y', 'Fits perfect on my', 'Just what I needed for my Timex watch. Fits perfect on my wrist', '2015-08-31')\n",
            "('US', 6673146, 'R3629T8HDV5VWU', 'B007X0SYEY', 22870009, 'Movado Men\\'s 0606545 \"Museum\" Perforated Black-Rubber Strap Sport Watch', 'Watches', 5, 1, 1, 'N', 'Y', 'Great Buy!', \"Absolutely LOVE this watch! Amazon prime saved me over $400 after tax from the store prices. Between the great buy and the Coolness of this watch it was an amazing purchase. I can't stop looking at it. Movado is an excellent brand. Time keeping is perfect. Quality is perfect.\", '2015-08-31')\n",
            "('US', 7899951, 'R2CLMKC0IVZ9UX', 'B005KPL7FM', 269520616, \"Invicta Men's 6674 Corduba Chronograph Black Dial Polyurethane Watch\", 'Watches', 5, 0, 0, 'N', 'Y', 'Five Stars', 'Its too large. When you order check the size of the case.', '2015-08-31')\n",
            "('US', 27979201, 'R2QGEJRU4ENYN2', 'B00FNIFI2O', 330558574, \"Szanto Men's SZ 2001 2000 Series Classic Vintage-Inspired Stainless Steel Watch with Pebbled Leather Band\", 'Watches', 5, 1, 1, 'N', 'N', 'This was awatch I bought during a quick sale thing', \"This was a watch I bought during a quick sale thing, so it was cheaper than normal.  I bought it as a daily wear.  It's really a decent watch for the price; a retro look with a modern movement.\", '2015-08-31')\n",
            "('US', 912779, 'R2E5STTYU6LTSC', 'B005JVP0FU', 220345054, \"Casio Men's MRW200H-7EV Sport Resin Watch\", 'Watches', 4, 0, 0, 'N', 'Y', 'Four Stars', 'It works well with nice simple look.', '2015-08-31')\n",
            "('US', 44345527, 'RI97MTVX08KWX', 'B004M23SDI', 299884359, 'Casio F-108WH-2AEF Mens Blue Digital Watch', 'Watches', 3, 0, 0, 'N', 'Y', 'Thought that I read somewhere that you could swim with ...', 'Thought that I read somewhere that you could swim with it. It does not however bear the 50M Water Resistance designation.', '2015-08-31')\n",
            "('US', 2659331, 'RK20LJG750ERC', 'B00RV2L8CE', 714311106, \"August Steiner Men's AS8160TTG Silver And Gold Swiss Quartz Watch with Black Dial and Two Tone Bracelet\", 'Watches', 5, 0, 0, 'N', 'Y', 'Great Watch', 'Perfect Condition, Arrived on Time,Works & Looks Great', '2015-08-31')\n",
            "('US', 805483, 'R1HQZDBB90LMFH', 'B000JQJS6M', 926299553, \"Invicta Men's 8928OB Pro Diver Gold Stainless Steel Two-Tone Automatic Watch\", 'Watches', 5, 2, 2, 'N', 'Y', 'Very Impressive', \"This watch is a very beautiful time piece. This also could be an alternative choice to a Rolex submariner. It also has the same features as a Rolex submariner but it's not as good as a Rolex watch but darn close.<br /><br />Take good care of this watch if you get one because it has gold plating on it. This watch is 'Not' a sport watch.<br /><br />This watch features<br />-Rotating timer dial<br />-All stainless steel (kinda heavy)<br />-Glow in the dark<br />-Water resistant to 200 meters (600 feet)<br />-Automatic winding (from wrist movements)<br />-Shows date<br />-Very beautiful<br /><br />Sizeing isn't difficult, I sized mine by using a thumbtack and a hammer to tap the pins out of the band and I tapped a pin back into the band after removing three band links. If you don't know what your doing then just take it to s jewelry store so they can size it for you\", '2015-08-31')\n",
            "('US', 42590995, 'R2XHQHGXIEYTNI', 'B00VXLJD44', 578998634, \"BOS Men's Automatic self-wind mechanical Pointer Skeleton Watch Black Dial Stainless Steel Band 9008\", 'Watches', 3, 1, 3, 'N', 'Y', 'The epitome of form before function.', \"This is a beautiful watch. I love the look and feel of it, and I get complimented on it all the time. If that were the entirety of the story, this would be a 5 star review.<br /><br />Unfortunately, the most important part of this watch, the functionality, has some issues. Despite this being an automatic winding watch, it doesn't always stay wound. I have had days where I had to re-wind it before the end of the day. Most days however, it does last through the day. I just have to wind it and set the time again in the morning. Other mechanical self winding watches I own will in fact not need to be wound again until I stop wearing them for a full day. In addition, I can't always get the spring fully wound before it will start clicking and the spring skips off the winding gear.<br /><br />If I hadn't been so lazy, I would have returned this watch. Unfortunately, I missed the 30 day return window. So now I'm stuck with an only mostly working but beautiful watch. I guess that makes it kinda like a fashion model. When I think of it that way, it's not quite so disappointing.\", '2015-08-31')\n",
            "('US', 48880662, 'R2BVFRIR7A5UD1', 'B004EFGBW8', 727624097, \"Luminox Men's 3081 Evo Navy SEAL Chronograph Watch\", 'Watches', 5, 0, 0, 'N', 'Y', 'Five Stars', 'very good', '2015-08-31')\n",
            "('US', 112967, 'R3O51G2D52W9DD', 'B00G9X76DG', 86861596, 'INFANTRY Mens 50mm Big Face Military Tactical Analog Digital Sport Wrist Watch Black Silicone Band', 'Watches', 5, 1, 1, 'N', 'Y', 'Surpassed my expectations', 'I was very apprehensive about buying a 28 dollar watch online, but it looked so much like the 400 dollar Invicta Coalition forces watch I was wanting that I went for it.  I was very pleased when it arrived.  It is a BIG, heavy, sharp looking watch and I could not be happier. I am sure I will be purchasing the solid black one as well', '2015-08-31')\n",
            "('US', 51346302, 'R2O0LW0AZ67P3X', 'B00SFTTZ9U', 8403354, \"BUREI Dress Women's Minimalist Wrist Watches with Date Analog Quartz Stainless Steel and Ultra Slim Dial\", 'Watches', 5, 4, 5, 'N', 'N', 'A classy looking watch', '[[VIDEOID:cc599be25462207f860e42621171d7e1]]This watch has an understated clean and classy design.  It looks elegant. It has a stainless steel body and genuine leather band.  The band maximum width 7.5\\\\\\\\\" (last hole), if needed additional holes could be made to make it as wide as 8\\\\\\\\\".<br /><br />The face of the watch is 1 3/16\\\\\\\\\" wide and the watch is 1/4\\\\\\\\\" thick. The back of the watch states it has Japanese quartz movement.  The watch is water resistant to rain and splashing but cannot be submerged into water.<br /><br />This watch is made in China but includes an English manual. The manual covers several watches so it is a somewhat confusing as it refers to self-winding watches as well as quartz watches like this one.  The third page in the manual can be used as a guide to the watch adjustment method.  I found the controls to be simple, everything is controlled by the position of the crown. It can be pulled out into two position, the first position allows change the day of the month, the second position moves the arms.<br /><br />Overall, this is a very attractive classy looking watch.  It comes in attractive package, the box has a pillow and include a gift bag.<br /><br />This watch is provided by BUREI for review.  Getting a review product does not influence what I say, I leave critical reviews as well as positive reviews like this one.<br /><br />Ali Julia review', '2015-08-31')\n",
            "('US', 32555369, 'R2KBTEW8GUENVS', 'B00NC8PMUK', 944169262, 'Motorola Moto 360 Modern Timepiece Smart Watch - Black Leather 00418NARTL', 'Watches', 5, 0, 1, 'N', 'Y', 'Great buy', 'Awesome watch for the price', '2015-08-31')\n",
            "('US', 150916, 'R2R4XPHTT9CCBN', 'B00C1C5J9W', 851584415, 'Domire Fashion Accessories Trial Order New Quartz Fashion Weave Wrap Around Leather Bracelet Lady Woman Butterfly Wrist Watch', 'Watches', 5, 0, 0, 'N', 'Y', 'Love this watch', 'Love this watch, I just received it yesterday it looks really nice on my  wrist, my friends and family love it.', '2015-08-31')\n",
            "('US', 36363182, 'R7GHUDPGT3WJC', 'B000GB0G5M', 492842685, \"Casio Women's LQ139B-1B Classic Round Analog Watch\", 'Watches', 3, 0, 0, 'N', 'Y', 'Nice watch but band is a little small', 'Nice face, easy to read. The band is a little too small.', '2015-08-31')\n",
            "('US', 10356300, 'R364RU42RZ606Z', 'B00F8AWMXA', 397647155, \"Invicta Men's 15256 I-Force Gunmetal Ion-Plated Stainless Steel Watch with Black Leather Strap\", 'Watches', 1, 0, 0, 'N', 'Y', 'One Star', 'crap', '2015-08-31')\n",
            "('US', 52437550, 'R2D5SV3UNHQPYZ', 'B005MDPAPU', 645499118, \"Casio Men's Slim Solar Multi-Function Analog-Digital Watch\", 'Watches', 4, 0, 0, 'N', 'Y', 'Easy to read with lots of features', 'This is now my everyday watch.  Easy to read with lots of features.  Light  and functional.  You can not beat the price.  It is clean in detail and I love the watch.', '2015-08-31')\n",
            "('US', 14495291, 'R15OQG60W2R4PQ', 'B006C8NJY8', 865472849, 'TS6202BLK 8 Belt Box Organizer Black Leather XL Compartments', 'Watches', 5, 0, 0, 'N', 'Y', 'amazing product keeps everything safe and secure organized great quality ...', 'amazing product keeps everything safe and secure organized great quality for my designer belts perfect for homes or traveling', '2015-08-31')\n",
            "('US', 16192612, 'R2XF4SMK4HKNVV', 'B00791YURC', 310034618, \"Casio Men's GW2310FB-1CR G-Shock Shock Resistant Multifunction Watch\", 'Watches', 3, 0, 0, 'N', 'Y', \"Size of a woman's watch\", \"Watch looks amazing and the features are second to none, but....the watch is small.  I have a PAW-5000 which dwarfs it.  I had to look at the box to make sure I didn't get a woman's watch.  No joke, the band on my, average at best, sized wrist almost couldn't accommodate it.  Probably had 1.5 inch left on the band after I put it on.  Make this Man-size and it would fantastic.\", '2015-08-31')\n",
            "('US', 19983148, 'RQ70UFZVX7UVJ', 'B00S69FO0I', 406011595, \"U.S. Polo Assn. Sport Men's US9506 Analog-Digital Display Silver-Tone Watch with Textured Band\", 'Watches', 1, 0, 0, 'N', 'Y', 'poor quality', 'Metal color was changed after the first use , which indicates a very poor quality', '2015-08-31')\n",
            "('US', 27325652, 'R2288KJ7D0H149', 'B00C7IQBRY', 201258316, \"Cerentino Women's CR106-TQ  Turquoise Silicone Rubber Rhinestones Watch\", 'Watches', 4, 1, 1, 'N', 'Y', 'Really cute watch', 'So far so good. I have only had this watch a few weeks & so far it is still working. Style is really cute exactly as pictured', '2015-08-31')\n",
            "('US', 14530627, 'RKJ0UN6XEJKIP', 'B009S4U1TY', 830280907, \"Batman Kids' BAT4072 Black Rubber Batman Logo Strap Watch\", 'Watches', 5, 0, 0, 'N', 'Y', 'Five Stars', 'Grand Kids loved this', '2015-08-31')\n",
            "('US', 6648801, 'R3VFQZTEST0L7U', 'B000B55AEA', 851729310, 'Timex Easy Reader Day-Date Leather Strap Watch', 'Watches', 5, 0, 0, 'N', 'Y', 'Love it!!!', 'Have worn it constantly, love the light at night', '2015-08-31')\n",
            "('US', 15920046, 'RLQ8MLTO09215', 'B0053HDR78', 576694666, 'Casio F108WH Water Resistant Digital Blue Resin Strap Watch', 'Watches', 5, 0, 0, 'N', 'Y', 'Five Stars', 'Wife loves it and nice looking watch,', '2015-08-31')\n",
            "('US', 2902435, 'R2PCHVAM074L1I', 'B00NC8PMUK', 944169262, 'Motorola Moto 360 Modern Timepiece Smart Watch - Black Leather 00418NARTL', 'Watches', 4, 0, 0, 'N', 'Y', 'Decent price-tag, more than average product', 'Great product . Love the continous innovation in this field and given the price-tag of $149, this product is a steal . Bought it 1 week back . Battery is satisfactory . Charges fast . Discharges within 12-15 hours . But it has a touch screen, so naturally its going to eat-up battery. For entry level android-wear, pretty decent', '2015-08-31')\n",
            "('US', 13929294, 'R2WV1IG5ORN33W', 'B008OIOLQO', 340110662, \"Ingersoll Men's IN1824CR Monticello Fine Automatic Timepiece Cream Dial Watch\", 'Watches', 5, 0, 0, 'N', 'Y', 'A very beautul and well-made pilots watch. Highly detailed ...', 'A very beautul and well-made pilots watch. Highly detailed dial,as well. The movement is tack- on for 24 hours but if you are not a ditch digger,wind it 20 revs  daily.', '2015-08-31')\n",
            "('US', 12696721, 'R2X7VDDS4ISTBC', 'B009PQB036', 696981257, \"Lucien Piccard Men's 11576-YG-01 Clariden Black Textured Dial Watch\", 'Watches', 5, 0, 1, 'N', 'Y', 'Great looking watch!', \"Comfortable, looks great, very lightweight.The band is a little on the short side, but it's usable and not a big deal to replace.\", '2015-08-31')\n",
            "('US', 4774720, 'R2POCZUBL0D0NX', 'B007X0E178', 953514677, \"XOXO Women's XO5478 Rhinestone-Accented Two-Tone Watch\", 'Watches', 5, 0, 0, 'N', 'Y', 'Five Stars', 'excelent product', '2015-08-31')\n",
            "('US', 12074902, 'R2Z9C8BYOJF24I', 'B00BXQSHRI', 714629498, 'Watch Case Press with 12 Nylon Dies, Watch Case Closer Set', 'Watches', 5, 0, 0, 'N', 'Y', 'Sturdy and well constructed', 'This press is very well constructed and sturdy. The different dies are easily interchangeable. A good tool for watches and miniature work.', '2015-08-31')\n",
            "('US', 44068063, 'R1EBMIQ69CZ64', 'B00ZI3SGXM', 294102740, \"Stuhrling Original Women's 956.02 Symphony Gold-Tone Watch with Brown Genuine Leather Band\", 'Watches', 4, 0, 0, 'N', 'Y', 'Four Stars', \"Love the look but the leather band is so stiff it doesn't conform well to my wrist.\", '2015-08-31')\n",
            "('US', 916000, 'R2PVH1MHLKN9A7', 'B0053A0HB4', 199546574, 'Casio G-shock Mudman Multiband6 Japanese Model [ Gw-9300-1jf ]', 'Watches', 5, 0, 0, 'N', 'Y', 'excellent product.', 'Beyond my expectation..excellent product..good quality, well built, nicely done..:)', '2015-08-31')\n",
            "('US', 1196727, 'R1SOUO6DCO4X5H', 'B00QBTQX50', 29617990, 'iStrap Calfskin Leather Watch Band Replacement Choice of Color & Width (18mm,19mm, 20mm,21mm or 22mm)', 'Watches', 1, 0, 1, 'N', 'Y', 'One Star', 'It was bad it didnt fit my 22mm retro casio', '2015-08-31')\n",
            "('US', 7503824, 'R32ZIHMEIOPDZN', 'B00G3JSF22', 978361500, \"G-SHOCK Men's GA-100 Neon Highlights Watch\", 'Watches', 5, 0, 0, 'N', 'N', '8/10 Only gripe is that I wish the back light was a tad better.', 'Watch kicks ass. Upon putting on this watch you will grow a full beard and be able to tame a pack of wolves by looking at them. 8/10 Only gripe is that I wish the back light was a tad better.', '2015-08-31')\n",
            "('US', 14512093, 'R1HLVYTW271JWX', 'B002NQXYL6', 161383158, 'Voguestrap TX046801XL Allstrap 16-20mm Brown Extra-Long-Length Fits Fast-Wrap Expedition Watchband', 'Watches', 3, 0, 0, 'N', 'Y', \"It's a good value, and a good functional watch strap\", \"It's a good value, and a good functional watch strap.  It's super wide though, and takes more space on the wrist than I'd like.\", '2015-08-31')\n",
            "('US', 2143821, 'R2Z9MTUMD7LGLN', 'B004MAZN3I', 165342893, \"Seiko Men's SNKK27 Seiko 5 Stainless Steel Automatic Watch\", 'Watches', 5, 0, 0, 'N', 'Y', 'Wish the seller would furnish a model that works.', 'Loved the watch; it just did not work supposedly self-winding; tried all possible motions to cause the winder clearly visible from the rear of the watch; no luck', '2015-08-31')\n",
            "('US', 18380508, 'R3RZZY4RZJUBOW', 'B000JQFX1G', 400836338, \"Invicta Men's 8926OB Pro Diver Stainless Steel Automatic Watch with Link Bracelet\", 'Watches', 3, 0, 0, 'N', 'Y', 'Worth the money, be careful with the glass.', 'Alrighty, after seeking out the ultimate low-profile, ultra water resistant, mechanical watch with a rotating bezel and date for less than $100, I settled on this.<br /><br />It looks much like the famous Rolex Submariner, and performs similarly.<br /><br />However, after about a year of use now, the paint on the bezel is chipping, and after a decent smack on the hood of a car the crystal has cracked and all but shattered.<br /><br />It keeps time fairly well, gaining about 15 seconds per day, without taking it to a healer for fine tuning.', '2015-08-31')\n",
            "('US', 431372, 'R1ZXB27702XVCE', 'B00A6B9N6U', 491671113, \"Swiss Legend Women's 11044D-01 Neptune Black Dial Watch with Silicone Band\", 'Watches', 5, 0, 0, 'N', 'Y', 'Five Stars', 'Love it', '2015-08-31')\n",
            "('US', 1567510, 'RSFQ1G70Z858U', 'B00HJ7T0OY', 822340800, \"Absolute Hot Iron man Super Hero build-in Blue LED for Men's luxury Army military Wrist Watches\", 'Watches', 3, 0, 0, 'N', 'Y', \"I wouldn't order it again for myself.\", 'Not bad but a little tacky. It does have substantial weight for a $15 watch.', '2015-08-31')\n",
            "('US', 34086987, 'R2UV2KNKCZBLK9', 'B004401KHE', 604208769, \"Seiko Men's White Dial Brown Leather Easy Reader Solar Calendar Watch\", 'Watches', 5, 0, 0, 'N', 'Y', 'I thought it looked beautiful. My boyfriend loved it', \"I thought it looked beautiful.  My boyfriend loved it.  It's only been a few days, so I can't comment on durability.  But, I didn't have some of the problems mentioned in other reviews--the little dots around the outside glowed like they were supposed to, it was easy to set including the date, the band was fine and long enough even though my boyfriend wears it loose.  Great price too--I see them in stores for nearly twice what I paid.\", '2015-08-31')\n",
            "('US', 1685723, 'R9UQFP5AYOWD4', 'B001UGDB0O', 762085956, 'Michael Kors Womens MK5145 - Runway Chronograph', 'Watches', 5, 0, 0, 'N', 'Y', 'Beautiful and sophisticated', 'More beautiful in person. High quality! Looks understated but so sophisticated! It was a gift for my mother and she loved it!', '2015-08-31')\n",
            "('US', 3307875, 'R3V27ZXF549EAQ', 'B00L4JRXIS', 627047973, \"Armitron Sport Women's 25/6416 Easy To Read Dial Resin Strap Watch\", 'Watches', 3, 0, 0, 'N', 'Y', 'Sport watch', \"It's a nice watch but if you have a large arm it will not fit  well.  does good under water I use when I go to water aerobic to keep tack of my time\", '2015-08-31')\n",
            "('US', 47955030, 'R2W4OB11T2UXAV', 'B009PQB5K4', 418141913, \"Lucien Piccard Men's 11577-RG-02S Stockhorn Silver Textured Dial Brown Leather Watch\", 'Watches', 5, 0, 0, 'N', 'Y', 'Beautiful watch! Looks better on the wrist than in ...', 'Beautiful watch! Looks better on the wrist than in the picture.  Could not have been more pleased. A great addition to my collection.', '2015-08-31')\n",
            "('US', 36687968, 'R2MBPYZV5SYT5B', 'B003M2G0SY', 908936114, 'LEGO Star Wars Yoda Kids Buildable Watch with Link Bracelet and Minifigure | green/gray | plastic | 28mm case diameter| analog quartz | boy girl | official', 'Watches', 4, 0, 0, 'N', 'Y', 'he loved', 'Bought for a cousin, he loved it', '2015-08-31')\n",
            "('US', 37595973, 'R2NU7Y4TV3Z9Q7', 'B002SSUQFG', 354933056, \"Seiko Men's SNK809 Seiko 5 Automatic Stainless Steel Watch with Black Canvas Strap\", 'Watches', 5, 0, 0, 'N', 'Y', 'Five Stars', 'Man watch for woman, just a right size and design for it.', '2015-08-31')\n",
            "('US', 50033390, 'R38NIR3U01EIS4', 'B003622WUK', 890272218, \"Tissot Women's T0492103303300 PR 100 Gold-Tone Silver Dial Watch\", 'Watches', 4, 1, 1, 'N', 'Y', 'I like the watch', \"I like the watch!  I had its predecessor and enjoyed it until all the numbers started to fall off.  Hope that does not happen to this one.  The numbers run together it's sometimes difficult to distinguish the time.  I'm adjusting to it.  Like the new clasp.\", '2015-08-31')\n",
            "('US', 28119981, 'RZ999X8LL9GU7', 'B00L8M9Z32', 686288185, \"CASIO BABY-G (BG-6900SG-8JF) GLITTER DIAL SERIES LADY'S WATCH JAPANESE MODEL 2014 JULY RELEASED\", 'Watches', 5, 0, 0, 'N', 'Y', 'Sparkly and nice', \"I have many Baby-G's, but none have gotten as much attention and compliments as this one. The glitter pops out at everyone and the silver makes it look feminine and sleek. I paid $120 for it, wayy more than I usually pay for Baby-G's, but I think it was worth it, especially since it's a special Japanese model. Probably won't see many people with this watch making it pretty unique. I like the background light is a light blue color, goes well with the color of the watch.\", '2015-08-31')\n",
            "('US', 24667426, 'R34A40GBG3IVJD', 'B000GAWSA4', 700023949, \"Casio Men's AW80V-1BV\", 'Watches', 5, 0, 0, 'N', 'Y', 'Five Stars', 'Perfect watch for camping and hiking.', '2015-08-31')\n",
            "('US', 207824, 'R2DAHAETN8AOHL', 'B004YM2FV2', 649128875, 'Bling Jewelry Plated Classic Round CZ Ladies Watch', 'Watches', 5, 0, 0, 'N', 'Y', 'Five Stars', 'the watch is beautiful, a little on the big side but it is perfect!!!!! LOVE LOVE LOVE!!!!!', '2015-08-31')\n",
            "('US', 46189902, 'R1A6ZHMS6ED9SM', 'B008RNKIV8', 341504925, \"Citizen Men's AT8020-54L Blue Angels Stainless Steel Eco-Drive Dress Watch\", 'Watches', 5, 0, 1, 'N', 'Y', 'The watch as expected was an amazing product from citizen', 'The watch as expected was an amazing product from citizen, however the the cover was in a damaged condition which was quite upsetting since I was planning to gift this to some one.', '2015-08-31')\n",
            "('US', 47558372, 'R4BUD64L0L617', 'B000SZNTLO', 544270597, 'Timex Ironman Sleek 50-Lap Full Size', 'Watches', 5, 0, 0, 'N', 'Y', 'Five Stars', 'great looking sports watch', '2015-08-31')\n",
            "('US', 33322445, 'R3JSX07PSTFFPE', 'B00MNC53XW', 567086073, 'Outop Wholesale Lot of 5pcs Womens Girls Butterfly Bracelet Wrist Watches', 'Watches', 5, 0, 0, 'N', 'Y', 'Fun and inexpensive', 'These were purchased for my daughter and her friend, but I liked them enough that I kept one for myself as well!', '2015-08-31')\n",
            "('US', 41784200, 'R100HLZJGWAXRP', 'B00BF77S2K', 479360900, \"Timex Kids' T7B9829J IronKids Translucent Blue Sport Watch\", 'Watches', 1, 2, 2, 'N', 'Y', 'Leaks water - total junk', \"This is junk.  Why would you name a watch an ironkid watch if it isn't made for swimming (last time I checked an ironman consisted of swim, bike and run)?  It claims it is water resistant but the watch leaks and it will die if your kid wears it in a pool.  Don't waste your money.\", '2015-08-31')\n",
            "('US', 26050402, 'R1PFCOIMT3ND68', 'B00OHD6SLG', 721711830, \"Cool Men's Racer Military Pilot Army Silicone Sports Watch\", 'Watches', 1, 0, 0, 'N', 'Y', 'One Star', 'Lens cracked on the third day', '2015-08-31')\n",
            "('US', 48880662, 'R2G0EK7EUCTDXU', 'B003DIP9BQ', 941077778, \"XOXO Women's XO110 Silver Dial Gold-tone Bracelet Watch\", 'Watches', 5, 0, 0, 'N', 'Y', 'Five Stars', 'very good', '2015-08-31')\n",
            "('US', 13675081, 'RBGAF34UPP636', 'B00L3VGTA0', 667419707, \"Armitron Men's Black Sunray Dial Silvertone Bracelet Watch\", 'Watches', 4, 0, 0, 'N', 'Y', 'My husband like it but he would have liked the dial face ...', \"My husband like it but he would have liked the dial face to be a little smaller. He is not used to the bigger face but getting used to it. The picture product was hard to tell about the dial face and don't think it mention about the dial face being bigger than normal. Besides that everything else is really well made.\", '2015-08-31')\n",
            "('US', 875559, 'R3FVL714L4L8BS', 'B00RCUTIRM', 731342946, \"Akribos XXIV Men's AK787YGBU Quartz Movement Watch with Blue Dial and Yellow Gold Stainless Steel Bracelet\", 'Watches', 5, 0, 0, 'N', 'Y', 'Five Stars', 'Excellent product and seller very good service', '2015-08-31')\n",
            "('US', 4014799, 'R2DOJG0AT3YOK4', 'B00V30U79K', 18936638, 'Topwell Mens Wood watches, Date Time 24hours Wooden watch with Round Multi-Eyed QUARTZ Wrist Watch for Gift', 'Watches', 5, 4, 4, 'N', 'N', 'amazing -- perfect gift', \"This is a very nice watch, i love that it's made of wood but black in color. The face is big and has three silver, decorative yet functional dials. It's extremely lightweight and comfortable to wear. It's so lightweight you could actually forget you're wearing it. The wood is very smooth and the semi-matte finish is very dressy.<br />The links move easily and is worn without catching or squeezing skin/hair. It's easy to adjust so it will fit a variety of  wrist sizesI love that it's water proof because although very dressy it can be worn for every day use.<br />This would make a great gift for any man in your life.<br />I received this product complimentary in exchange for my honest opinion but the opinion expressed is all my own.\", '2015-08-31')\n",
            "('US', 2228523, 'R29HFELXCSF7KD', 'B00STAXIHU', 690763506, \"Fossil Women's ES3822 Georgia Stainless Steel Watch with Blue Leather Band\", 'Watches', 5, 0, 0, 'N', 'Y', 'Five Stars', 'Love. That is pretty much it. Item as described, really beautiful and functional.', '2015-08-31')\n",
            "('US', 16309813, 'R1EZ1QK1I9BD70', 'B00DUW21F2', 87555656, \"Stuhrling Original Men's 574.03 Analog Executive II Stainless Steel Automatic Skeleton Watch with Brown Leather Band\", 'Watches', 5, 0, 0, 'N', 'Y', 'Five Stars', 'husband loves it', '2015-08-31')\n",
            "('US', 45661904, 'R1OXYDAWK2WUJ9', 'B00MO38XL4', 476271516, \"Armitron Sport Women's 25/6422BLK Easy to Read Dial Black Resin Strap Watch\", 'Watches', 5, 0, 0, 'N', 'Y', 'So pretty, strap is so soft', 'So pretty, strap is so soft, easy pliable rubber material. Unfortunately, bezel does not turn. But I recommend this for everyday nursing use.', '2015-08-31')\n",
            "('US', 106740, 'R27YN77RE11XHO', 'B00K8HMHCE', 575505209, \"Swiss Legend Men's 10068-03 Commander II Analog Display Swiss Quartz Blue Watch\", 'Watches', 4, 2, 2, 'N', 'Y', 'but I like it', \"The size and thickness is Huge. the color is eye Popping.The band is durable and ridged . the only problem I have is that it doesn't glow to mush in the dark. but I like it\", '2015-08-31')\n",
            "('US', 42795523, 'RW45AV6JXQPUN', 'B001DK6OKQ', 79293794, \"Stuhrling Original Men's 219.331657 Symphony Eternity Monterey Swiss Quartz Date Watch\", 'Watches', 3, 0, 0, 'N', 'N', 'Three Stars', 'the band broke in first week', '2015-08-31')\n",
            "('US', 10564575, 'R2ISDC90DZMHFM', 'B0094PS284', 842528710, 'LuckyStore 14mm 5X Watch Band Stainless Steel Spring Bars Strap Link Pin Watchmaker New', 'Watches', 5, 0, 0, 'N', 'Y', '14mm watch pin', \"This is exactly what I was looking for!  I fixed my watch band and haven't been happier!  I didn't need 5, but the extra 4 may come in handy.\", '2015-08-31')\n",
            "('US', 2239679, 'R1WVL1E6FMSFR4', 'B00FDLB2S0', 992050854, \"red line Men's RL-50042-YG-01 Stealth Chronograph Black Textured Dial Black Silicone Watch\", 'Watches', 5, 0, 0, 'N', 'Y', 'Five Stars', 'PERFECT', '2015-08-31')\n",
            "('US', 43807131, 'RGQ1YQSNQ3LE5', 'B00EVPMC88', 516415826, 'Seiko Men\\'s SNKL43 \"Seiko 5\" Stainless Steel Automatic Watch', 'Watches', 4, 0, 0, 'N', 'Y', 'Good seiko 5', 'A great automatic, but I give it 4 stars for being too conservative with its small size and the blue is dark and more of a navy color unless light is shining on it and reflecting. Other than that, like all based seiko 5s, it looks great on a Nato strap. I have this bad boy setup on a brown leather strap with a deployable clasp which looks very similar to the Omega Seamaster Aqua Terra. A great watch that can be worn in almost any occasion except when swimming', '2015-08-31')\n",
            "('US', 7189800, 'RE73CRP4JKXW1', 'B00G2R7E3Q', 131804424, \"Invicta Men's 14640 I-Force Analog Display Japanese Quartz Black Watch\", 'Watches', 1, 0, 0, 'N', 'Y', 'Disappointed by the huge size of it', \"Disappointed by the huge size of it, although yes they say in the specs it's a 52&#34; etc...<br />Sent it back. The taxes and p&p cost made me pay for it again.\", '2015-08-31')\n",
            "('US', 15305006, 'R2EQL1V1L6E0C9', 'B004LURNO6', 892860326, 'Nemesis #HST-K Unisex Black Wide Leather Cuff Wrist Watch Band', 'Watches', 5, 0, 0, 'N', 'Y', 'Five Stars', 'Love it', '2015-08-31')\n",
            "('US', 107342, 'RZOQUM3M5CAVH', 'B005OT1POW', 202690497, \"Tommy Hilfiger  Women's 1781145 Sport Stainless Steel  Watch\", 'Watches', 5, 0, 0, 'N', 'Y', 'Five Stars', 'Cool', '2015-08-31')\n",
            "('US', 138028, 'RRJBEIAITDLAQ', 'B007LPRLXG', 973233011, 'GUESS U17531G1 - Bold and Sporty Watch Silver', 'Watches', 2, 0, 0, 'N', 'N', 'i received watch in good condition, however he battery was not working and ...', 'first:<br />i received watch in good condition, however he battery was not working and i changed the battery<br />second:<br />i tried the watch to my hand but unfortunately was not amazing, it is for old ppl more than youth. i am looking to change the model .<br />i dont know if i can change irt from guess agent in Scotland/Edinburgh or not.', '2015-08-31')\n",
            "('US', 52229317, 'R6EMI5RKW73N3', 'B00QK2HAFK', 78116254, \"Armitron Men's 20/5048 Day/Date Function Dial Croco-Grain Leather Strap Watch\", 'Watches', 4, 1, 2, 'Y', 'N', 'Great Watch for the Price', \"This is a good looking men's watch that would go well with most outfits, though it's leather strap pushes it to a more dressy watch. It's a simple watch with a day and date window. It is luminescent on the hour marks but not on the watch hands themselves, which is a little weird.<br /><br />I would be curious to see how long the battery lasts. Aside from the watch band wearing out, that would be the weakest part of this watch in the long term.\", '2015-08-31')\n",
            "('US', 44293218, 'R12NA6QEKA1PRI', 'B003X11UFM', 790174403, \"Stuhrling Original Men's 238.321K43 Ascot Newberry Analog Swiss Quartz Brown Leather Watch\", 'Watches', 3, 3, 3, 'N', 'Y', 'Great looks, medium quality', \"It's a great looking product. One of the best watches I have ever seen. The quality is mediocre but that's alright. Just keep it out of water as much as possible and the leather should hold up alright.\", '2015-08-31')\n",
            "('US', 3669388, 'R2M6EF6NI4VV6I', 'B00A6OEWA4', 985088364, \"AMPM24 Men's Hand-winding Mechanical Watch Black Leather Watchband Skeleton PMW069\", 'Watches', 4, 0, 0, 'N', 'Y', 'Four Stars', 'Good value product', '2015-08-31')\n",
            "('US', 51897929, 'R2H287IH770TN7', 'B006QAX906', 957756572, \"Gotham Men's Silver-Tone Ultra Thin Railroad Open Face Quartz Pocket Watch # GWC15022S\", 'Watches', 5, 0, 0, 'N', 'Y', 'Looks good.', 'Looks good. Not bulky. Keeps good time.', '2015-08-31')\n",
            "('US', 48880662, 'R19SU6JVQQA05B', 'B00BS8U8PU', 132047116, 'Casio Unisex MRW200H-2BV Neo-Display Black Watch with Resin Band', 'Watches', 5, 0, 0, 'N', 'Y', 'Five Stars', 'good', '2015-08-31')\n",
            "('US', 39984561, 'R561PSHO7D095', 'B001F0PTNM', 670846500, \"Hadley-Roma Men's MSM881RB-170 17-mm Brown Oil-Tan Leather Watch Strap\", 'Watches', 5, 0, 0, 'N', 'Y', 'Great leather watch band.', 'This is my 3rd Hadley Roma leather watch band. Others lasted 3+ years. Great quality and design at a good price.', '2015-08-31')\n",
            "('US', 17141249, 'RUITIQHK33YXJ', 'B00Q7DETQU', 763436398, 'Michael Kors Petite Silvertone Darci Watch', 'Watches', 5, 0, 0, 'N', 'Y', 'petite watch - goes great with my engagement ring', 'Gorgeous, petite watch - goes great with my engagement ring ;-)', '2015-08-31')\n",
            "('US', 29140914, 'R21BZGZC61EB1G', 'B00LW3RP0W', 198443125, 'Timex Expedition Rugged Metal Watch', 'Watches', 4, 0, 0, 'N', 'Y', 'Four Stars', 'heavier than expected', '2015-08-31')\n"
          ]
        }
      ]
    },
    {
      "cell_type": "markdown",
      "source": [
        "##Coletando os Dados\n",
        "\n",
        "Apesar de serem facilmente acessados, esse formato dificulta um pouco a manipulação e até o entendimento dos dados. Por isso, vamos criar um dicionário e armazenar as informações dos produtos da planilha dentro dele."
      ],
      "metadata": {
        "id": "PPzY4KwQnuGh"
      }
    },
    {
      "cell_type": "markdown",
      "source": [
        "Antes de realizar nossa estrutura de repetição, vamos organizar um exemplo, com três dados, de forma manual, para mostrarmos o funcionamento desta estrutura.\n",
        "\n",
        "Basicamente vamos criar uma estrutura de dicionário para os três primeiros produtos. A chave do nosso dicionário será o código de cada produto, e o valor será outro dicionário, cuja chave é o nome da característica que queremos (parent, title e category) e o valor é a característica em si, dados de cada coluna. Vide abaixo:"
      ],
      "metadata": {
        "id": "m9-9cf_yscns"
      }
    },
    {
      "cell_type": "code",
      "source": [],
      "metadata": {
        "id": "PTOVTVXrsy8c"
      },
      "execution_count": null,
      "outputs": []
    },
    {
      "cell_type": "code",
      "source": [
        "# antes iremos fazer uma simulação de como funcionaria essa estrutura\n",
        "# de forma manual, vamos criar uma estrutura de dicionário para três produtos dessa planilha, simulando a forma como queremos organizar os dados:\n",
        "\n",
        "products = {\n",
        "    \"B00FALQ1ZC\": {#criamos uma chave com o código do produto e colocamos os dados em outro dicionário, o valor é outro dicionário que possui novas chaves e valores\n",
        "        \"parent\": \"937001370\",\n",
        "        \"title\": 'Invicta Women\\'s 15150 \"Angel\" 18k Yellow Gold Ion-Plated Stainless Steel and Brown Leather Watch',\n",
        "        \"category\": \"Watches\"\n",
        "    },\n",
        "    \"B00D3RGO20\": {\n",
        "        \"parent\": \"484010722\",\n",
        "        \"title\": \"Kenneth Cole New York Women's KC4944 Automatic Silver Automatic Mesh Bracelet Analog Watch\",\n",
        "        \"category\": \"Watches\"\n",
        "    },\n",
        "    \"B00DKYC7TK\": {\n",
        "        \"parent\": \"361166390\",\n",
        "        \"title\": \"Ritche 22mm Black Stainless Steel Bracelet Watch Band Strap Pebble Time/Pebble Classic\",\n",
        "        \"category\": \"Watches\"\n",
        "    }\n",
        "}"
      ],
      "metadata": {
        "id": "xy-BHzAHn7X2"
      },
      "execution_count": null,
      "outputs": []
    },
    {
      "cell_type": "code",
      "source": [
        "# conforme exemplo acima, criamos uma variável dicionário chamada products, que pode ser acessada abaixo:\n",
        "products"
      ],
      "metadata": {
        "colab": {
          "base_uri": "https://localhost:8080/"
        },
        "id": "1B7UA1ncrYCR",
        "outputId": "030b5f78-a822-4953-a942-eaed149ab9fd"
      },
      "execution_count": null,
      "outputs": [
        {
          "output_type": "execute_result",
          "data": {
            "text/plain": [
              "{'B00FALQ1ZC': {'parent': '937001370',\n",
              "  'title': 'Invicta Women\\'s 15150 \"Angel\" 18k Yellow Gold Ion-Plated Stainless Steel and Brown Leather Watch',\n",
              "  'category': 'Watches'},\n",
              " 'B00D3RGO20': {'parent': '484010722',\n",
              "  'title': \"Kenneth Cole New York Women's KC4944 Automatic Silver Automatic Mesh Bracelet Analog Watch\",\n",
              "  'category': 'Watches'},\n",
              " 'B00DKYC7TK': {'parent': '361166390',\n",
              "  'title': 'Ritche 22mm Black Stainless Steel Bracelet Watch Band Strap Pebble Time/Pebble Classic',\n",
              "  'category': 'Watches'}}"
            ]
          },
          "metadata": {},
          "execution_count": 26
        }
      ]
    },
    {
      "cell_type": "code",
      "source": [
        "# para acessar, por exemplo, os dados do produto B00D3RGO20, acessamos pela chave dele\n",
        "products['B00D3RGO20']"
      ],
      "metadata": {
        "colab": {
          "base_uri": "https://localhost:8080/"
        },
        "id": "9XyvVbUPr85V",
        "outputId": "58949905-ae82-4a03-fe2c-3e6ee2a7dfee"
      },
      "execution_count": null,
      "outputs": [
        {
          "output_type": "execute_result",
          "data": {
            "text/plain": [
              "{'parent': '484010722',\n",
              " 'title': \"Kenneth Cole New York Women's KC4944 Automatic Silver Automatic Mesh Bracelet Analog Watch\",\n",
              " 'category': 'Watches'}"
            ]
          },
          "metadata": {},
          "execution_count": 27
        }
      ]
    },
    {
      "cell_type": "code",
      "source": [
        "# parar encontrarmos, por exemplo, a descrição deste produto, fazemos da seguinte maneira:\n",
        "products['B00D3RGO20']['title']"
      ],
      "metadata": {
        "colab": {
          "base_uri": "https://localhost:8080/",
          "height": 36
        },
        "id": "pIv128ORsKBG",
        "outputId": "3341ec70-476f-4f12-f209-36da96a5e15c"
      },
      "execution_count": null,
      "outputs": [
        {
          "output_type": "execute_result",
          "data": {
            "text/plain": [
              "\"Kenneth Cole New York Women's KC4944 Automatic Silver Automatic Mesh Bracelet Analog Watch\""
            ],
            "application/vnd.google.colaboratory.intrinsic+json": {
              "type": "string"
            }
          },
          "metadata": {},
          "execution_count": 28
        }
      ]
    },
    {
      "cell_type": "markdown",
      "source": [
        "Uma vez esclarecido o funcionamento da nossa estrutura de manipulação, vamos realizar a iteração sobre todos os dados:"
      ],
      "metadata": {
        "id": "ptmwygrYtU7N"
      }
    },
    {
      "cell_type": "code",
      "source": [
        "# criando um dicionário\n",
        "products_amazon = {} #dicionário vazio\n",
        "\n",
        "# salvando em um dicionário utilizando estrutura for\n",
        "for row in sheet_amazon.iter_rows(min_row=2,#pulando a linha dos títulos da coluna, queremos apenas os valores\n",
        "                                  min_col=4,#selecionando apenas os dados a partir da coluna 4\n",
        "                                  max_col=7,#selecionando apenas os dados entre as colunas 4 e 7\n",
        "                                  values_only=True):\n",
        "  product_id = row[0]#na primeira iteração o row[0] irá trazer os dados do id do produto \n",
        "  product = {\n",
        "      \"parent\": row[1],#na primeira iteração o row[1] irá trazer os dados parent do produto\n",
        "      \"title\": row[2],#na primeira iteração o row[2] irá trazer os dados de title do produto\n",
        "      \"category\":row[3]#na primeira iteração o row[3] irá trazer os dados de category do produto\n",
        "  }\n",
        "  products_amazon[product_id] = product # o dicionário products terá como chave \"product_id\" e valores outro dicionário \"product\"\n"
      ],
      "metadata": {
        "id": "5fak2qYLtcBZ"
      },
      "execution_count": null,
      "outputs": []
    },
    {
      "cell_type": "markdown",
      "source": [
        "Ao executarmos o dicionário criado temos como resultado a mesma estrutra de dados ilustrada no exemplo, criado manualmente. Mas, com a estrutura for, realizamos a iteração e organização de todos os dados da planilha, seguindo esse modelo."
      ],
      "metadata": {
        "id": "Q2lwVGvDvXVo"
      }
    },
    {
      "cell_type": "code",
      "source": [
        "products_amazon"
      ],
      "metadata": {
        "colab": {
          "base_uri": "https://localhost:8080/"
        },
        "id": "mFHS2EwHvkXD",
        "outputId": "7c667044-352a-44e6-b72b-b7d3bbff7adf"
      },
      "execution_count": null,
      "outputs": [
        {
          "output_type": "execute_result",
          "data": {
            "text/plain": [
              "{'B00FALQ1ZC': {'parent': 937001370,\n",
              "  'title': 'Invicta Women\\'s 15150 \"Angel\" 18k Yellow Gold Ion-Plated Stainless Steel and Brown Leather Watch',\n",
              "  'category': 'Watches'},\n",
              " 'B00D3RGO20': {'parent': 484010722,\n",
              "  'title': \"Kenneth Cole New York Women's KC4944 Automatic Silver Automatic Mesh Bracelet Analog Watch\",\n",
              "  'category': 'Watches'},\n",
              " 'B00DKYC7TK': {'parent': 361166390,\n",
              "  'title': 'Ritche 22mm Black Stainless Steel Bracelet Watch Band Strap Pebble Time/Pebble Classic',\n",
              "  'category': 'Watches'},\n",
              " 'B000EQS1JW': {'parent': 958035625,\n",
              "  'title': \"Citizen Men's BM8180-03E Eco-Drive Stainless Steel Watch with Green Canvas Band\",\n",
              "  'category': 'Watches'},\n",
              " 'B00A6GFD7S': {'parent': 765328221,\n",
              "  'title': \"Orient ER27009B Men's Symphony Automatic Stainless Steel Black Dial Mechanical Watch\",\n",
              "  'category': 'Watches'},\n",
              " 'B00EYSOSE8': {'parent': 230493695,\n",
              "  'title': \"Casio Men's GW-9400BJ-1JF G-Shock Master of G Rangeman Digital Solar Black Carbon Fiber Insert Watch\",\n",
              "  'category': 'Watches'},\n",
              " 'B00WM0QA3M': {'parent': 549298279,\n",
              "  'title': \"Fossil Women's ES3851 Urban Traveler Multifunction Stainless Steel Watch - Rose\",\n",
              "  'category': 'Watches'},\n",
              " 'B00A4EYBR0': {'parent': 844009113,\n",
              "  'title': 'INFANTRY Mens Night Vision Analog Quartz Wrist Watch with Nato Nylon Watchband-Red.',\n",
              "  'category': 'Watches'},\n",
              " 'B00MAMPGGE': {'parent': 263720892,\n",
              "  'title': \"G-Shock Men's Grey Sport Watch\",\n",
              "  'category': 'Watches'},\n",
              " 'B004LBPB7Q': {'parent': 124278407,\n",
              "  'title': 'Heiden Quad Watch Winder in Black Leather',\n",
              "  'category': 'Watches'},\n",
              " 'B00KGTVGKS': {'parent': 28017857,\n",
              "  'title': \"Fossil Women's ES3621 Serena Crystal-Accented Two-Tone Stainless Steel Watch\",\n",
              "  'category': 'Watches'},\n",
              " 'B0039UT5OU': {'parent': 685450910,\n",
              "  'title': \"Casio General Men's Watches Sporty Digital AE-2000W-1AVDF - WW\",\n",
              "  'category': 'Watches'},\n",
              " 'B00MPF0XJQ': {'parent': 767769082,\n",
              "  'title': '2Tone Gold Silver Cable Band Ladies Bangle Cuff Watch',\n",
              "  'category': 'Watches'},\n",
              " 'B003P1OHHS': {'parent': 648595227,\n",
              "  'title': \"Bulova Men's 98B143 Precisionist Charcoal Grey Dial Bracelet Watch\",\n",
              "  'category': 'Watches'},\n",
              " 'B00R70YEOE': {'parent': 457338020,\n",
              "  'title': 'Casio - G-Shock - Gulfmaster - Black - GWN1000C-1A',\n",
              "  'category': 'Watches'},\n",
              " 'B000FVE3BG': {'parent': 824370661,\n",
              "  'title': \"Invicta Men's 3329 Force Collection Lefty Watch\",\n",
              "  'category': 'Watches'},\n",
              " 'B008X6JB12': {'parent': 814431355,\n",
              "  'title': \"Seiko Women's SUT068 Dress Solar Classic Diamond-Accented Two-Tone Stainless Steel Watch\",\n",
              "  'category': 'Watches'},\n",
              " 'B0040UOFPW': {'parent': 187700878,\n",
              "  'title': \"Anne Klein Women's 109271MPTT Swarovski Crystal Accented Two-Tone Multi-Chain Bracelet Watch\",\n",
              "  'category': 'Watches'},\n",
              " 'B00UR2R5UY': {'parent': 594315262,\n",
              "  'title': \"Guess U13630G1 Men's day and date Gunmetal dial Gunmetal tone bracelet\",\n",
              "  'category': 'Watches'},\n",
              " 'B00HFF57L0': {'parent': 520810507,\n",
              "  'title': \"Nixon Men's Geo Volt Sentry Stainless Steel Watch with Link Bracelet\",\n",
              "  'category': 'Watches'},\n",
              " 'B00F5O06E6': {'parent': 601596859,\n",
              "  'title': \"Nautica Men's N14699G BFD 101 Chrono Classic Stainless Steel Watch with Brown Band\",\n",
              "  'category': 'Watches'},\n",
              " 'B00CHS398I': {'parent': 798261110,\n",
              "  'title': 'HDE Watch Link Pin Remover Band Strap Repair Tool Kit for Watchmakers with Pack of 3 Extra Pins',\n",
              "  'category': 'Watches'},\n",
              " 'B003OQ4TA4': {'parent': 557813802,\n",
              "  'title': \"Timex Women's Q7B860 Padded Calfskin 8mm Black Replacement Watchband\",\n",
              "  'category': 'Watches'},\n",
              " 'B007X0SYEY': {'parent': 22870009,\n",
              "  'title': 'Movado Men\\'s 0606545 \"Museum\" Perforated Black-Rubber Strap Sport Watch',\n",
              "  'category': 'Watches'},\n",
              " 'B005KPL7FM': {'parent': 269520616,\n",
              "  'title': \"Invicta Men's 6674 Corduba Chronograph Black Dial Polyurethane Watch\",\n",
              "  'category': 'Watches'},\n",
              " 'B00FNIFI2O': {'parent': 330558574,\n",
              "  'title': \"Szanto Men's SZ 2001 2000 Series Classic Vintage-Inspired Stainless Steel Watch with Pebbled Leather Band\",\n",
              "  'category': 'Watches'},\n",
              " 'B005JVP0FU': {'parent': 220345054,\n",
              "  'title': \"Casio Men's MRW200H-7EV Sport Resin Watch\",\n",
              "  'category': 'Watches'},\n",
              " 'B004M23SDI': {'parent': 299884359,\n",
              "  'title': 'Casio F-108WH-2AEF Mens Blue Digital Watch',\n",
              "  'category': 'Watches'},\n",
              " 'B00RV2L8CE': {'parent': 714311106,\n",
              "  'title': \"August Steiner Men's AS8160TTG Silver And Gold Swiss Quartz Watch with Black Dial and Two Tone Bracelet\",\n",
              "  'category': 'Watches'},\n",
              " 'B000JQJS6M': {'parent': 926299553,\n",
              "  'title': \"Invicta Men's 8928OB Pro Diver Gold Stainless Steel Two-Tone Automatic Watch\",\n",
              "  'category': 'Watches'},\n",
              " 'B00VXLJD44': {'parent': 578998634,\n",
              "  'title': \"BOS Men's Automatic self-wind mechanical Pointer Skeleton Watch Black Dial Stainless Steel Band 9008\",\n",
              "  'category': 'Watches'},\n",
              " 'B004EFGBW8': {'parent': 727624097,\n",
              "  'title': \"Luminox Men's 3081 Evo Navy SEAL Chronograph Watch\",\n",
              "  'category': 'Watches'},\n",
              " 'B00G9X76DG': {'parent': 86861596,\n",
              "  'title': 'INFANTRY Mens 50mm Big Face Military Tactical Analog Digital Sport Wrist Watch Black Silicone Band',\n",
              "  'category': 'Watches'},\n",
              " 'B00SFTTZ9U': {'parent': 8403354,\n",
              "  'title': \"BUREI Dress Women's Minimalist Wrist Watches with Date Analog Quartz Stainless Steel and Ultra Slim Dial\",\n",
              "  'category': 'Watches'},\n",
              " 'B00NC8PMUK': {'parent': 944169262,\n",
              "  'title': 'Motorola Moto 360 Modern Timepiece Smart Watch - Black Leather 00418NARTL',\n",
              "  'category': 'Watches'},\n",
              " 'B00C1C5J9W': {'parent': 851584415,\n",
              "  'title': 'Domire Fashion Accessories Trial Order New Quartz Fashion Weave Wrap Around Leather Bracelet Lady Woman Butterfly Wrist Watch',\n",
              "  'category': 'Watches'},\n",
              " 'B000GB0G5M': {'parent': 492842685,\n",
              "  'title': \"Casio Women's LQ139B-1B Classic Round Analog Watch\",\n",
              "  'category': 'Watches'},\n",
              " 'B00F8AWMXA': {'parent': 397647155,\n",
              "  'title': \"Invicta Men's 15256 I-Force Gunmetal Ion-Plated Stainless Steel Watch with Black Leather Strap\",\n",
              "  'category': 'Watches'},\n",
              " 'B005MDPAPU': {'parent': 645499118,\n",
              "  'title': \"Casio Men's Slim Solar Multi-Function Analog-Digital Watch\",\n",
              "  'category': 'Watches'},\n",
              " 'B006C8NJY8': {'parent': 865472849,\n",
              "  'title': 'TS6202BLK 8 Belt Box Organizer Black Leather XL Compartments',\n",
              "  'category': 'Watches'},\n",
              " 'B00791YURC': {'parent': 310034618,\n",
              "  'title': \"Casio Men's GW2310FB-1CR G-Shock Shock Resistant Multifunction Watch\",\n",
              "  'category': 'Watches'},\n",
              " 'B00S69FO0I': {'parent': 406011595,\n",
              "  'title': \"U.S. Polo Assn. Sport Men's US9506 Analog-Digital Display Silver-Tone Watch with Textured Band\",\n",
              "  'category': 'Watches'},\n",
              " 'B00C7IQBRY': {'parent': 201258316,\n",
              "  'title': \"Cerentino Women's CR106-TQ  Turquoise Silicone Rubber Rhinestones Watch\",\n",
              "  'category': 'Watches'},\n",
              " 'B009S4U1TY': {'parent': 830280907,\n",
              "  'title': \"Batman Kids' BAT4072 Black Rubber Batman Logo Strap Watch\",\n",
              "  'category': 'Watches'},\n",
              " 'B000B55AEA': {'parent': 851729310,\n",
              "  'title': 'Timex Easy Reader Day-Date Leather Strap Watch',\n",
              "  'category': 'Watches'},\n",
              " 'B0053HDR78': {'parent': 576694666,\n",
              "  'title': 'Casio F108WH Water Resistant Digital Blue Resin Strap Watch',\n",
              "  'category': 'Watches'},\n",
              " 'B008OIOLQO': {'parent': 340110662,\n",
              "  'title': \"Ingersoll Men's IN1824CR Monticello Fine Automatic Timepiece Cream Dial Watch\",\n",
              "  'category': 'Watches'},\n",
              " 'B009PQB036': {'parent': 696981257,\n",
              "  'title': \"Lucien Piccard Men's 11576-YG-01 Clariden Black Textured Dial Watch\",\n",
              "  'category': 'Watches'},\n",
              " 'B007X0E178': {'parent': 953514677,\n",
              "  'title': \"XOXO Women's XO5478 Rhinestone-Accented Two-Tone Watch\",\n",
              "  'category': 'Watches'},\n",
              " 'B00BXQSHRI': {'parent': 714629498,\n",
              "  'title': 'Watch Case Press with 12 Nylon Dies, Watch Case Closer Set',\n",
              "  'category': 'Watches'},\n",
              " 'B00ZI3SGXM': {'parent': 294102740,\n",
              "  'title': \"Stuhrling Original Women's 956.02 Symphony Gold-Tone Watch with Brown Genuine Leather Band\",\n",
              "  'category': 'Watches'},\n",
              " 'B0053A0HB4': {'parent': 199546574,\n",
              "  'title': 'Casio G-shock Mudman Multiband6 Japanese Model [ Gw-9300-1jf ]',\n",
              "  'category': 'Watches'},\n",
              " 'B00QBTQX50': {'parent': 29617990,\n",
              "  'title': 'iStrap Calfskin Leather Watch Band Replacement Choice of Color & Width (18mm,19mm, 20mm,21mm or 22mm)',\n",
              "  'category': 'Watches'},\n",
              " 'B00G3JSF22': {'parent': 978361500,\n",
              "  'title': \"G-SHOCK Men's GA-100 Neon Highlights Watch\",\n",
              "  'category': 'Watches'},\n",
              " 'B002NQXYL6': {'parent': 161383158,\n",
              "  'title': 'Voguestrap TX046801XL Allstrap 16-20mm Brown Extra-Long-Length Fits Fast-Wrap Expedition Watchband',\n",
              "  'category': 'Watches'},\n",
              " 'B004MAZN3I': {'parent': 165342893,\n",
              "  'title': \"Seiko Men's SNKK27 Seiko 5 Stainless Steel Automatic Watch\",\n",
              "  'category': 'Watches'},\n",
              " 'B000JQFX1G': {'parent': 400836338,\n",
              "  'title': \"Invicta Men's 8926OB Pro Diver Stainless Steel Automatic Watch with Link Bracelet\",\n",
              "  'category': 'Watches'},\n",
              " 'B00A6B9N6U': {'parent': 491671113,\n",
              "  'title': \"Swiss Legend Women's 11044D-01 Neptune Black Dial Watch with Silicone Band\",\n",
              "  'category': 'Watches'},\n",
              " 'B00HJ7T0OY': {'parent': 822340800,\n",
              "  'title': \"Absolute Hot Iron man Super Hero build-in Blue LED for Men's luxury Army military Wrist Watches\",\n",
              "  'category': 'Watches'},\n",
              " 'B004401KHE': {'parent': 604208769,\n",
              "  'title': \"Seiko Men's White Dial Brown Leather Easy Reader Solar Calendar Watch\",\n",
              "  'category': 'Watches'},\n",
              " 'B001UGDB0O': {'parent': 762085956,\n",
              "  'title': 'Michael Kors Womens MK5145 - Runway Chronograph',\n",
              "  'category': 'Watches'},\n",
              " 'B00L4JRXIS': {'parent': 627047973,\n",
              "  'title': \"Armitron Sport Women's 25/6416 Easy To Read Dial Resin Strap Watch\",\n",
              "  'category': 'Watches'},\n",
              " 'B009PQB5K4': {'parent': 418141913,\n",
              "  'title': \"Lucien Piccard Men's 11577-RG-02S Stockhorn Silver Textured Dial Brown Leather Watch\",\n",
              "  'category': 'Watches'},\n",
              " 'B003M2G0SY': {'parent': 908936114,\n",
              "  'title': 'LEGO Star Wars Yoda Kids Buildable Watch with Link Bracelet and Minifigure | green/gray | plastic | 28mm case diameter| analog quartz | boy girl | official',\n",
              "  'category': 'Watches'},\n",
              " 'B002SSUQFG': {'parent': 354933056,\n",
              "  'title': \"Seiko Men's SNK809 Seiko 5 Automatic Stainless Steel Watch with Black Canvas Strap\",\n",
              "  'category': 'Watches'},\n",
              " 'B003622WUK': {'parent': 890272218,\n",
              "  'title': \"Tissot Women's T0492103303300 PR 100 Gold-Tone Silver Dial Watch\",\n",
              "  'category': 'Watches'},\n",
              " 'B00L8M9Z32': {'parent': 686288185,\n",
              "  'title': \"CASIO BABY-G (BG-6900SG-8JF) GLITTER DIAL SERIES LADY'S WATCH JAPANESE MODEL 2014 JULY RELEASED\",\n",
              "  'category': 'Watches'},\n",
              " 'B000GAWSA4': {'parent': 700023949,\n",
              "  'title': \"Casio Men's AW80V-1BV\",\n",
              "  'category': 'Watches'},\n",
              " 'B004YM2FV2': {'parent': 649128875,\n",
              "  'title': 'Bling Jewelry Plated Classic Round CZ Ladies Watch',\n",
              "  'category': 'Watches'},\n",
              " 'B008RNKIV8': {'parent': 341504925,\n",
              "  'title': \"Citizen Men's AT8020-54L Blue Angels Stainless Steel Eco-Drive Dress Watch\",\n",
              "  'category': 'Watches'},\n",
              " 'B000SZNTLO': {'parent': 544270597,\n",
              "  'title': 'Timex Ironman Sleek 50-Lap Full Size',\n",
              "  'category': 'Watches'},\n",
              " 'B00MNC53XW': {'parent': 567086073,\n",
              "  'title': 'Outop Wholesale Lot of 5pcs Womens Girls Butterfly Bracelet Wrist Watches',\n",
              "  'category': 'Watches'},\n",
              " 'B00BF77S2K': {'parent': 479360900,\n",
              "  'title': \"Timex Kids' T7B9829J IronKids Translucent Blue Sport Watch\",\n",
              "  'category': 'Watches'},\n",
              " 'B00OHD6SLG': {'parent': 721711830,\n",
              "  'title': \"Cool Men's Racer Military Pilot Army Silicone Sports Watch\",\n",
              "  'category': 'Watches'},\n",
              " 'B003DIP9BQ': {'parent': 941077778,\n",
              "  'title': \"XOXO Women's XO110 Silver Dial Gold-tone Bracelet Watch\",\n",
              "  'category': 'Watches'},\n",
              " 'B00L3VGTA0': {'parent': 667419707,\n",
              "  'title': \"Armitron Men's Black Sunray Dial Silvertone Bracelet Watch\",\n",
              "  'category': 'Watches'},\n",
              " 'B00RCUTIRM': {'parent': 731342946,\n",
              "  'title': \"Akribos XXIV Men's AK787YGBU Quartz Movement Watch with Blue Dial and Yellow Gold Stainless Steel Bracelet\",\n",
              "  'category': 'Watches'},\n",
              " 'B00V30U79K': {'parent': 18936638,\n",
              "  'title': 'Topwell Mens Wood watches, Date Time 24hours Wooden watch with Round Multi-Eyed QUARTZ Wrist Watch for Gift',\n",
              "  'category': 'Watches'},\n",
              " 'B00STAXIHU': {'parent': 690763506,\n",
              "  'title': \"Fossil Women's ES3822 Georgia Stainless Steel Watch with Blue Leather Band\",\n",
              "  'category': 'Watches'},\n",
              " 'B00DUW21F2': {'parent': 87555656,\n",
              "  'title': \"Stuhrling Original Men's 574.03 Analog Executive II Stainless Steel Automatic Skeleton Watch with Brown Leather Band\",\n",
              "  'category': 'Watches'},\n",
              " 'B00MO38XL4': {'parent': 476271516,\n",
              "  'title': \"Armitron Sport Women's 25/6422BLK Easy to Read Dial Black Resin Strap Watch\",\n",
              "  'category': 'Watches'},\n",
              " 'B00K8HMHCE': {'parent': 575505209,\n",
              "  'title': \"Swiss Legend Men's 10068-03 Commander II Analog Display Swiss Quartz Blue Watch\",\n",
              "  'category': 'Watches'},\n",
              " 'B001DK6OKQ': {'parent': 79293794,\n",
              "  'title': \"Stuhrling Original Men's 219.331657 Symphony Eternity Monterey Swiss Quartz Date Watch\",\n",
              "  'category': 'Watches'},\n",
              " 'B0094PS284': {'parent': 842528710,\n",
              "  'title': 'LuckyStore 14mm 5X Watch Band Stainless Steel Spring Bars Strap Link Pin Watchmaker New',\n",
              "  'category': 'Watches'},\n",
              " 'B00FDLB2S0': {'parent': 992050854,\n",
              "  'title': \"red line Men's RL-50042-YG-01 Stealth Chronograph Black Textured Dial Black Silicone Watch\",\n",
              "  'category': 'Watches'},\n",
              " 'B00EVPMC88': {'parent': 516415826,\n",
              "  'title': 'Seiko Men\\'s SNKL43 \"Seiko 5\" Stainless Steel Automatic Watch',\n",
              "  'category': 'Watches'},\n",
              " 'B00G2R7E3Q': {'parent': 131804424,\n",
              "  'title': \"Invicta Men's 14640 I-Force Analog Display Japanese Quartz Black Watch\",\n",
              "  'category': 'Watches'},\n",
              " 'B004LURNO6': {'parent': 892860326,\n",
              "  'title': 'Nemesis #HST-K Unisex Black Wide Leather Cuff Wrist Watch Band',\n",
              "  'category': 'Watches'},\n",
              " 'B005OT1POW': {'parent': 202690497,\n",
              "  'title': \"Tommy Hilfiger  Women's 1781145 Sport Stainless Steel  Watch\",\n",
              "  'category': 'Watches'},\n",
              " 'B007LPRLXG': {'parent': 973233011,\n",
              "  'title': 'GUESS U17531G1 - Bold and Sporty Watch Silver',\n",
              "  'category': 'Watches'},\n",
              " 'B00QK2HAFK': {'parent': 78116254,\n",
              "  'title': \"Armitron Men's 20/5048 Day/Date Function Dial Croco-Grain Leather Strap Watch\",\n",
              "  'category': 'Watches'},\n",
              " 'B003X11UFM': {'parent': 790174403,\n",
              "  'title': \"Stuhrling Original Men's 238.321K43 Ascot Newberry Analog Swiss Quartz Brown Leather Watch\",\n",
              "  'category': 'Watches'},\n",
              " 'B00A6OEWA4': {'parent': 985088364,\n",
              "  'title': \"AMPM24 Men's Hand-winding Mechanical Watch Black Leather Watchband Skeleton PMW069\",\n",
              "  'category': 'Watches'},\n",
              " 'B006QAX906': {'parent': 957756572,\n",
              "  'title': \"Gotham Men's Silver-Tone Ultra Thin Railroad Open Face Quartz Pocket Watch # GWC15022S\",\n",
              "  'category': 'Watches'},\n",
              " 'B00BS8U8PU': {'parent': 132047116,\n",
              "  'title': 'Casio Unisex MRW200H-2BV Neo-Display Black Watch with Resin Band',\n",
              "  'category': 'Watches'},\n",
              " 'B001F0PTNM': {'parent': 670846500,\n",
              "  'title': \"Hadley-Roma Men's MSM881RB-170 17-mm Brown Oil-Tan Leather Watch Strap\",\n",
              "  'category': 'Watches'},\n",
              " 'B00Q7DETQU': {'parent': 763436398,\n",
              "  'title': 'Michael Kors Petite Silvertone Darci Watch',\n",
              "  'category': 'Watches'},\n",
              " 'B00LW3RP0W': {'parent': 198443125,\n",
              "  'title': 'Timex Expedition Rugged Metal Watch',\n",
              "  'category': 'Watches'}}"
            ]
          },
          "metadata": {},
          "execution_count": 30
        }
      ]
    },
    {
      "cell_type": "code",
      "source": [
        "# para acessar, por exemplo, os dados do produto B00D3RGO20, acessamos pela chave dele, da mesma forma realizada no exemplo\n",
        "products_amazon['B00D3RGO20']"
      ],
      "metadata": {
        "colab": {
          "base_uri": "https://localhost:8080/"
        },
        "id": "uXjfurS7vmBm",
        "outputId": "086d1d96-6257-4344-ac9d-8d9e7830602a"
      },
      "execution_count": null,
      "outputs": [
        {
          "output_type": "execute_result",
          "data": {
            "text/plain": [
              "{'parent': 484010722,\n",
              " 'title': \"Kenneth Cole New York Women's KC4944 Automatic Silver Automatic Mesh Bracelet Analog Watch\",\n",
              " 'category': 'Watches'}"
            ]
          },
          "metadata": {},
          "execution_count": 31
        }
      ]
    },
    {
      "cell_type": "markdown",
      "source": [
        "Conforme mostrado acima, nossa iteração usou como chave para os dicionários o código de cada produto, e dentro, colocamos outro dicionário com as informações relevantes dos produtos, que estamos analisando.\n",
        "\n",
        "Vamos verificar, por exemplo, as chaves do dicionário."
      ],
      "metadata": {
        "id": "vjS4jsXRv_iT"
      }
    },
    {
      "cell_type": "code",
      "source": [
        "# verificando as chaves\n",
        "products_amazon.keys()"
      ],
      "metadata": {
        "colab": {
          "base_uri": "https://localhost:8080/"
        },
        "id": "XdxaypmkwTMT",
        "outputId": "ae789cb8-4bb5-4ad5-88e8-754b89d800a5"
      },
      "execution_count": null,
      "outputs": [
        {
          "output_type": "execute_result",
          "data": {
            "text/plain": [
              "dict_keys(['B00FALQ1ZC', 'B00D3RGO20', 'B00DKYC7TK', 'B000EQS1JW', 'B00A6GFD7S', 'B00EYSOSE8', 'B00WM0QA3M', 'B00A4EYBR0', 'B00MAMPGGE', 'B004LBPB7Q', 'B00KGTVGKS', 'B0039UT5OU', 'B00MPF0XJQ', 'B003P1OHHS', 'B00R70YEOE', 'B000FVE3BG', 'B008X6JB12', 'B0040UOFPW', 'B00UR2R5UY', 'B00HFF57L0', 'B00F5O06E6', 'B00CHS398I', 'B003OQ4TA4', 'B007X0SYEY', 'B005KPL7FM', 'B00FNIFI2O', 'B005JVP0FU', 'B004M23SDI', 'B00RV2L8CE', 'B000JQJS6M', 'B00VXLJD44', 'B004EFGBW8', 'B00G9X76DG', 'B00SFTTZ9U', 'B00NC8PMUK', 'B00C1C5J9W', 'B000GB0G5M', 'B00F8AWMXA', 'B005MDPAPU', 'B006C8NJY8', 'B00791YURC', 'B00S69FO0I', 'B00C7IQBRY', 'B009S4U1TY', 'B000B55AEA', 'B0053HDR78', 'B008OIOLQO', 'B009PQB036', 'B007X0E178', 'B00BXQSHRI', 'B00ZI3SGXM', 'B0053A0HB4', 'B00QBTQX50', 'B00G3JSF22', 'B002NQXYL6', 'B004MAZN3I', 'B000JQFX1G', 'B00A6B9N6U', 'B00HJ7T0OY', 'B004401KHE', 'B001UGDB0O', 'B00L4JRXIS', 'B009PQB5K4', 'B003M2G0SY', 'B002SSUQFG', 'B003622WUK', 'B00L8M9Z32', 'B000GAWSA4', 'B004YM2FV2', 'B008RNKIV8', 'B000SZNTLO', 'B00MNC53XW', 'B00BF77S2K', 'B00OHD6SLG', 'B003DIP9BQ', 'B00L3VGTA0', 'B00RCUTIRM', 'B00V30U79K', 'B00STAXIHU', 'B00DUW21F2', 'B00MO38XL4', 'B00K8HMHCE', 'B001DK6OKQ', 'B0094PS284', 'B00FDLB2S0', 'B00EVPMC88', 'B00G2R7E3Q', 'B004LURNO6', 'B005OT1POW', 'B007LPRLXG', 'B00QK2HAFK', 'B003X11UFM', 'B00A6OEWA4', 'B006QAX906', 'B00BS8U8PU', 'B001F0PTNM', 'B00Q7DETQU', 'B00LW3RP0W'])"
            ]
          },
          "metadata": {},
          "execution_count": 32
        }
      ]
    },
    {
      "cell_type": "code",
      "source": [
        "# utilizando as chaves para fazer consultas nas informações dos produtos\n",
        "products_amazon['B00FNIFI2O']"
      ],
      "metadata": {
        "colab": {
          "base_uri": "https://localhost:8080/"
        },
        "id": "PL7bzDyCwWpZ",
        "outputId": "b422bd67-2fc8-4c9b-dcff-802afb629098"
      },
      "execution_count": null,
      "outputs": [
        {
          "output_type": "execute_result",
          "data": {
            "text/plain": [
              "{'parent': 330558574,\n",
              " 'title': \"Szanto Men's SZ 2001 2000 Series Classic Vintage-Inspired Stainless Steel Watch with Pebbled Leather Band\",\n",
              " 'category': 'Watches'}"
            ]
          },
          "metadata": {},
          "execution_count": 33
        }
      ]
    },
    {
      "cell_type": "markdown",
      "source": [
        "##Transformando em Data Frame\n",
        "\n",
        "A grande vantagem de trabalhar com essa estrutura de dicionário para manipular nossos dados, é que ela pode ser facilmente transformada em um data frame. A combinação da iteração pelo método for com a organização dos dados em um dicionário, viabiliza muito essa transformação, o que facilita a nossa análise.\n",
        "\n",
        "Como temos nosso dicionário em mãos, vamos transformá-lo em um data frame e verificar o resultado."
      ],
      "metadata": {
        "id": "xyFrKmpOwkp9"
      }
    },
    {
      "cell_type": "code",
      "source": [
        "import pandas as pd\n",
        "df = pd.DataFrame.from_dict(products_amazon, orient=\"index\")#utilizamos o orient=index para organizar nossos dados"
      ],
      "metadata": {
        "id": "7lDZKMyDxJPX"
      },
      "execution_count": null,
      "outputs": []
    },
    {
      "cell_type": "code",
      "source": [
        "df.head()"
      ],
      "metadata": {
        "colab": {
          "base_uri": "https://localhost:8080/",
          "height": 206
        },
        "id": "P1gWIg8xxTp7",
        "outputId": "d26d868e-9027-46dc-9cce-da049e887999"
      },
      "execution_count": null,
      "outputs": [
        {
          "output_type": "execute_result",
          "data": {
            "text/plain": [
              "               parent                                              title  \\\n",
              "B00FALQ1ZC  937001370  Invicta Women's 15150 \"Angel\" 18k Yellow Gold ...   \n",
              "B00D3RGO20  484010722  Kenneth Cole New York Women's KC4944 Automatic...   \n",
              "B00DKYC7TK  361166390  Ritche 22mm Black Stainless Steel Bracelet Wat...   \n",
              "B000EQS1JW  958035625  Citizen Men's BM8180-03E Eco-Drive Stainless S...   \n",
              "B00A6GFD7S  765328221  Orient ER27009B Men's Symphony Automatic Stain...   \n",
              "\n",
              "           category  \n",
              "B00FALQ1ZC  Watches  \n",
              "B00D3RGO20  Watches  \n",
              "B00DKYC7TK  Watches  \n",
              "B000EQS1JW  Watches  \n",
              "B00A6GFD7S  Watches  "
            ],
            "text/html": [
              "\n",
              "  <div id=\"df-4b8d6a50-16b6-4668-904b-3d810de317d2\">\n",
              "    <div class=\"colab-df-container\">\n",
              "      <div>\n",
              "<style scoped>\n",
              "    .dataframe tbody tr th:only-of-type {\n",
              "        vertical-align: middle;\n",
              "    }\n",
              "\n",
              "    .dataframe tbody tr th {\n",
              "        vertical-align: top;\n",
              "    }\n",
              "\n",
              "    .dataframe thead th {\n",
              "        text-align: right;\n",
              "    }\n",
              "</style>\n",
              "<table border=\"1\" class=\"dataframe\">\n",
              "  <thead>\n",
              "    <tr style=\"text-align: right;\">\n",
              "      <th></th>\n",
              "      <th>parent</th>\n",
              "      <th>title</th>\n",
              "      <th>category</th>\n",
              "    </tr>\n",
              "  </thead>\n",
              "  <tbody>\n",
              "    <tr>\n",
              "      <th>B00FALQ1ZC</th>\n",
              "      <td>937001370</td>\n",
              "      <td>Invicta Women's 15150 \"Angel\" 18k Yellow Gold ...</td>\n",
              "      <td>Watches</td>\n",
              "    </tr>\n",
              "    <tr>\n",
              "      <th>B00D3RGO20</th>\n",
              "      <td>484010722</td>\n",
              "      <td>Kenneth Cole New York Women's KC4944 Automatic...</td>\n",
              "      <td>Watches</td>\n",
              "    </tr>\n",
              "    <tr>\n",
              "      <th>B00DKYC7TK</th>\n",
              "      <td>361166390</td>\n",
              "      <td>Ritche 22mm Black Stainless Steel Bracelet Wat...</td>\n",
              "      <td>Watches</td>\n",
              "    </tr>\n",
              "    <tr>\n",
              "      <th>B000EQS1JW</th>\n",
              "      <td>958035625</td>\n",
              "      <td>Citizen Men's BM8180-03E Eco-Drive Stainless S...</td>\n",
              "      <td>Watches</td>\n",
              "    </tr>\n",
              "    <tr>\n",
              "      <th>B00A6GFD7S</th>\n",
              "      <td>765328221</td>\n",
              "      <td>Orient ER27009B Men's Symphony Automatic Stain...</td>\n",
              "      <td>Watches</td>\n",
              "    </tr>\n",
              "  </tbody>\n",
              "</table>\n",
              "</div>\n",
              "      <button class=\"colab-df-convert\" onclick=\"convertToInteractive('df-4b8d6a50-16b6-4668-904b-3d810de317d2')\"\n",
              "              title=\"Convert this dataframe to an interactive table.\"\n",
              "              style=\"display:none;\">\n",
              "        \n",
              "  <svg xmlns=\"http://www.w3.org/2000/svg\" height=\"24px\"viewBox=\"0 0 24 24\"\n",
              "       width=\"24px\">\n",
              "    <path d=\"M0 0h24v24H0V0z\" fill=\"none\"/>\n",
              "    <path d=\"M18.56 5.44l.94 2.06.94-2.06 2.06-.94-2.06-.94-.94-2.06-.94 2.06-2.06.94zm-11 1L8.5 8.5l.94-2.06 2.06-.94-2.06-.94L8.5 2.5l-.94 2.06-2.06.94zm10 10l.94 2.06.94-2.06 2.06-.94-2.06-.94-.94-2.06-.94 2.06-2.06.94z\"/><path d=\"M17.41 7.96l-1.37-1.37c-.4-.4-.92-.59-1.43-.59-.52 0-1.04.2-1.43.59L10.3 9.45l-7.72 7.72c-.78.78-.78 2.05 0 2.83L4 21.41c.39.39.9.59 1.41.59.51 0 1.02-.2 1.41-.59l7.78-7.78 2.81-2.81c.8-.78.8-2.07 0-2.86zM5.41 20L4 18.59l7.72-7.72 1.47 1.35L5.41 20z\"/>\n",
              "  </svg>\n",
              "      </button>\n",
              "      \n",
              "  <style>\n",
              "    .colab-df-container {\n",
              "      display:flex;\n",
              "      flex-wrap:wrap;\n",
              "      gap: 12px;\n",
              "    }\n",
              "\n",
              "    .colab-df-convert {\n",
              "      background-color: #E8F0FE;\n",
              "      border: none;\n",
              "      border-radius: 50%;\n",
              "      cursor: pointer;\n",
              "      display: none;\n",
              "      fill: #1967D2;\n",
              "      height: 32px;\n",
              "      padding: 0 0 0 0;\n",
              "      width: 32px;\n",
              "    }\n",
              "\n",
              "    .colab-df-convert:hover {\n",
              "      background-color: #E2EBFA;\n",
              "      box-shadow: 0px 1px 2px rgba(60, 64, 67, 0.3), 0px 1px 3px 1px rgba(60, 64, 67, 0.15);\n",
              "      fill: #174EA6;\n",
              "    }\n",
              "\n",
              "    [theme=dark] .colab-df-convert {\n",
              "      background-color: #3B4455;\n",
              "      fill: #D2E3FC;\n",
              "    }\n",
              "\n",
              "    [theme=dark] .colab-df-convert:hover {\n",
              "      background-color: #434B5C;\n",
              "      box-shadow: 0px 1px 3px 1px rgba(0, 0, 0, 0.15);\n",
              "      filter: drop-shadow(0px 1px 2px rgba(0, 0, 0, 0.3));\n",
              "      fill: #FFFFFF;\n",
              "    }\n",
              "  </style>\n",
              "\n",
              "      <script>\n",
              "        const buttonEl =\n",
              "          document.querySelector('#df-4b8d6a50-16b6-4668-904b-3d810de317d2 button.colab-df-convert');\n",
              "        buttonEl.style.display =\n",
              "          google.colab.kernel.accessAllowed ? 'block' : 'none';\n",
              "\n",
              "        async function convertToInteractive(key) {\n",
              "          const element = document.querySelector('#df-4b8d6a50-16b6-4668-904b-3d810de317d2');\n",
              "          const dataTable =\n",
              "            await google.colab.kernel.invokeFunction('convertToInteractive',\n",
              "                                                     [key], {});\n",
              "          if (!dataTable) return;\n",
              "\n",
              "          const docLinkHtml = 'Like what you see? Visit the ' +\n",
              "            '<a target=\"_blank\" href=https://colab.research.google.com/notebooks/data_table.ipynb>data table notebook</a>'\n",
              "            + ' to learn more about interactive tables.';\n",
              "          element.innerHTML = '';\n",
              "          dataTable['output_type'] = 'display_data';\n",
              "          await google.colab.output.renderOutput(dataTable, element);\n",
              "          const docLink = document.createElement('div');\n",
              "          docLink.innerHTML = docLinkHtml;\n",
              "          element.appendChild(docLink);\n",
              "        }\n",
              "      </script>\n",
              "    </div>\n",
              "  </div>\n",
              "  "
            ]
          },
          "metadata": {},
          "execution_count": 35
        }
      ]
    },
    {
      "cell_type": "code",
      "source": [
        "# para acessar informações dos produtos, podemos utilizar o método .loc do data frame\n",
        "df.loc['B000EQS1JW']"
      ],
      "metadata": {
        "colab": {
          "base_uri": "https://localhost:8080/"
        },
        "id": "BM7DSErbxUg8",
        "outputId": "8b7a4b69-093e-4dbc-c9c6-b95d93a43ff4"
      },
      "execution_count": null,
      "outputs": [
        {
          "output_type": "execute_result",
          "data": {
            "text/plain": [
              "parent                                              958035625\n",
              "title       Citizen Men's BM8180-03E Eco-Drive Stainless S...\n",
              "category                                              Watches\n",
              "Name: B000EQS1JW, dtype: object"
            ]
          },
          "metadata": {},
          "execution_count": 36
        }
      ]
    },
    {
      "cell_type": "markdown",
      "source": [
        "#**4 - Adicionando Dados a uma Planilha**\n",
        "\n",
        "Já verificamos anteriormente como ler, acessar os dados e até como iterar sobre as células e armazenar dados para um criar um dataframe a partir de um dicionário.\n",
        "\n",
        "Vamos verificar agora como acrescentar algum dado para a nossa planilha. Mais uma vez, é importante lembrar sempre que é primordial checar e realizar a atualização da biblioteca, utilizando o !pip install -U openpyxl -q.\n",
        "\n",
        "\n",
        "<center><img width=\"50%\" src=\"https://img.freepik.com/fotos-gratis/codificacao-de-programa-de-computador-na-tela_53876-138060.jpg?w=740&t=st=1663783004~exp=1663783604~hmac=21e1b9ef59bc9a538b95318045832f6d40ff1ea489d099d75d28bf3956868f6a\"></center>"
      ],
      "metadata": {
        "id": "Vl6J12g_yWs1"
      }
    },
    {
      "cell_type": "code",
      "source": [
        "# incluir imagem\n",
        "# incluir nova introdução\n",
        "# incluir introdução pandas e excel"
      ],
      "metadata": {
        "id": "M5nP2Yz0y16q"
      },
      "execution_count": null,
      "outputs": []
    },
    {
      "cell_type": "markdown",
      "source": [
        "Vamos utilizar mais uma vez os dados da planilha de venda de relógios da Amazon, como nossa base de dados."
      ],
      "metadata": {
        "id": "pCfG3ACEzEuM"
      }
    },
    {
      "cell_type": "code",
      "source": [
        "# carregando a planilha\n",
        "from openpyxl import load_workbook\n",
        "\n",
        "workbook = load_workbook(filename='sample.xlsx')\n",
        "\n",
        "# verificando as abas\n",
        "sheet = workbook.active"
      ],
      "metadata": {
        "id": "DZgPCWmVzKt0"
      },
      "execution_count": null,
      "outputs": []
    },
    {
      "cell_type": "code",
      "source": [
        "# acessando a célula\n",
        "sheet['A1'].value"
      ],
      "metadata": {
        "colab": {
          "base_uri": "https://localhost:8080/",
          "height": 36
        },
        "id": "BGFOwF26zaev",
        "outputId": "4c14ce71-e660-443d-83e4-0ba5acf3353a"
      },
      "execution_count": null,
      "outputs": [
        {
          "output_type": "execute_result",
          "data": {
            "text/plain": [
              "'marketplace'"
            ],
            "application/vnd.google.colaboratory.intrinsic+json": {
              "type": "string"
            }
          },
          "metadata": {},
          "execution_count": 39
        }
      ]
    },
    {
      "cell_type": "markdown",
      "source": [
        "Primeiramente iremos associar um novo valor a essa célula, para realizarmos a modificação."
      ],
      "metadata": {
        "id": "HjFO3oq1zo0r"
      }
    },
    {
      "cell_type": "code",
      "source": [
        "sheet['A1'] = \"Marketplace\"\n",
        "\n",
        "# conferindo o resultado\n",
        "sheet['A1'].value"
      ],
      "metadata": {
        "colab": {
          "base_uri": "https://localhost:8080/",
          "height": 36
        },
        "id": "qCZFXgg1zu97",
        "outputId": "50593168-5286-47dd-840f-7f9be3bba51b"
      },
      "execution_count": null,
      "outputs": [
        {
          "output_type": "execute_result",
          "data": {
            "text/plain": [
              "'Marketplace'"
            ],
            "application/vnd.google.colaboratory.intrinsic+json": {
              "type": "string"
            }
          },
          "metadata": {},
          "execution_count": 40
        }
      ]
    },
    {
      "cell_type": "markdown",
      "source": [
        "Podemos salvar uma célula em uma variável e fazer a alteração diretamente na variável."
      ],
      "metadata": {
        "id": "wyrpangPz783"
      }
    },
    {
      "cell_type": "code",
      "source": [
        "# associando uma célula a uma variável\n",
        "cell = sheet['A1']\n",
        "\n",
        "# verificando o valor\n",
        "cell.value"
      ],
      "metadata": {
        "colab": {
          "base_uri": "https://localhost:8080/",
          "height": 36
        },
        "id": "qqs280Hb0CbF",
        "outputId": "f6121fdb-fe52-4b7f-a605-b6164f46418e"
      },
      "execution_count": null,
      "outputs": [
        {
          "output_type": "execute_result",
          "data": {
            "text/plain": [
              "'Marketplace'"
            ],
            "application/vnd.google.colaboratory.intrinsic+json": {
              "type": "string"
            }
          },
          "metadata": {},
          "execution_count": 41
        }
      ]
    },
    {
      "cell_type": "markdown",
      "source": [
        "Quando abrimos uma planilha no Excel podemos ver que há várias e várias linhas e colunas vazias, que aparecem em nossa visualização pelo programa, mas, como podemos perceber, não são trazidos para cá.\n",
        "\n",
        "Entretanto, se as células vazias estão entre células preenchidas, o openpyxl vai sim ler e reconhecer esses espaço vazio, retornando células com formato `None`.\n",
        "\n",
        "Abaixo, vamos verificar todas as linhas do nosso conjunto de dados, e inserir linhas um pouco mais abaixo, para que possamos visualizar esses acontecimentos."
      ],
      "metadata": {
        "id": "2bAH5QpU0gzJ"
      }
    },
    {
      "cell_type": "code",
      "source": [
        "# verificando a quantidade de linhas da nossa planilha\n",
        "sheet.dimensions"
      ],
      "metadata": {
        "colab": {
          "base_uri": "https://localhost:8080/",
          "height": 36
        },
        "id": "AAWIz9lh0kzJ",
        "outputId": "21a7be51-6226-4fa1-c722-26866c36e18e"
      },
      "execution_count": null,
      "outputs": [
        {
          "output_type": "execute_result",
          "data": {
            "text/plain": [
              "'A1:O100'"
            ],
            "application/vnd.google.colaboratory.intrinsic+json": {
              "type": "string"
            }
          },
          "metadata": {},
          "execution_count": 43
        }
      ]
    },
    {
      "cell_type": "markdown",
      "source": [
        "Agora vamos criar uma função que mostre todas as entradas de nosso conjunto. Basicamente é o que foi realizado anteriormente, mas vamos incluir uma função para facilitar nossas análises."
      ],
      "metadata": {
        "id": "SlFBUTDe2CB_"
      }
    },
    {
      "cell_type": "code",
      "source": [
        "# criando função para verificar todas as linhas\n",
        "def print_rows():\n",
        "  \"\"\"\n",
        "  Função utilizada para mostrar as entradas de nosso conjuntos de dados em excel\n",
        "  \"\"\"\n",
        "  for row in sheet.iter_rows(values_only=True):\n",
        "    print(row)"
      ],
      "metadata": {
        "id": "K_wif9_02MQM"
      },
      "execution_count": null,
      "outputs": []
    },
    {
      "cell_type": "code",
      "source": [
        "print_rows()"
      ],
      "metadata": {
        "colab": {
          "base_uri": "https://localhost:8080/"
        },
        "id": "7Lfg1ls92fW4",
        "outputId": "6a65e492-86a2-4dd5-a808-4f7f3d7ec3a5"
      },
      "execution_count": null,
      "outputs": [
        {
          "output_type": "stream",
          "name": "stdout",
          "text": [
            "('Marketplace', 'customer_id', 'review_id', 'product_id', 'product_parent', 'product_title', 'product_category', 'star_rating', 'helpful_votes', 'total_votes', 'vine', 'verified_purchase', 'review_headline', 'review_body', 'review_date')\n",
            "('US', 3653882, 'R3O9SGZBVQBV76', 'B00FALQ1ZC', 937001370, 'Invicta Women\\'s 15150 \"Angel\" 18k Yellow Gold Ion-Plated Stainless Steel and Brown Leather Watch', 'Watches', 5, 0, 0, 'N', 'Y', 'Five Stars', 'Absolutely love this watch! Get compliments almost every time I wear it. Dainty.', '2015-08-31')\n",
            "('US', 14661224, 'RKH8BNC3L5DLF', 'B00D3RGO20', 484010722, \"Kenneth Cole New York Women's KC4944 Automatic Silver Automatic Mesh Bracelet Analog Watch\", 'Watches', 5, 0, 0, 'N', 'Y', 'I love thiswatch it keeps time wonderfully', 'I love this watch it keeps time wonderfully.', '2015-08-31')\n",
            "('US', 27324930, 'R2HLE8WKZSU3NL', 'B00DKYC7TK', 361166390, 'Ritche 22mm Black Stainless Steel Bracelet Watch Band Strap Pebble Time/Pebble Classic', 'Watches', 2, 1, 1, 'N', 'Y', 'Two Stars', 'Scratches', '2015-08-31')\n",
            "('US', 7211452, 'R31U3UH5AZ42LL', 'B000EQS1JW', 958035625, \"Citizen Men's BM8180-03E Eco-Drive Stainless Steel Watch with Green Canvas Band\", 'Watches', 5, 0, 0, 'N', 'Y', 'Five Stars', 'It works well on me. However, I found cheaper prices in other places after making the purchase', '2015-08-31')\n",
            "('US', 12733322, 'R2SV659OUJ945Y', 'B00A6GFD7S', 765328221, \"Orient ER27009B Men's Symphony Automatic Stainless Steel Black Dial Mechanical Watch\", 'Watches', 4, 0, 0, 'N', 'Y', 'Beautiful face, but cheap sounding links', \"Beautiful watch face.  The band looks nice all around.  The links do make that squeaky cheapo noise when you swing it back and forth on your wrist which can be embarrassing in front of watch enthusiasts.  However, to the naked eye from afar, you can't tell the links are cheap or folded because it is well polished and brushed and the folds are pretty tight for the most part.<br /><br />I love the new member of my collection and it looks great.  I've had it for about a week and so far it has kept good time despite day 1 which is typical of a new mechanical watch\", '2015-08-31')\n",
            "('US', 6576411, 'RA51CP8TR5A2L', 'B00EYSOSE8', 230493695, \"Casio Men's GW-9400BJ-1JF G-Shock Master of G Rangeman Digital Solar Black Carbon Fiber Insert Watch\", 'Watches', 5, 0, 0, 'N', 'Y', 'No complaints', 'i love this watch for my purpose, about the people complaining should of done their research better before buying. dumb people.', '2015-08-31')\n",
            "('US', 11811565, 'RB2Q7DLDN6TH6', 'B00WM0QA3M', 549298279, \"Fossil Women's ES3851 Urban Traveler Multifunction Stainless Steel Watch - Rose\", 'Watches', 5, 1, 1, 'N', 'Y', 'Five Stars', 'for my wife and she loved it, looks great and a great price!', '2015-08-31')\n",
            "('US', 49401598, 'R2RHFJV0UYBK3Y', 'B00A4EYBR0', 844009113, 'INFANTRY Mens Night Vision Analog Quartz Wrist Watch with Nato Nylon Watchband-Red.', 'Watches', 1, 1, 5, 'N', 'N', 'I was about to buy this thinking it was a ...', 'I was about to buy this thinking it was a Swiss Army Infantry watch-- the description uses the words infantry and army--- when I realized it must be a fraud for $12.00. This should not be offered on Amazon-- it is designed to confuse consumers.', '2015-08-31')\n",
            "('US', 45925069, 'R2Z6JOQ94LFHEP', 'B00MAMPGGE', 263720892, \"G-Shock Men's Grey Sport Watch\", 'Watches', 5, 1, 2, 'N', 'Y', 'Perfect watch!', \"Watch is perfect. Rugged with the metal &#34;Bull Bars&#34;. The red accents are a great touch and I get compliments when wearing it. If you are worried about being able to read this in sunlight or in the dark don't! The LED ilumination works great! I might even get this in a different color for my next G-Shock purchase!\", '2015-08-31')\n",
            "('US', 44751341, 'RX27XIIWY5JPB', 'B004LBPB7Q', 124278407, 'Heiden Quad Watch Winder in Black Leather', 'Watches', 4, 0, 0, 'N', 'Y', 'Great quality and build', 'Great quality and build.<br />The motors are really silent.<br />After fiddling with the settings my watches are always charged and ready to use.', '2015-08-31')\n",
            "('US', 9962330, 'R15C7QEZT0LGZN', 'B00KGTVGKS', 28017857, \"Fossil Women's ES3621 Serena Crystal-Accented Two-Tone Stainless Steel Watch\", 'Watches', 4, 2, 2, 'N', 'Y', 'Satisfied', \"The watch was pretty much as it was described and how it looks. I really like the simplicity of it and it looks pretty amazing. It is slightly too big, so I have yet to adjust it, but I'm glad it's too big rather than too small. The weight is good which is what I was hoping for. Very satisfied with this purchase. I was slightly on the fence getting this one because of the previous fossil watch I had, which by some time, did have some gems fall off from ring around the numbers, but so far so good with this one! Excuse my bad lighting for my pic.\", '2015-08-31')\n",
            "('US', 16097204, 'R361XSS37V0NCZ', 'B0039UT5OU', 685450910, \"Casio General Men's Watches Sporty Digital AE-2000W-1AVDF - WW\", 'Watches', 1, 0, 0, 'N', 'N', 'I do not think this watch is a good product. Do not buy it', 'I bought this watch on 2013, the screen had a problem 10 months later. I sent the watch back to Casio Service Center in LA, they sent to me a replacement new watch. Last week, less than one year after I received the new watch, the battery is out.  I went to a shop to replace the battery. Then the A button of the watch do not working, so I could not change the time and other settings. I do not think this watch is a good product. Do not buy it.', '2015-08-31')\n",
            "('US', 51330346, 'ROTNLALUAJAUB', 'B00MPF0XJQ', 767769082, '2Tone Gold Silver Cable Band Ladies Bangle Cuff Watch', 'Watches', 3, 0, 0, 'N', 'Y', 'Three Stars', \"It is a cheap watch that looks cheap.  There isn't much else to say.\", '2015-08-31')\n",
            "('US', 4201739, 'R2DYX7QU6BGOHR', 'B003P1OHHS', 648595227, \"Bulova Men's 98B143 Precisionist Charcoal Grey Dial Bracelet Watch\", 'Watches', 5, 0, 0, 'N', 'Y', 'Five Stars', 'Heavier than i though', '2015-08-31')\n",
            "('US', 26339765, 'RWASY7FKI7QOT', 'B00R70YEOE', 457338020, 'Casio - G-Shock - Gulfmaster - Black - GWN1000C-1A', 'Watches', 5, 2, 3, 'N', 'Y', 'Worth it - love it', 'Had it for several weeks now and I love it - reliable, functional, wears easy, not too heavy.  I also get a lot of comments on it - great watch!', '2015-08-31')\n",
            "('US', 2692576, 'R2KKYZIN3CCL21', 'B000FVE3BG', 824370661, \"Invicta Men's 3329 Force Collection Lefty Watch\", 'Watches', 5, 0, 0, 'N', 'Y', 'This is when different is good.', 'This one is different from the rest of my Invictas. I like the big watches but this one gave a classy more defined look for the craftsmanship. All of the colors compliment each other. It all starts from the stitching of the band.  Very nice watch.', '2015-08-31')\n",
            "('US', 44713366, 'R22H4FGVD5O52O', 'B008X6JB12', 814431355, \"Seiko Women's SUT068 Dress Solar Classic Diamond-Accented Two-Tone Stainless Steel Watch\", 'Watches', 4, 1, 1, 'N', 'Y', 'Thewatch is attractive and easy to read', \"The watch is attractive and easy to read, except for the date. The little diamonds are very, very tiny. All in all, I'm happy with it.\", '2015-08-31')\n",
            "('US', 32778769, 'R11UACZERCM4ZY', 'B0040UOFPW', 187700878, \"Anne Klein Women's 109271MPTT Swarovski Crystal Accented Two-Tone Multi-Chain Bracelet Watch\", 'Watches', 5, 0, 0, 'N', 'Y', 'Five Stars', 'said my wife..', '2015-08-31')\n",
            "('US', 27258523, 'R1AT8NQ38UQOL6', 'B00UR2R5UY', 594315262, \"Guess U13630G1 Men's day and date Gunmetal dial Gunmetal tone bracelet\", 'Watches', 5, 0, 0, 'N', 'Y', 'Five Stars', 'Nice watch, on time delivery from seller.', '2015-08-31')\n",
            "('US', 42646538, 'R2NCZRQGIF1Q75', 'B00HFF57L0', 520810507, \"Nixon Men's Geo Volt Sentry Stainless Steel Watch with Link Bracelet\", 'Watches', 4, 0, 0, 'N', 'Y', 'Very stylish', 'Looks great and love to wear this watch.  Only negative thing is due to its blue/black colors, it is difficult to read in average or low light.  Good thing for me, I wear a watch for looks and not really for telling the time.', '2015-08-31')\n",
            "('US', 46017899, 'RJ9HWWMU4IAHF', 'B00F5O06E6', 601596859, \"Nautica Men's N14699G BFD 101 Chrono Classic Stainless Steel Watch with Brown Band\", 'Watches', 4, 1, 1, 'N', 'Y', 'Good looking watch', \"I really like this watch. It has a great face that contrasts nicely with the white numerals. Keeps time accurately. Overall very pleased. I really like its distinctive look. It's also durable and water proof. I leave it on when I go kayaking or out on the boat fishing.\", '2015-08-31')\n",
            "('US', 37192375, 'R3CNTCKG352GL1', 'B00CHS398I', 798261110, 'HDE Watch Link Pin Remover Band Strap Repair Tool Kit for Watchmakers with Pack of 3 Extra Pins', 'Watches', 4, 0, 0, 'N', 'Y', 'Works great but the watch a used it on was slim ...', 'Works great but the watch a used it on was slim so I had to use a quarter to rase it up the right height', '2015-08-31')\n",
            "('US', 11710007, 'R9Q2LDSES6NBL', 'B003OQ4TA4', 557813802, \"Timex Women's Q7B860 Padded Calfskin 8mm Black Replacement Watchband\", 'Watches', 4, 0, 0, 'N', 'Y', 'Fits perfect on my', 'Just what I needed for my Timex watch. Fits perfect on my wrist', '2015-08-31')\n",
            "('US', 6673146, 'R3629T8HDV5VWU', 'B007X0SYEY', 22870009, 'Movado Men\\'s 0606545 \"Museum\" Perforated Black-Rubber Strap Sport Watch', 'Watches', 5, 1, 1, 'N', 'Y', 'Great Buy!', \"Absolutely LOVE this watch! Amazon prime saved me over $400 after tax from the store prices. Between the great buy and the Coolness of this watch it was an amazing purchase. I can't stop looking at it. Movado is an excellent brand. Time keeping is perfect. Quality is perfect.\", '2015-08-31')\n",
            "('US', 7899951, 'R2CLMKC0IVZ9UX', 'B005KPL7FM', 269520616, \"Invicta Men's 6674 Corduba Chronograph Black Dial Polyurethane Watch\", 'Watches', 5, 0, 0, 'N', 'Y', 'Five Stars', 'Its too large. When you order check the size of the case.', '2015-08-31')\n",
            "('US', 27979201, 'R2QGEJRU4ENYN2', 'B00FNIFI2O', 330558574, \"Szanto Men's SZ 2001 2000 Series Classic Vintage-Inspired Stainless Steel Watch with Pebbled Leather Band\", 'Watches', 5, 1, 1, 'N', 'N', 'This was awatch I bought during a quick sale thing', \"This was a watch I bought during a quick sale thing, so it was cheaper than normal.  I bought it as a daily wear.  It's really a decent watch for the price; a retro look with a modern movement.\", '2015-08-31')\n",
            "('US', 912779, 'R2E5STTYU6LTSC', 'B005JVP0FU', 220345054, \"Casio Men's MRW200H-7EV Sport Resin Watch\", 'Watches', 4, 0, 0, 'N', 'Y', 'Four Stars', 'It works well with nice simple look.', '2015-08-31')\n",
            "('US', 44345527, 'RI97MTVX08KWX', 'B004M23SDI', 299884359, 'Casio F-108WH-2AEF Mens Blue Digital Watch', 'Watches', 3, 0, 0, 'N', 'Y', 'Thought that I read somewhere that you could swim with ...', 'Thought that I read somewhere that you could swim with it. It does not however bear the 50M Water Resistance designation.', '2015-08-31')\n",
            "('US', 2659331, 'RK20LJG750ERC', 'B00RV2L8CE', 714311106, \"August Steiner Men's AS8160TTG Silver And Gold Swiss Quartz Watch with Black Dial and Two Tone Bracelet\", 'Watches', 5, 0, 0, 'N', 'Y', 'Great Watch', 'Perfect Condition, Arrived on Time,Works & Looks Great', '2015-08-31')\n",
            "('US', 805483, 'R1HQZDBB90LMFH', 'B000JQJS6M', 926299553, \"Invicta Men's 8928OB Pro Diver Gold Stainless Steel Two-Tone Automatic Watch\", 'Watches', 5, 2, 2, 'N', 'Y', 'Very Impressive', \"This watch is a very beautiful time piece. This also could be an alternative choice to a Rolex submariner. It also has the same features as a Rolex submariner but it's not as good as a Rolex watch but darn close.<br /><br />Take good care of this watch if you get one because it has gold plating on it. This watch is 'Not' a sport watch.<br /><br />This watch features<br />-Rotating timer dial<br />-All stainless steel (kinda heavy)<br />-Glow in the dark<br />-Water resistant to 200 meters (600 feet)<br />-Automatic winding (from wrist movements)<br />-Shows date<br />-Very beautiful<br /><br />Sizeing isn't difficult, I sized mine by using a thumbtack and a hammer to tap the pins out of the band and I tapped a pin back into the band after removing three band links. If you don't know what your doing then just take it to s jewelry store so they can size it for you\", '2015-08-31')\n",
            "('US', 42590995, 'R2XHQHGXIEYTNI', 'B00VXLJD44', 578998634, \"BOS Men's Automatic self-wind mechanical Pointer Skeleton Watch Black Dial Stainless Steel Band 9008\", 'Watches', 3, 1, 3, 'N', 'Y', 'The epitome of form before function.', \"This is a beautiful watch. I love the look and feel of it, and I get complimented on it all the time. If that were the entirety of the story, this would be a 5 star review.<br /><br />Unfortunately, the most important part of this watch, the functionality, has some issues. Despite this being an automatic winding watch, it doesn't always stay wound. I have had days where I had to re-wind it before the end of the day. Most days however, it does last through the day. I just have to wind it and set the time again in the morning. Other mechanical self winding watches I own will in fact not need to be wound again until I stop wearing them for a full day. In addition, I can't always get the spring fully wound before it will start clicking and the spring skips off the winding gear.<br /><br />If I hadn't been so lazy, I would have returned this watch. Unfortunately, I missed the 30 day return window. So now I'm stuck with an only mostly working but beautiful watch. I guess that makes it kinda like a fashion model. When I think of it that way, it's not quite so disappointing.\", '2015-08-31')\n",
            "('US', 48880662, 'R2BVFRIR7A5UD1', 'B004EFGBW8', 727624097, \"Luminox Men's 3081 Evo Navy SEAL Chronograph Watch\", 'Watches', 5, 0, 0, 'N', 'Y', 'Five Stars', 'very good', '2015-08-31')\n",
            "('US', 112967, 'R3O51G2D52W9DD', 'B00G9X76DG', 86861596, 'INFANTRY Mens 50mm Big Face Military Tactical Analog Digital Sport Wrist Watch Black Silicone Band', 'Watches', 5, 1, 1, 'N', 'Y', 'Surpassed my expectations', 'I was very apprehensive about buying a 28 dollar watch online, but it looked so much like the 400 dollar Invicta Coalition forces watch I was wanting that I went for it.  I was very pleased when it arrived.  It is a BIG, heavy, sharp looking watch and I could not be happier. I am sure I will be purchasing the solid black one as well', '2015-08-31')\n",
            "('US', 51346302, 'R2O0LW0AZ67P3X', 'B00SFTTZ9U', 8403354, \"BUREI Dress Women's Minimalist Wrist Watches with Date Analog Quartz Stainless Steel and Ultra Slim Dial\", 'Watches', 5, 4, 5, 'N', 'N', 'A classy looking watch', '[[VIDEOID:cc599be25462207f860e42621171d7e1]]This watch has an understated clean and classy design.  It looks elegant. It has a stainless steel body and genuine leather band.  The band maximum width 7.5\\\\\\\\\" (last hole), if needed additional holes could be made to make it as wide as 8\\\\\\\\\".<br /><br />The face of the watch is 1 3/16\\\\\\\\\" wide and the watch is 1/4\\\\\\\\\" thick. The back of the watch states it has Japanese quartz movement.  The watch is water resistant to rain and splashing but cannot be submerged into water.<br /><br />This watch is made in China but includes an English manual. The manual covers several watches so it is a somewhat confusing as it refers to self-winding watches as well as quartz watches like this one.  The third page in the manual can be used as a guide to the watch adjustment method.  I found the controls to be simple, everything is controlled by the position of the crown. It can be pulled out into two position, the first position allows change the day of the month, the second position moves the arms.<br /><br />Overall, this is a very attractive classy looking watch.  It comes in attractive package, the box has a pillow and include a gift bag.<br /><br />This watch is provided by BUREI for review.  Getting a review product does not influence what I say, I leave critical reviews as well as positive reviews like this one.<br /><br />Ali Julia review', '2015-08-31')\n",
            "('US', 32555369, 'R2KBTEW8GUENVS', 'B00NC8PMUK', 944169262, 'Motorola Moto 360 Modern Timepiece Smart Watch - Black Leather 00418NARTL', 'Watches', 5, 0, 1, 'N', 'Y', 'Great buy', 'Awesome watch for the price', '2015-08-31')\n",
            "('US', 150916, 'R2R4XPHTT9CCBN', 'B00C1C5J9W', 851584415, 'Domire Fashion Accessories Trial Order New Quartz Fashion Weave Wrap Around Leather Bracelet Lady Woman Butterfly Wrist Watch', 'Watches', 5, 0, 0, 'N', 'Y', 'Love this watch', 'Love this watch, I just received it yesterday it looks really nice on my  wrist, my friends and family love it.', '2015-08-31')\n",
            "('US', 36363182, 'R7GHUDPGT3WJC', 'B000GB0G5M', 492842685, \"Casio Women's LQ139B-1B Classic Round Analog Watch\", 'Watches', 3, 0, 0, 'N', 'Y', 'Nice watch but band is a little small', 'Nice face, easy to read. The band is a little too small.', '2015-08-31')\n",
            "('US', 10356300, 'R364RU42RZ606Z', 'B00F8AWMXA', 397647155, \"Invicta Men's 15256 I-Force Gunmetal Ion-Plated Stainless Steel Watch with Black Leather Strap\", 'Watches', 1, 0, 0, 'N', 'Y', 'One Star', 'crap', '2015-08-31')\n",
            "('US', 52437550, 'R2D5SV3UNHQPYZ', 'B005MDPAPU', 645499118, \"Casio Men's Slim Solar Multi-Function Analog-Digital Watch\", 'Watches', 4, 0, 0, 'N', 'Y', 'Easy to read with lots of features', 'This is now my everyday watch.  Easy to read with lots of features.  Light  and functional.  You can not beat the price.  It is clean in detail and I love the watch.', '2015-08-31')\n",
            "('US', 14495291, 'R15OQG60W2R4PQ', 'B006C8NJY8', 865472849, 'TS6202BLK 8 Belt Box Organizer Black Leather XL Compartments', 'Watches', 5, 0, 0, 'N', 'Y', 'amazing product keeps everything safe and secure organized great quality ...', 'amazing product keeps everything safe and secure organized great quality for my designer belts perfect for homes or traveling', '2015-08-31')\n",
            "('US', 16192612, 'R2XF4SMK4HKNVV', 'B00791YURC', 310034618, \"Casio Men's GW2310FB-1CR G-Shock Shock Resistant Multifunction Watch\", 'Watches', 3, 0, 0, 'N', 'Y', \"Size of a woman's watch\", \"Watch looks amazing and the features are second to none, but....the watch is small.  I have a PAW-5000 which dwarfs it.  I had to look at the box to make sure I didn't get a woman's watch.  No joke, the band on my, average at best, sized wrist almost couldn't accommodate it.  Probably had 1.5 inch left on the band after I put it on.  Make this Man-size and it would fantastic.\", '2015-08-31')\n",
            "('US', 19983148, 'RQ70UFZVX7UVJ', 'B00S69FO0I', 406011595, \"U.S. Polo Assn. Sport Men's US9506 Analog-Digital Display Silver-Tone Watch with Textured Band\", 'Watches', 1, 0, 0, 'N', 'Y', 'poor quality', 'Metal color was changed after the first use , which indicates a very poor quality', '2015-08-31')\n",
            "('US', 27325652, 'R2288KJ7D0H149', 'B00C7IQBRY', 201258316, \"Cerentino Women's CR106-TQ  Turquoise Silicone Rubber Rhinestones Watch\", 'Watches', 4, 1, 1, 'N', 'Y', 'Really cute watch', 'So far so good. I have only had this watch a few weeks & so far it is still working. Style is really cute exactly as pictured', '2015-08-31')\n",
            "('US', 14530627, 'RKJ0UN6XEJKIP', 'B009S4U1TY', 830280907, \"Batman Kids' BAT4072 Black Rubber Batman Logo Strap Watch\", 'Watches', 5, 0, 0, 'N', 'Y', 'Five Stars', 'Grand Kids loved this', '2015-08-31')\n",
            "('US', 6648801, 'R3VFQZTEST0L7U', 'B000B55AEA', 851729310, 'Timex Easy Reader Day-Date Leather Strap Watch', 'Watches', 5, 0, 0, 'N', 'Y', 'Love it!!!', 'Have worn it constantly, love the light at night', '2015-08-31')\n",
            "('US', 15920046, 'RLQ8MLTO09215', 'B0053HDR78', 576694666, 'Casio F108WH Water Resistant Digital Blue Resin Strap Watch', 'Watches', 5, 0, 0, 'N', 'Y', 'Five Stars', 'Wife loves it and nice looking watch,', '2015-08-31')\n",
            "('US', 2902435, 'R2PCHVAM074L1I', 'B00NC8PMUK', 944169262, 'Motorola Moto 360 Modern Timepiece Smart Watch - Black Leather 00418NARTL', 'Watches', 4, 0, 0, 'N', 'Y', 'Decent price-tag, more than average product', 'Great product . Love the continous innovation in this field and given the price-tag of $149, this product is a steal . Bought it 1 week back . Battery is satisfactory . Charges fast . Discharges within 12-15 hours . But it has a touch screen, so naturally its going to eat-up battery. For entry level android-wear, pretty decent', '2015-08-31')\n",
            "('US', 13929294, 'R2WV1IG5ORN33W', 'B008OIOLQO', 340110662, \"Ingersoll Men's IN1824CR Monticello Fine Automatic Timepiece Cream Dial Watch\", 'Watches', 5, 0, 0, 'N', 'Y', 'A very beautul and well-made pilots watch. Highly detailed ...', 'A very beautul and well-made pilots watch. Highly detailed dial,as well. The movement is tack- on for 24 hours but if you are not a ditch digger,wind it 20 revs  daily.', '2015-08-31')\n",
            "('US', 12696721, 'R2X7VDDS4ISTBC', 'B009PQB036', 696981257, \"Lucien Piccard Men's 11576-YG-01 Clariden Black Textured Dial Watch\", 'Watches', 5, 0, 1, 'N', 'Y', 'Great looking watch!', \"Comfortable, looks great, very lightweight.The band is a little on the short side, but it's usable and not a big deal to replace.\", '2015-08-31')\n",
            "('US', 4774720, 'R2POCZUBL0D0NX', 'B007X0E178', 953514677, \"XOXO Women's XO5478 Rhinestone-Accented Two-Tone Watch\", 'Watches', 5, 0, 0, 'N', 'Y', 'Five Stars', 'excelent product', '2015-08-31')\n",
            "('US', 12074902, 'R2Z9C8BYOJF24I', 'B00BXQSHRI', 714629498, 'Watch Case Press with 12 Nylon Dies, Watch Case Closer Set', 'Watches', 5, 0, 0, 'N', 'Y', 'Sturdy and well constructed', 'This press is very well constructed and sturdy. The different dies are easily interchangeable. A good tool for watches and miniature work.', '2015-08-31')\n",
            "('US', 44068063, 'R1EBMIQ69CZ64', 'B00ZI3SGXM', 294102740, \"Stuhrling Original Women's 956.02 Symphony Gold-Tone Watch with Brown Genuine Leather Band\", 'Watches', 4, 0, 0, 'N', 'Y', 'Four Stars', \"Love the look but the leather band is so stiff it doesn't conform well to my wrist.\", '2015-08-31')\n",
            "('US', 916000, 'R2PVH1MHLKN9A7', 'B0053A0HB4', 199546574, 'Casio G-shock Mudman Multiband6 Japanese Model [ Gw-9300-1jf ]', 'Watches', 5, 0, 0, 'N', 'Y', 'excellent product.', 'Beyond my expectation..excellent product..good quality, well built, nicely done..:)', '2015-08-31')\n",
            "('US', 1196727, 'R1SOUO6DCO4X5H', 'B00QBTQX50', 29617990, 'iStrap Calfskin Leather Watch Band Replacement Choice of Color & Width (18mm,19mm, 20mm,21mm or 22mm)', 'Watches', 1, 0, 1, 'N', 'Y', 'One Star', 'It was bad it didnt fit my 22mm retro casio', '2015-08-31')\n",
            "('US', 7503824, 'R32ZIHMEIOPDZN', 'B00G3JSF22', 978361500, \"G-SHOCK Men's GA-100 Neon Highlights Watch\", 'Watches', 5, 0, 0, 'N', 'N', '8/10 Only gripe is that I wish the back light was a tad better.', 'Watch kicks ass. Upon putting on this watch you will grow a full beard and be able to tame a pack of wolves by looking at them. 8/10 Only gripe is that I wish the back light was a tad better.', '2015-08-31')\n",
            "('US', 14512093, 'R1HLVYTW271JWX', 'B002NQXYL6', 161383158, 'Voguestrap TX046801XL Allstrap 16-20mm Brown Extra-Long-Length Fits Fast-Wrap Expedition Watchband', 'Watches', 3, 0, 0, 'N', 'Y', \"It's a good value, and a good functional watch strap\", \"It's a good value, and a good functional watch strap.  It's super wide though, and takes more space on the wrist than I'd like.\", '2015-08-31')\n",
            "('US', 2143821, 'R2Z9MTUMD7LGLN', 'B004MAZN3I', 165342893, \"Seiko Men's SNKK27 Seiko 5 Stainless Steel Automatic Watch\", 'Watches', 5, 0, 0, 'N', 'Y', 'Wish the seller would furnish a model that works.', 'Loved the watch; it just did not work supposedly self-winding; tried all possible motions to cause the winder clearly visible from the rear of the watch; no luck', '2015-08-31')\n",
            "('US', 18380508, 'R3RZZY4RZJUBOW', 'B000JQFX1G', 400836338, \"Invicta Men's 8926OB Pro Diver Stainless Steel Automatic Watch with Link Bracelet\", 'Watches', 3, 0, 0, 'N', 'Y', 'Worth the money, be careful with the glass.', 'Alrighty, after seeking out the ultimate low-profile, ultra water resistant, mechanical watch with a rotating bezel and date for less than $100, I settled on this.<br /><br />It looks much like the famous Rolex Submariner, and performs similarly.<br /><br />However, after about a year of use now, the paint on the bezel is chipping, and after a decent smack on the hood of a car the crystal has cracked and all but shattered.<br /><br />It keeps time fairly well, gaining about 15 seconds per day, without taking it to a healer for fine tuning.', '2015-08-31')\n",
            "('US', 431372, 'R1ZXB27702XVCE', 'B00A6B9N6U', 491671113, \"Swiss Legend Women's 11044D-01 Neptune Black Dial Watch with Silicone Band\", 'Watches', 5, 0, 0, 'N', 'Y', 'Five Stars', 'Love it', '2015-08-31')\n",
            "('US', 1567510, 'RSFQ1G70Z858U', 'B00HJ7T0OY', 822340800, \"Absolute Hot Iron man Super Hero build-in Blue LED for Men's luxury Army military Wrist Watches\", 'Watches', 3, 0, 0, 'N', 'Y', \"I wouldn't order it again for myself.\", 'Not bad but a little tacky. It does have substantial weight for a $15 watch.', '2015-08-31')\n",
            "('US', 34086987, 'R2UV2KNKCZBLK9', 'B004401KHE', 604208769, \"Seiko Men's White Dial Brown Leather Easy Reader Solar Calendar Watch\", 'Watches', 5, 0, 0, 'N', 'Y', 'I thought it looked beautiful. My boyfriend loved it', \"I thought it looked beautiful.  My boyfriend loved it.  It's only been a few days, so I can't comment on durability.  But, I didn't have some of the problems mentioned in other reviews--the little dots around the outside glowed like they were supposed to, it was easy to set including the date, the band was fine and long enough even though my boyfriend wears it loose.  Great price too--I see them in stores for nearly twice what I paid.\", '2015-08-31')\n",
            "('US', 1685723, 'R9UQFP5AYOWD4', 'B001UGDB0O', 762085956, 'Michael Kors Womens MK5145 - Runway Chronograph', 'Watches', 5, 0, 0, 'N', 'Y', 'Beautiful and sophisticated', 'More beautiful in person. High quality! Looks understated but so sophisticated! It was a gift for my mother and she loved it!', '2015-08-31')\n",
            "('US', 3307875, 'R3V27ZXF549EAQ', 'B00L4JRXIS', 627047973, \"Armitron Sport Women's 25/6416 Easy To Read Dial Resin Strap Watch\", 'Watches', 3, 0, 0, 'N', 'Y', 'Sport watch', \"It's a nice watch but if you have a large arm it will not fit  well.  does good under water I use when I go to water aerobic to keep tack of my time\", '2015-08-31')\n",
            "('US', 47955030, 'R2W4OB11T2UXAV', 'B009PQB5K4', 418141913, \"Lucien Piccard Men's 11577-RG-02S Stockhorn Silver Textured Dial Brown Leather Watch\", 'Watches', 5, 0, 0, 'N', 'Y', 'Beautiful watch! Looks better on the wrist than in ...', 'Beautiful watch! Looks better on the wrist than in the picture.  Could not have been more pleased. A great addition to my collection.', '2015-08-31')\n",
            "('US', 36687968, 'R2MBPYZV5SYT5B', 'B003M2G0SY', 908936114, 'LEGO Star Wars Yoda Kids Buildable Watch with Link Bracelet and Minifigure | green/gray | plastic | 28mm case diameter| analog quartz | boy girl | official', 'Watches', 4, 0, 0, 'N', 'Y', 'he loved', 'Bought for a cousin, he loved it', '2015-08-31')\n",
            "('US', 37595973, 'R2NU7Y4TV3Z9Q7', 'B002SSUQFG', 354933056, \"Seiko Men's SNK809 Seiko 5 Automatic Stainless Steel Watch with Black Canvas Strap\", 'Watches', 5, 0, 0, 'N', 'Y', 'Five Stars', 'Man watch for woman, just a right size and design for it.', '2015-08-31')\n",
            "('US', 50033390, 'R38NIR3U01EIS4', 'B003622WUK', 890272218, \"Tissot Women's T0492103303300 PR 100 Gold-Tone Silver Dial Watch\", 'Watches', 4, 1, 1, 'N', 'Y', 'I like the watch', \"I like the watch!  I had its predecessor and enjoyed it until all the numbers started to fall off.  Hope that does not happen to this one.  The numbers run together it's sometimes difficult to distinguish the time.  I'm adjusting to it.  Like the new clasp.\", '2015-08-31')\n",
            "('US', 28119981, 'RZ999X8LL9GU7', 'B00L8M9Z32', 686288185, \"CASIO BABY-G (BG-6900SG-8JF) GLITTER DIAL SERIES LADY'S WATCH JAPANESE MODEL 2014 JULY RELEASED\", 'Watches', 5, 0, 0, 'N', 'Y', 'Sparkly and nice', \"I have many Baby-G's, but none have gotten as much attention and compliments as this one. The glitter pops out at everyone and the silver makes it look feminine and sleek. I paid $120 for it, wayy more than I usually pay for Baby-G's, but I think it was worth it, especially since it's a special Japanese model. Probably won't see many people with this watch making it pretty unique. I like the background light is a light blue color, goes well with the color of the watch.\", '2015-08-31')\n",
            "('US', 24667426, 'R34A40GBG3IVJD', 'B000GAWSA4', 700023949, \"Casio Men's AW80V-1BV\", 'Watches', 5, 0, 0, 'N', 'Y', 'Five Stars', 'Perfect watch for camping and hiking.', '2015-08-31')\n",
            "('US', 207824, 'R2DAHAETN8AOHL', 'B004YM2FV2', 649128875, 'Bling Jewelry Plated Classic Round CZ Ladies Watch', 'Watches', 5, 0, 0, 'N', 'Y', 'Five Stars', 'the watch is beautiful, a little on the big side but it is perfect!!!!! LOVE LOVE LOVE!!!!!', '2015-08-31')\n",
            "('US', 46189902, 'R1A6ZHMS6ED9SM', 'B008RNKIV8', 341504925, \"Citizen Men's AT8020-54L Blue Angels Stainless Steel Eco-Drive Dress Watch\", 'Watches', 5, 0, 1, 'N', 'Y', 'The watch as expected was an amazing product from citizen', 'The watch as expected was an amazing product from citizen, however the the cover was in a damaged condition which was quite upsetting since I was planning to gift this to some one.', '2015-08-31')\n",
            "('US', 47558372, 'R4BUD64L0L617', 'B000SZNTLO', 544270597, 'Timex Ironman Sleek 50-Lap Full Size', 'Watches', 5, 0, 0, 'N', 'Y', 'Five Stars', 'great looking sports watch', '2015-08-31')\n",
            "('US', 33322445, 'R3JSX07PSTFFPE', 'B00MNC53XW', 567086073, 'Outop Wholesale Lot of 5pcs Womens Girls Butterfly Bracelet Wrist Watches', 'Watches', 5, 0, 0, 'N', 'Y', 'Fun and inexpensive', 'These were purchased for my daughter and her friend, but I liked them enough that I kept one for myself as well!', '2015-08-31')\n",
            "('US', 41784200, 'R100HLZJGWAXRP', 'B00BF77S2K', 479360900, \"Timex Kids' T7B9829J IronKids Translucent Blue Sport Watch\", 'Watches', 1, 2, 2, 'N', 'Y', 'Leaks water - total junk', \"This is junk.  Why would you name a watch an ironkid watch if it isn't made for swimming (last time I checked an ironman consisted of swim, bike and run)?  It claims it is water resistant but the watch leaks and it will die if your kid wears it in a pool.  Don't waste your money.\", '2015-08-31')\n",
            "('US', 26050402, 'R1PFCOIMT3ND68', 'B00OHD6SLG', 721711830, \"Cool Men's Racer Military Pilot Army Silicone Sports Watch\", 'Watches', 1, 0, 0, 'N', 'Y', 'One Star', 'Lens cracked on the third day', '2015-08-31')\n",
            "('US', 48880662, 'R2G0EK7EUCTDXU', 'B003DIP9BQ', 941077778, \"XOXO Women's XO110 Silver Dial Gold-tone Bracelet Watch\", 'Watches', 5, 0, 0, 'N', 'Y', 'Five Stars', 'very good', '2015-08-31')\n",
            "('US', 13675081, 'RBGAF34UPP636', 'B00L3VGTA0', 667419707, \"Armitron Men's Black Sunray Dial Silvertone Bracelet Watch\", 'Watches', 4, 0, 0, 'N', 'Y', 'My husband like it but he would have liked the dial face ...', \"My husband like it but he would have liked the dial face to be a little smaller. He is not used to the bigger face but getting used to it. The picture product was hard to tell about the dial face and don't think it mention about the dial face being bigger than normal. Besides that everything else is really well made.\", '2015-08-31')\n",
            "('US', 875559, 'R3FVL714L4L8BS', 'B00RCUTIRM', 731342946, \"Akribos XXIV Men's AK787YGBU Quartz Movement Watch with Blue Dial and Yellow Gold Stainless Steel Bracelet\", 'Watches', 5, 0, 0, 'N', 'Y', 'Five Stars', 'Excellent product and seller very good service', '2015-08-31')\n",
            "('US', 4014799, 'R2DOJG0AT3YOK4', 'B00V30U79K', 18936638, 'Topwell Mens Wood watches, Date Time 24hours Wooden watch with Round Multi-Eyed QUARTZ Wrist Watch for Gift', 'Watches', 5, 4, 4, 'N', 'N', 'amazing -- perfect gift', \"This is a very nice watch, i love that it's made of wood but black in color. The face is big and has three silver, decorative yet functional dials. It's extremely lightweight and comfortable to wear. It's so lightweight you could actually forget you're wearing it. The wood is very smooth and the semi-matte finish is very dressy.<br />The links move easily and is worn without catching or squeezing skin/hair. It's easy to adjust so it will fit a variety of  wrist sizesI love that it's water proof because although very dressy it can be worn for every day use.<br />This would make a great gift for any man in your life.<br />I received this product complimentary in exchange for my honest opinion but the opinion expressed is all my own.\", '2015-08-31')\n",
            "('US', 2228523, 'R29HFELXCSF7KD', 'B00STAXIHU', 690763506, \"Fossil Women's ES3822 Georgia Stainless Steel Watch with Blue Leather Band\", 'Watches', 5, 0, 0, 'N', 'Y', 'Five Stars', 'Love. That is pretty much it. Item as described, really beautiful and functional.', '2015-08-31')\n",
            "('US', 16309813, 'R1EZ1QK1I9BD70', 'B00DUW21F2', 87555656, \"Stuhrling Original Men's 574.03 Analog Executive II Stainless Steel Automatic Skeleton Watch with Brown Leather Band\", 'Watches', 5, 0, 0, 'N', 'Y', 'Five Stars', 'husband loves it', '2015-08-31')\n",
            "('US', 45661904, 'R1OXYDAWK2WUJ9', 'B00MO38XL4', 476271516, \"Armitron Sport Women's 25/6422BLK Easy to Read Dial Black Resin Strap Watch\", 'Watches', 5, 0, 0, 'N', 'Y', 'So pretty, strap is so soft', 'So pretty, strap is so soft, easy pliable rubber material. Unfortunately, bezel does not turn. But I recommend this for everyday nursing use.', '2015-08-31')\n",
            "('US', 106740, 'R27YN77RE11XHO', 'B00K8HMHCE', 575505209, \"Swiss Legend Men's 10068-03 Commander II Analog Display Swiss Quartz Blue Watch\", 'Watches', 4, 2, 2, 'N', 'Y', 'but I like it', \"The size and thickness is Huge. the color is eye Popping.The band is durable and ridged . the only problem I have is that it doesn't glow to mush in the dark. but I like it\", '2015-08-31')\n",
            "('US', 42795523, 'RW45AV6JXQPUN', 'B001DK6OKQ', 79293794, \"Stuhrling Original Men's 219.331657 Symphony Eternity Monterey Swiss Quartz Date Watch\", 'Watches', 3, 0, 0, 'N', 'N', 'Three Stars', 'the band broke in first week', '2015-08-31')\n",
            "('US', 10564575, 'R2ISDC90DZMHFM', 'B0094PS284', 842528710, 'LuckyStore 14mm 5X Watch Band Stainless Steel Spring Bars Strap Link Pin Watchmaker New', 'Watches', 5, 0, 0, 'N', 'Y', '14mm watch pin', \"This is exactly what I was looking for!  I fixed my watch band and haven't been happier!  I didn't need 5, but the extra 4 may come in handy.\", '2015-08-31')\n",
            "('US', 2239679, 'R1WVL1E6FMSFR4', 'B00FDLB2S0', 992050854, \"red line Men's RL-50042-YG-01 Stealth Chronograph Black Textured Dial Black Silicone Watch\", 'Watches', 5, 0, 0, 'N', 'Y', 'Five Stars', 'PERFECT', '2015-08-31')\n",
            "('US', 43807131, 'RGQ1YQSNQ3LE5', 'B00EVPMC88', 516415826, 'Seiko Men\\'s SNKL43 \"Seiko 5\" Stainless Steel Automatic Watch', 'Watches', 4, 0, 0, 'N', 'Y', 'Good seiko 5', 'A great automatic, but I give it 4 stars for being too conservative with its small size and the blue is dark and more of a navy color unless light is shining on it and reflecting. Other than that, like all based seiko 5s, it looks great on a Nato strap. I have this bad boy setup on a brown leather strap with a deployable clasp which looks very similar to the Omega Seamaster Aqua Terra. A great watch that can be worn in almost any occasion except when swimming', '2015-08-31')\n",
            "('US', 7189800, 'RE73CRP4JKXW1', 'B00G2R7E3Q', 131804424, \"Invicta Men's 14640 I-Force Analog Display Japanese Quartz Black Watch\", 'Watches', 1, 0, 0, 'N', 'Y', 'Disappointed by the huge size of it', \"Disappointed by the huge size of it, although yes they say in the specs it's a 52&#34; etc...<br />Sent it back. The taxes and p&p cost made me pay for it again.\", '2015-08-31')\n",
            "('US', 15305006, 'R2EQL1V1L6E0C9', 'B004LURNO6', 892860326, 'Nemesis #HST-K Unisex Black Wide Leather Cuff Wrist Watch Band', 'Watches', 5, 0, 0, 'N', 'Y', 'Five Stars', 'Love it', '2015-08-31')\n",
            "('US', 107342, 'RZOQUM3M5CAVH', 'B005OT1POW', 202690497, \"Tommy Hilfiger  Women's 1781145 Sport Stainless Steel  Watch\", 'Watches', 5, 0, 0, 'N', 'Y', 'Five Stars', 'Cool', '2015-08-31')\n",
            "('US', 138028, 'RRJBEIAITDLAQ', 'B007LPRLXG', 973233011, 'GUESS U17531G1 - Bold and Sporty Watch Silver', 'Watches', 2, 0, 0, 'N', 'N', 'i received watch in good condition, however he battery was not working and ...', 'first:<br />i received watch in good condition, however he battery was not working and i changed the battery<br />second:<br />i tried the watch to my hand but unfortunately was not amazing, it is for old ppl more than youth. i am looking to change the model .<br />i dont know if i can change irt from guess agent in Scotland/Edinburgh or not.', '2015-08-31')\n",
            "('US', 52229317, 'R6EMI5RKW73N3', 'B00QK2HAFK', 78116254, \"Armitron Men's 20/5048 Day/Date Function Dial Croco-Grain Leather Strap Watch\", 'Watches', 4, 1, 2, 'Y', 'N', 'Great Watch for the Price', \"This is a good looking men's watch that would go well with most outfits, though it's leather strap pushes it to a more dressy watch. It's a simple watch with a day and date window. It is luminescent on the hour marks but not on the watch hands themselves, which is a little weird.<br /><br />I would be curious to see how long the battery lasts. Aside from the watch band wearing out, that would be the weakest part of this watch in the long term.\", '2015-08-31')\n",
            "('US', 44293218, 'R12NA6QEKA1PRI', 'B003X11UFM', 790174403, \"Stuhrling Original Men's 238.321K43 Ascot Newberry Analog Swiss Quartz Brown Leather Watch\", 'Watches', 3, 3, 3, 'N', 'Y', 'Great looks, medium quality', \"It's a great looking product. One of the best watches I have ever seen. The quality is mediocre but that's alright. Just keep it out of water as much as possible and the leather should hold up alright.\", '2015-08-31')\n",
            "('US', 3669388, 'R2M6EF6NI4VV6I', 'B00A6OEWA4', 985088364, \"AMPM24 Men's Hand-winding Mechanical Watch Black Leather Watchband Skeleton PMW069\", 'Watches', 4, 0, 0, 'N', 'Y', 'Four Stars', 'Good value product', '2015-08-31')\n",
            "('US', 51897929, 'R2H287IH770TN7', 'B006QAX906', 957756572, \"Gotham Men's Silver-Tone Ultra Thin Railroad Open Face Quartz Pocket Watch # GWC15022S\", 'Watches', 5, 0, 0, 'N', 'Y', 'Looks good.', 'Looks good. Not bulky. Keeps good time.', '2015-08-31')\n",
            "('US', 48880662, 'R19SU6JVQQA05B', 'B00BS8U8PU', 132047116, 'Casio Unisex MRW200H-2BV Neo-Display Black Watch with Resin Band', 'Watches', 5, 0, 0, 'N', 'Y', 'Five Stars', 'good', '2015-08-31')\n",
            "('US', 39984561, 'R561PSHO7D095', 'B001F0PTNM', 670846500, \"Hadley-Roma Men's MSM881RB-170 17-mm Brown Oil-Tan Leather Watch Strap\", 'Watches', 5, 0, 0, 'N', 'Y', 'Great leather watch band.', 'This is my 3rd Hadley Roma leather watch band. Others lasted 3+ years. Great quality and design at a good price.', '2015-08-31')\n",
            "('US', 17141249, 'RUITIQHK33YXJ', 'B00Q7DETQU', 763436398, 'Michael Kors Petite Silvertone Darci Watch', 'Watches', 5, 0, 0, 'N', 'Y', 'petite watch - goes great with my engagement ring', 'Gorgeous, petite watch - goes great with my engagement ring ;-)', '2015-08-31')\n",
            "('US', 29140914, 'R21BZGZC61EB1G', 'B00LW3RP0W', 198443125, 'Timex Expedition Rugged Metal Watch', 'Watches', 4, 0, 0, 'N', 'Y', 'Four Stars', 'heavier than expected', '2015-08-31')\n"
          ]
        }
      ]
    },
    {
      "cell_type": "markdown",
      "source": [
        "Acima, vimos que nossa última linha é a 100. Por isso, não conseguimos ver o que está na célula 101, que está vazia.\n",
        "\n",
        "Entretanto, se adicionarmos conteúdo à célula `A102`, iremos ter como retorno diversas entradas vazias. Conforme fizemos abaixo."
      ],
      "metadata": {
        "id": "_Uxe3bCK2uEE"
      }
    },
    {
      "cell_type": "code",
      "source": [
        "# adicionando conteúdo à célula A102\n",
        "sheet['A102'] = \"teste\"\n",
        "\n",
        "print_rows()"
      ],
      "metadata": {
        "colab": {
          "base_uri": "https://localhost:8080/"
        },
        "id": "hKYoGkBa2_Et",
        "outputId": "da70c628-6583-46dd-b746-21fe1a784f39"
      },
      "execution_count": null,
      "outputs": [
        {
          "output_type": "stream",
          "name": "stdout",
          "text": [
            "('Marketplace', 'customer_id', 'review_id', 'product_id', 'product_parent', 'product_title', 'product_category', 'star_rating', 'helpful_votes', 'total_votes', 'vine', 'verified_purchase', 'review_headline', 'review_body', 'review_date')\n",
            "('US', 3653882, 'R3O9SGZBVQBV76', 'B00FALQ1ZC', 937001370, 'Invicta Women\\'s 15150 \"Angel\" 18k Yellow Gold Ion-Plated Stainless Steel and Brown Leather Watch', 'Watches', 5, 0, 0, 'N', 'Y', 'Five Stars', 'Absolutely love this watch! Get compliments almost every time I wear it. Dainty.', '2015-08-31')\n",
            "('US', 14661224, 'RKH8BNC3L5DLF', 'B00D3RGO20', 484010722, \"Kenneth Cole New York Women's KC4944 Automatic Silver Automatic Mesh Bracelet Analog Watch\", 'Watches', 5, 0, 0, 'N', 'Y', 'I love thiswatch it keeps time wonderfully', 'I love this watch it keeps time wonderfully.', '2015-08-31')\n",
            "('US', 27324930, 'R2HLE8WKZSU3NL', 'B00DKYC7TK', 361166390, 'Ritche 22mm Black Stainless Steel Bracelet Watch Band Strap Pebble Time/Pebble Classic', 'Watches', 2, 1, 1, 'N', 'Y', 'Two Stars', 'Scratches', '2015-08-31')\n",
            "('US', 7211452, 'R31U3UH5AZ42LL', 'B000EQS1JW', 958035625, \"Citizen Men's BM8180-03E Eco-Drive Stainless Steel Watch with Green Canvas Band\", 'Watches', 5, 0, 0, 'N', 'Y', 'Five Stars', 'It works well on me. However, I found cheaper prices in other places after making the purchase', '2015-08-31')\n",
            "('US', 12733322, 'R2SV659OUJ945Y', 'B00A6GFD7S', 765328221, \"Orient ER27009B Men's Symphony Automatic Stainless Steel Black Dial Mechanical Watch\", 'Watches', 4, 0, 0, 'N', 'Y', 'Beautiful face, but cheap sounding links', \"Beautiful watch face.  The band looks nice all around.  The links do make that squeaky cheapo noise when you swing it back and forth on your wrist which can be embarrassing in front of watch enthusiasts.  However, to the naked eye from afar, you can't tell the links are cheap or folded because it is well polished and brushed and the folds are pretty tight for the most part.<br /><br />I love the new member of my collection and it looks great.  I've had it for about a week and so far it has kept good time despite day 1 which is typical of a new mechanical watch\", '2015-08-31')\n",
            "('US', 6576411, 'RA51CP8TR5A2L', 'B00EYSOSE8', 230493695, \"Casio Men's GW-9400BJ-1JF G-Shock Master of G Rangeman Digital Solar Black Carbon Fiber Insert Watch\", 'Watches', 5, 0, 0, 'N', 'Y', 'No complaints', 'i love this watch for my purpose, about the people complaining should of done their research better before buying. dumb people.', '2015-08-31')\n",
            "('US', 11811565, 'RB2Q7DLDN6TH6', 'B00WM0QA3M', 549298279, \"Fossil Women's ES3851 Urban Traveler Multifunction Stainless Steel Watch - Rose\", 'Watches', 5, 1, 1, 'N', 'Y', 'Five Stars', 'for my wife and she loved it, looks great and a great price!', '2015-08-31')\n",
            "('US', 49401598, 'R2RHFJV0UYBK3Y', 'B00A4EYBR0', 844009113, 'INFANTRY Mens Night Vision Analog Quartz Wrist Watch with Nato Nylon Watchband-Red.', 'Watches', 1, 1, 5, 'N', 'N', 'I was about to buy this thinking it was a ...', 'I was about to buy this thinking it was a Swiss Army Infantry watch-- the description uses the words infantry and army--- when I realized it must be a fraud for $12.00. This should not be offered on Amazon-- it is designed to confuse consumers.', '2015-08-31')\n",
            "('US', 45925069, 'R2Z6JOQ94LFHEP', 'B00MAMPGGE', 263720892, \"G-Shock Men's Grey Sport Watch\", 'Watches', 5, 1, 2, 'N', 'Y', 'Perfect watch!', \"Watch is perfect. Rugged with the metal &#34;Bull Bars&#34;. The red accents are a great touch and I get compliments when wearing it. If you are worried about being able to read this in sunlight or in the dark don't! The LED ilumination works great! I might even get this in a different color for my next G-Shock purchase!\", '2015-08-31')\n",
            "('US', 44751341, 'RX27XIIWY5JPB', 'B004LBPB7Q', 124278407, 'Heiden Quad Watch Winder in Black Leather', 'Watches', 4, 0, 0, 'N', 'Y', 'Great quality and build', 'Great quality and build.<br />The motors are really silent.<br />After fiddling with the settings my watches are always charged and ready to use.', '2015-08-31')\n",
            "('US', 9962330, 'R15C7QEZT0LGZN', 'B00KGTVGKS', 28017857, \"Fossil Women's ES3621 Serena Crystal-Accented Two-Tone Stainless Steel Watch\", 'Watches', 4, 2, 2, 'N', 'Y', 'Satisfied', \"The watch was pretty much as it was described and how it looks. I really like the simplicity of it and it looks pretty amazing. It is slightly too big, so I have yet to adjust it, but I'm glad it's too big rather than too small. The weight is good which is what I was hoping for. Very satisfied with this purchase. I was slightly on the fence getting this one because of the previous fossil watch I had, which by some time, did have some gems fall off from ring around the numbers, but so far so good with this one! Excuse my bad lighting for my pic.\", '2015-08-31')\n",
            "('US', 16097204, 'R361XSS37V0NCZ', 'B0039UT5OU', 685450910, \"Casio General Men's Watches Sporty Digital AE-2000W-1AVDF - WW\", 'Watches', 1, 0, 0, 'N', 'N', 'I do not think this watch is a good product. Do not buy it', 'I bought this watch on 2013, the screen had a problem 10 months later. I sent the watch back to Casio Service Center in LA, they sent to me a replacement new watch. Last week, less than one year after I received the new watch, the battery is out.  I went to a shop to replace the battery. Then the A button of the watch do not working, so I could not change the time and other settings. I do not think this watch is a good product. Do not buy it.', '2015-08-31')\n",
            "('US', 51330346, 'ROTNLALUAJAUB', 'B00MPF0XJQ', 767769082, '2Tone Gold Silver Cable Band Ladies Bangle Cuff Watch', 'Watches', 3, 0, 0, 'N', 'Y', 'Three Stars', \"It is a cheap watch that looks cheap.  There isn't much else to say.\", '2015-08-31')\n",
            "('US', 4201739, 'R2DYX7QU6BGOHR', 'B003P1OHHS', 648595227, \"Bulova Men's 98B143 Precisionist Charcoal Grey Dial Bracelet Watch\", 'Watches', 5, 0, 0, 'N', 'Y', 'Five Stars', 'Heavier than i though', '2015-08-31')\n",
            "('US', 26339765, 'RWASY7FKI7QOT', 'B00R70YEOE', 457338020, 'Casio - G-Shock - Gulfmaster - Black - GWN1000C-1A', 'Watches', 5, 2, 3, 'N', 'Y', 'Worth it - love it', 'Had it for several weeks now and I love it - reliable, functional, wears easy, not too heavy.  I also get a lot of comments on it - great watch!', '2015-08-31')\n",
            "('US', 2692576, 'R2KKYZIN3CCL21', 'B000FVE3BG', 824370661, \"Invicta Men's 3329 Force Collection Lefty Watch\", 'Watches', 5, 0, 0, 'N', 'Y', 'This is when different is good.', 'This one is different from the rest of my Invictas. I like the big watches but this one gave a classy more defined look for the craftsmanship. All of the colors compliment each other. It all starts from the stitching of the band.  Very nice watch.', '2015-08-31')\n",
            "('US', 44713366, 'R22H4FGVD5O52O', 'B008X6JB12', 814431355, \"Seiko Women's SUT068 Dress Solar Classic Diamond-Accented Two-Tone Stainless Steel Watch\", 'Watches', 4, 1, 1, 'N', 'Y', 'Thewatch is attractive and easy to read', \"The watch is attractive and easy to read, except for the date. The little diamonds are very, very tiny. All in all, I'm happy with it.\", '2015-08-31')\n",
            "('US', 32778769, 'R11UACZERCM4ZY', 'B0040UOFPW', 187700878, \"Anne Klein Women's 109271MPTT Swarovski Crystal Accented Two-Tone Multi-Chain Bracelet Watch\", 'Watches', 5, 0, 0, 'N', 'Y', 'Five Stars', 'said my wife..', '2015-08-31')\n",
            "('US', 27258523, 'R1AT8NQ38UQOL6', 'B00UR2R5UY', 594315262, \"Guess U13630G1 Men's day and date Gunmetal dial Gunmetal tone bracelet\", 'Watches', 5, 0, 0, 'N', 'Y', 'Five Stars', 'Nice watch, on time delivery from seller.', '2015-08-31')\n",
            "('US', 42646538, 'R2NCZRQGIF1Q75', 'B00HFF57L0', 520810507, \"Nixon Men's Geo Volt Sentry Stainless Steel Watch with Link Bracelet\", 'Watches', 4, 0, 0, 'N', 'Y', 'Very stylish', 'Looks great and love to wear this watch.  Only negative thing is due to its blue/black colors, it is difficult to read in average or low light.  Good thing for me, I wear a watch for looks and not really for telling the time.', '2015-08-31')\n",
            "('US', 46017899, 'RJ9HWWMU4IAHF', 'B00F5O06E6', 601596859, \"Nautica Men's N14699G BFD 101 Chrono Classic Stainless Steel Watch with Brown Band\", 'Watches', 4, 1, 1, 'N', 'Y', 'Good looking watch', \"I really like this watch. It has a great face that contrasts nicely with the white numerals. Keeps time accurately. Overall very pleased. I really like its distinctive look. It's also durable and water proof. I leave it on when I go kayaking or out on the boat fishing.\", '2015-08-31')\n",
            "('US', 37192375, 'R3CNTCKG352GL1', 'B00CHS398I', 798261110, 'HDE Watch Link Pin Remover Band Strap Repair Tool Kit for Watchmakers with Pack of 3 Extra Pins', 'Watches', 4, 0, 0, 'N', 'Y', 'Works great but the watch a used it on was slim ...', 'Works great but the watch a used it on was slim so I had to use a quarter to rase it up the right height', '2015-08-31')\n",
            "('US', 11710007, 'R9Q2LDSES6NBL', 'B003OQ4TA4', 557813802, \"Timex Women's Q7B860 Padded Calfskin 8mm Black Replacement Watchband\", 'Watches', 4, 0, 0, 'N', 'Y', 'Fits perfect on my', 'Just what I needed for my Timex watch. Fits perfect on my wrist', '2015-08-31')\n",
            "('US', 6673146, 'R3629T8HDV5VWU', 'B007X0SYEY', 22870009, 'Movado Men\\'s 0606545 \"Museum\" Perforated Black-Rubber Strap Sport Watch', 'Watches', 5, 1, 1, 'N', 'Y', 'Great Buy!', \"Absolutely LOVE this watch! Amazon prime saved me over $400 after tax from the store prices. Between the great buy and the Coolness of this watch it was an amazing purchase. I can't stop looking at it. Movado is an excellent brand. Time keeping is perfect. Quality is perfect.\", '2015-08-31')\n",
            "('US', 7899951, 'R2CLMKC0IVZ9UX', 'B005KPL7FM', 269520616, \"Invicta Men's 6674 Corduba Chronograph Black Dial Polyurethane Watch\", 'Watches', 5, 0, 0, 'N', 'Y', 'Five Stars', 'Its too large. When you order check the size of the case.', '2015-08-31')\n",
            "('US', 27979201, 'R2QGEJRU4ENYN2', 'B00FNIFI2O', 330558574, \"Szanto Men's SZ 2001 2000 Series Classic Vintage-Inspired Stainless Steel Watch with Pebbled Leather Band\", 'Watches', 5, 1, 1, 'N', 'N', 'This was awatch I bought during a quick sale thing', \"This was a watch I bought during a quick sale thing, so it was cheaper than normal.  I bought it as a daily wear.  It's really a decent watch for the price; a retro look with a modern movement.\", '2015-08-31')\n",
            "('US', 912779, 'R2E5STTYU6LTSC', 'B005JVP0FU', 220345054, \"Casio Men's MRW200H-7EV Sport Resin Watch\", 'Watches', 4, 0, 0, 'N', 'Y', 'Four Stars', 'It works well with nice simple look.', '2015-08-31')\n",
            "('US', 44345527, 'RI97MTVX08KWX', 'B004M23SDI', 299884359, 'Casio F-108WH-2AEF Mens Blue Digital Watch', 'Watches', 3, 0, 0, 'N', 'Y', 'Thought that I read somewhere that you could swim with ...', 'Thought that I read somewhere that you could swim with it. It does not however bear the 50M Water Resistance designation.', '2015-08-31')\n",
            "('US', 2659331, 'RK20LJG750ERC', 'B00RV2L8CE', 714311106, \"August Steiner Men's AS8160TTG Silver And Gold Swiss Quartz Watch with Black Dial and Two Tone Bracelet\", 'Watches', 5, 0, 0, 'N', 'Y', 'Great Watch', 'Perfect Condition, Arrived on Time,Works & Looks Great', '2015-08-31')\n",
            "('US', 805483, 'R1HQZDBB90LMFH', 'B000JQJS6M', 926299553, \"Invicta Men's 8928OB Pro Diver Gold Stainless Steel Two-Tone Automatic Watch\", 'Watches', 5, 2, 2, 'N', 'Y', 'Very Impressive', \"This watch is a very beautiful time piece. This also could be an alternative choice to a Rolex submariner. It also has the same features as a Rolex submariner but it's not as good as a Rolex watch but darn close.<br /><br />Take good care of this watch if you get one because it has gold plating on it. This watch is 'Not' a sport watch.<br /><br />This watch features<br />-Rotating timer dial<br />-All stainless steel (kinda heavy)<br />-Glow in the dark<br />-Water resistant to 200 meters (600 feet)<br />-Automatic winding (from wrist movements)<br />-Shows date<br />-Very beautiful<br /><br />Sizeing isn't difficult, I sized mine by using a thumbtack and a hammer to tap the pins out of the band and I tapped a pin back into the band after removing three band links. If you don't know what your doing then just take it to s jewelry store so they can size it for you\", '2015-08-31')\n",
            "('US', 42590995, 'R2XHQHGXIEYTNI', 'B00VXLJD44', 578998634, \"BOS Men's Automatic self-wind mechanical Pointer Skeleton Watch Black Dial Stainless Steel Band 9008\", 'Watches', 3, 1, 3, 'N', 'Y', 'The epitome of form before function.', \"This is a beautiful watch. I love the look and feel of it, and I get complimented on it all the time. If that were the entirety of the story, this would be a 5 star review.<br /><br />Unfortunately, the most important part of this watch, the functionality, has some issues. Despite this being an automatic winding watch, it doesn't always stay wound. I have had days where I had to re-wind it before the end of the day. Most days however, it does last through the day. I just have to wind it and set the time again in the morning. Other mechanical self winding watches I own will in fact not need to be wound again until I stop wearing them for a full day. In addition, I can't always get the spring fully wound before it will start clicking and the spring skips off the winding gear.<br /><br />If I hadn't been so lazy, I would have returned this watch. Unfortunately, I missed the 30 day return window. So now I'm stuck with an only mostly working but beautiful watch. I guess that makes it kinda like a fashion model. When I think of it that way, it's not quite so disappointing.\", '2015-08-31')\n",
            "('US', 48880662, 'R2BVFRIR7A5UD1', 'B004EFGBW8', 727624097, \"Luminox Men's 3081 Evo Navy SEAL Chronograph Watch\", 'Watches', 5, 0, 0, 'N', 'Y', 'Five Stars', 'very good', '2015-08-31')\n",
            "('US', 112967, 'R3O51G2D52W9DD', 'B00G9X76DG', 86861596, 'INFANTRY Mens 50mm Big Face Military Tactical Analog Digital Sport Wrist Watch Black Silicone Band', 'Watches', 5, 1, 1, 'N', 'Y', 'Surpassed my expectations', 'I was very apprehensive about buying a 28 dollar watch online, but it looked so much like the 400 dollar Invicta Coalition forces watch I was wanting that I went for it.  I was very pleased when it arrived.  It is a BIG, heavy, sharp looking watch and I could not be happier. I am sure I will be purchasing the solid black one as well', '2015-08-31')\n",
            "('US', 51346302, 'R2O0LW0AZ67P3X', 'B00SFTTZ9U', 8403354, \"BUREI Dress Women's Minimalist Wrist Watches with Date Analog Quartz Stainless Steel and Ultra Slim Dial\", 'Watches', 5, 4, 5, 'N', 'N', 'A classy looking watch', '[[VIDEOID:cc599be25462207f860e42621171d7e1]]This watch has an understated clean and classy design.  It looks elegant. It has a stainless steel body and genuine leather band.  The band maximum width 7.5\\\\\\\\\" (last hole), if needed additional holes could be made to make it as wide as 8\\\\\\\\\".<br /><br />The face of the watch is 1 3/16\\\\\\\\\" wide and the watch is 1/4\\\\\\\\\" thick. The back of the watch states it has Japanese quartz movement.  The watch is water resistant to rain and splashing but cannot be submerged into water.<br /><br />This watch is made in China but includes an English manual. The manual covers several watches so it is a somewhat confusing as it refers to self-winding watches as well as quartz watches like this one.  The third page in the manual can be used as a guide to the watch adjustment method.  I found the controls to be simple, everything is controlled by the position of the crown. It can be pulled out into two position, the first position allows change the day of the month, the second position moves the arms.<br /><br />Overall, this is a very attractive classy looking watch.  It comes in attractive package, the box has a pillow and include a gift bag.<br /><br />This watch is provided by BUREI for review.  Getting a review product does not influence what I say, I leave critical reviews as well as positive reviews like this one.<br /><br />Ali Julia review', '2015-08-31')\n",
            "('US', 32555369, 'R2KBTEW8GUENVS', 'B00NC8PMUK', 944169262, 'Motorola Moto 360 Modern Timepiece Smart Watch - Black Leather 00418NARTL', 'Watches', 5, 0, 1, 'N', 'Y', 'Great buy', 'Awesome watch for the price', '2015-08-31')\n",
            "('US', 150916, 'R2R4XPHTT9CCBN', 'B00C1C5J9W', 851584415, 'Domire Fashion Accessories Trial Order New Quartz Fashion Weave Wrap Around Leather Bracelet Lady Woman Butterfly Wrist Watch', 'Watches', 5, 0, 0, 'N', 'Y', 'Love this watch', 'Love this watch, I just received it yesterday it looks really nice on my  wrist, my friends and family love it.', '2015-08-31')\n",
            "('US', 36363182, 'R7GHUDPGT3WJC', 'B000GB0G5M', 492842685, \"Casio Women's LQ139B-1B Classic Round Analog Watch\", 'Watches', 3, 0, 0, 'N', 'Y', 'Nice watch but band is a little small', 'Nice face, easy to read. The band is a little too small.', '2015-08-31')\n",
            "('US', 10356300, 'R364RU42RZ606Z', 'B00F8AWMXA', 397647155, \"Invicta Men's 15256 I-Force Gunmetal Ion-Plated Stainless Steel Watch with Black Leather Strap\", 'Watches', 1, 0, 0, 'N', 'Y', 'One Star', 'crap', '2015-08-31')\n",
            "('US', 52437550, 'R2D5SV3UNHQPYZ', 'B005MDPAPU', 645499118, \"Casio Men's Slim Solar Multi-Function Analog-Digital Watch\", 'Watches', 4, 0, 0, 'N', 'Y', 'Easy to read with lots of features', 'This is now my everyday watch.  Easy to read with lots of features.  Light  and functional.  You can not beat the price.  It is clean in detail and I love the watch.', '2015-08-31')\n",
            "('US', 14495291, 'R15OQG60W2R4PQ', 'B006C8NJY8', 865472849, 'TS6202BLK 8 Belt Box Organizer Black Leather XL Compartments', 'Watches', 5, 0, 0, 'N', 'Y', 'amazing product keeps everything safe and secure organized great quality ...', 'amazing product keeps everything safe and secure organized great quality for my designer belts perfect for homes or traveling', '2015-08-31')\n",
            "('US', 16192612, 'R2XF4SMK4HKNVV', 'B00791YURC', 310034618, \"Casio Men's GW2310FB-1CR G-Shock Shock Resistant Multifunction Watch\", 'Watches', 3, 0, 0, 'N', 'Y', \"Size of a woman's watch\", \"Watch looks amazing and the features are second to none, but....the watch is small.  I have a PAW-5000 which dwarfs it.  I had to look at the box to make sure I didn't get a woman's watch.  No joke, the band on my, average at best, sized wrist almost couldn't accommodate it.  Probably had 1.5 inch left on the band after I put it on.  Make this Man-size and it would fantastic.\", '2015-08-31')\n",
            "('US', 19983148, 'RQ70UFZVX7UVJ', 'B00S69FO0I', 406011595, \"U.S. Polo Assn. Sport Men's US9506 Analog-Digital Display Silver-Tone Watch with Textured Band\", 'Watches', 1, 0, 0, 'N', 'Y', 'poor quality', 'Metal color was changed after the first use , which indicates a very poor quality', '2015-08-31')\n",
            "('US', 27325652, 'R2288KJ7D0H149', 'B00C7IQBRY', 201258316, \"Cerentino Women's CR106-TQ  Turquoise Silicone Rubber Rhinestones Watch\", 'Watches', 4, 1, 1, 'N', 'Y', 'Really cute watch', 'So far so good. I have only had this watch a few weeks & so far it is still working. Style is really cute exactly as pictured', '2015-08-31')\n",
            "('US', 14530627, 'RKJ0UN6XEJKIP', 'B009S4U1TY', 830280907, \"Batman Kids' BAT4072 Black Rubber Batman Logo Strap Watch\", 'Watches', 5, 0, 0, 'N', 'Y', 'Five Stars', 'Grand Kids loved this', '2015-08-31')\n",
            "('US', 6648801, 'R3VFQZTEST0L7U', 'B000B55AEA', 851729310, 'Timex Easy Reader Day-Date Leather Strap Watch', 'Watches', 5, 0, 0, 'N', 'Y', 'Love it!!!', 'Have worn it constantly, love the light at night', '2015-08-31')\n",
            "('US', 15920046, 'RLQ8MLTO09215', 'B0053HDR78', 576694666, 'Casio F108WH Water Resistant Digital Blue Resin Strap Watch', 'Watches', 5, 0, 0, 'N', 'Y', 'Five Stars', 'Wife loves it and nice looking watch,', '2015-08-31')\n",
            "('US', 2902435, 'R2PCHVAM074L1I', 'B00NC8PMUK', 944169262, 'Motorola Moto 360 Modern Timepiece Smart Watch - Black Leather 00418NARTL', 'Watches', 4, 0, 0, 'N', 'Y', 'Decent price-tag, more than average product', 'Great product . Love the continous innovation in this field and given the price-tag of $149, this product is a steal . Bought it 1 week back . Battery is satisfactory . Charges fast . Discharges within 12-15 hours . But it has a touch screen, so naturally its going to eat-up battery. For entry level android-wear, pretty decent', '2015-08-31')\n",
            "('US', 13929294, 'R2WV1IG5ORN33W', 'B008OIOLQO', 340110662, \"Ingersoll Men's IN1824CR Monticello Fine Automatic Timepiece Cream Dial Watch\", 'Watches', 5, 0, 0, 'N', 'Y', 'A very beautul and well-made pilots watch. Highly detailed ...', 'A very beautul and well-made pilots watch. Highly detailed dial,as well. The movement is tack- on for 24 hours but if you are not a ditch digger,wind it 20 revs  daily.', '2015-08-31')\n",
            "('US', 12696721, 'R2X7VDDS4ISTBC', 'B009PQB036', 696981257, \"Lucien Piccard Men's 11576-YG-01 Clariden Black Textured Dial Watch\", 'Watches', 5, 0, 1, 'N', 'Y', 'Great looking watch!', \"Comfortable, looks great, very lightweight.The band is a little on the short side, but it's usable and not a big deal to replace.\", '2015-08-31')\n",
            "('US', 4774720, 'R2POCZUBL0D0NX', 'B007X0E178', 953514677, \"XOXO Women's XO5478 Rhinestone-Accented Two-Tone Watch\", 'Watches', 5, 0, 0, 'N', 'Y', 'Five Stars', 'excelent product', '2015-08-31')\n",
            "('US', 12074902, 'R2Z9C8BYOJF24I', 'B00BXQSHRI', 714629498, 'Watch Case Press with 12 Nylon Dies, Watch Case Closer Set', 'Watches', 5, 0, 0, 'N', 'Y', 'Sturdy and well constructed', 'This press is very well constructed and sturdy. The different dies are easily interchangeable. A good tool for watches and miniature work.', '2015-08-31')\n",
            "('US', 44068063, 'R1EBMIQ69CZ64', 'B00ZI3SGXM', 294102740, \"Stuhrling Original Women's 956.02 Symphony Gold-Tone Watch with Brown Genuine Leather Band\", 'Watches', 4, 0, 0, 'N', 'Y', 'Four Stars', \"Love the look but the leather band is so stiff it doesn't conform well to my wrist.\", '2015-08-31')\n",
            "('US', 916000, 'R2PVH1MHLKN9A7', 'B0053A0HB4', 199546574, 'Casio G-shock Mudman Multiband6 Japanese Model [ Gw-9300-1jf ]', 'Watches', 5, 0, 0, 'N', 'Y', 'excellent product.', 'Beyond my expectation..excellent product..good quality, well built, nicely done..:)', '2015-08-31')\n",
            "('US', 1196727, 'R1SOUO6DCO4X5H', 'B00QBTQX50', 29617990, 'iStrap Calfskin Leather Watch Band Replacement Choice of Color & Width (18mm,19mm, 20mm,21mm or 22mm)', 'Watches', 1, 0, 1, 'N', 'Y', 'One Star', 'It was bad it didnt fit my 22mm retro casio', '2015-08-31')\n",
            "('US', 7503824, 'R32ZIHMEIOPDZN', 'B00G3JSF22', 978361500, \"G-SHOCK Men's GA-100 Neon Highlights Watch\", 'Watches', 5, 0, 0, 'N', 'N', '8/10 Only gripe is that I wish the back light was a tad better.', 'Watch kicks ass. Upon putting on this watch you will grow a full beard and be able to tame a pack of wolves by looking at them. 8/10 Only gripe is that I wish the back light was a tad better.', '2015-08-31')\n",
            "('US', 14512093, 'R1HLVYTW271JWX', 'B002NQXYL6', 161383158, 'Voguestrap TX046801XL Allstrap 16-20mm Brown Extra-Long-Length Fits Fast-Wrap Expedition Watchband', 'Watches', 3, 0, 0, 'N', 'Y', \"It's a good value, and a good functional watch strap\", \"It's a good value, and a good functional watch strap.  It's super wide though, and takes more space on the wrist than I'd like.\", '2015-08-31')\n",
            "('US', 2143821, 'R2Z9MTUMD7LGLN', 'B004MAZN3I', 165342893, \"Seiko Men's SNKK27 Seiko 5 Stainless Steel Automatic Watch\", 'Watches', 5, 0, 0, 'N', 'Y', 'Wish the seller would furnish a model that works.', 'Loved the watch; it just did not work supposedly self-winding; tried all possible motions to cause the winder clearly visible from the rear of the watch; no luck', '2015-08-31')\n",
            "('US', 18380508, 'R3RZZY4RZJUBOW', 'B000JQFX1G', 400836338, \"Invicta Men's 8926OB Pro Diver Stainless Steel Automatic Watch with Link Bracelet\", 'Watches', 3, 0, 0, 'N', 'Y', 'Worth the money, be careful with the glass.', 'Alrighty, after seeking out the ultimate low-profile, ultra water resistant, mechanical watch with a rotating bezel and date for less than $100, I settled on this.<br /><br />It looks much like the famous Rolex Submariner, and performs similarly.<br /><br />However, after about a year of use now, the paint on the bezel is chipping, and after a decent smack on the hood of a car the crystal has cracked and all but shattered.<br /><br />It keeps time fairly well, gaining about 15 seconds per day, without taking it to a healer for fine tuning.', '2015-08-31')\n",
            "('US', 431372, 'R1ZXB27702XVCE', 'B00A6B9N6U', 491671113, \"Swiss Legend Women's 11044D-01 Neptune Black Dial Watch with Silicone Band\", 'Watches', 5, 0, 0, 'N', 'Y', 'Five Stars', 'Love it', '2015-08-31')\n",
            "('US', 1567510, 'RSFQ1G70Z858U', 'B00HJ7T0OY', 822340800, \"Absolute Hot Iron man Super Hero build-in Blue LED for Men's luxury Army military Wrist Watches\", 'Watches', 3, 0, 0, 'N', 'Y', \"I wouldn't order it again for myself.\", 'Not bad but a little tacky. It does have substantial weight for a $15 watch.', '2015-08-31')\n",
            "('US', 34086987, 'R2UV2KNKCZBLK9', 'B004401KHE', 604208769, \"Seiko Men's White Dial Brown Leather Easy Reader Solar Calendar Watch\", 'Watches', 5, 0, 0, 'N', 'Y', 'I thought it looked beautiful. My boyfriend loved it', \"I thought it looked beautiful.  My boyfriend loved it.  It's only been a few days, so I can't comment on durability.  But, I didn't have some of the problems mentioned in other reviews--the little dots around the outside glowed like they were supposed to, it was easy to set including the date, the band was fine and long enough even though my boyfriend wears it loose.  Great price too--I see them in stores for nearly twice what I paid.\", '2015-08-31')\n",
            "('US', 1685723, 'R9UQFP5AYOWD4', 'B001UGDB0O', 762085956, 'Michael Kors Womens MK5145 - Runway Chronograph', 'Watches', 5, 0, 0, 'N', 'Y', 'Beautiful and sophisticated', 'More beautiful in person. High quality! Looks understated but so sophisticated! It was a gift for my mother and she loved it!', '2015-08-31')\n",
            "('US', 3307875, 'R3V27ZXF549EAQ', 'B00L4JRXIS', 627047973, \"Armitron Sport Women's 25/6416 Easy To Read Dial Resin Strap Watch\", 'Watches', 3, 0, 0, 'N', 'Y', 'Sport watch', \"It's a nice watch but if you have a large arm it will not fit  well.  does good under water I use when I go to water aerobic to keep tack of my time\", '2015-08-31')\n",
            "('US', 47955030, 'R2W4OB11T2UXAV', 'B009PQB5K4', 418141913, \"Lucien Piccard Men's 11577-RG-02S Stockhorn Silver Textured Dial Brown Leather Watch\", 'Watches', 5, 0, 0, 'N', 'Y', 'Beautiful watch! Looks better on the wrist than in ...', 'Beautiful watch! Looks better on the wrist than in the picture.  Could not have been more pleased. A great addition to my collection.', '2015-08-31')\n",
            "('US', 36687968, 'R2MBPYZV5SYT5B', 'B003M2G0SY', 908936114, 'LEGO Star Wars Yoda Kids Buildable Watch with Link Bracelet and Minifigure | green/gray | plastic | 28mm case diameter| analog quartz | boy girl | official', 'Watches', 4, 0, 0, 'N', 'Y', 'he loved', 'Bought for a cousin, he loved it', '2015-08-31')\n",
            "('US', 37595973, 'R2NU7Y4TV3Z9Q7', 'B002SSUQFG', 354933056, \"Seiko Men's SNK809 Seiko 5 Automatic Stainless Steel Watch with Black Canvas Strap\", 'Watches', 5, 0, 0, 'N', 'Y', 'Five Stars', 'Man watch for woman, just a right size and design for it.', '2015-08-31')\n",
            "('US', 50033390, 'R38NIR3U01EIS4', 'B003622WUK', 890272218, \"Tissot Women's T0492103303300 PR 100 Gold-Tone Silver Dial Watch\", 'Watches', 4, 1, 1, 'N', 'Y', 'I like the watch', \"I like the watch!  I had its predecessor and enjoyed it until all the numbers started to fall off.  Hope that does not happen to this one.  The numbers run together it's sometimes difficult to distinguish the time.  I'm adjusting to it.  Like the new clasp.\", '2015-08-31')\n",
            "('US', 28119981, 'RZ999X8LL9GU7', 'B00L8M9Z32', 686288185, \"CASIO BABY-G (BG-6900SG-8JF) GLITTER DIAL SERIES LADY'S WATCH JAPANESE MODEL 2014 JULY RELEASED\", 'Watches', 5, 0, 0, 'N', 'Y', 'Sparkly and nice', \"I have many Baby-G's, but none have gotten as much attention and compliments as this one. The glitter pops out at everyone and the silver makes it look feminine and sleek. I paid $120 for it, wayy more than I usually pay for Baby-G's, but I think it was worth it, especially since it's a special Japanese model. Probably won't see many people with this watch making it pretty unique. I like the background light is a light blue color, goes well with the color of the watch.\", '2015-08-31')\n",
            "('US', 24667426, 'R34A40GBG3IVJD', 'B000GAWSA4', 700023949, \"Casio Men's AW80V-1BV\", 'Watches', 5, 0, 0, 'N', 'Y', 'Five Stars', 'Perfect watch for camping and hiking.', '2015-08-31')\n",
            "('US', 207824, 'R2DAHAETN8AOHL', 'B004YM2FV2', 649128875, 'Bling Jewelry Plated Classic Round CZ Ladies Watch', 'Watches', 5, 0, 0, 'N', 'Y', 'Five Stars', 'the watch is beautiful, a little on the big side but it is perfect!!!!! LOVE LOVE LOVE!!!!!', '2015-08-31')\n",
            "('US', 46189902, 'R1A6ZHMS6ED9SM', 'B008RNKIV8', 341504925, \"Citizen Men's AT8020-54L Blue Angels Stainless Steel Eco-Drive Dress Watch\", 'Watches', 5, 0, 1, 'N', 'Y', 'The watch as expected was an amazing product from citizen', 'The watch as expected was an amazing product from citizen, however the the cover was in a damaged condition which was quite upsetting since I was planning to gift this to some one.', '2015-08-31')\n",
            "('US', 47558372, 'R4BUD64L0L617', 'B000SZNTLO', 544270597, 'Timex Ironman Sleek 50-Lap Full Size', 'Watches', 5, 0, 0, 'N', 'Y', 'Five Stars', 'great looking sports watch', '2015-08-31')\n",
            "('US', 33322445, 'R3JSX07PSTFFPE', 'B00MNC53XW', 567086073, 'Outop Wholesale Lot of 5pcs Womens Girls Butterfly Bracelet Wrist Watches', 'Watches', 5, 0, 0, 'N', 'Y', 'Fun and inexpensive', 'These were purchased for my daughter and her friend, but I liked them enough that I kept one for myself as well!', '2015-08-31')\n",
            "('US', 41784200, 'R100HLZJGWAXRP', 'B00BF77S2K', 479360900, \"Timex Kids' T7B9829J IronKids Translucent Blue Sport Watch\", 'Watches', 1, 2, 2, 'N', 'Y', 'Leaks water - total junk', \"This is junk.  Why would you name a watch an ironkid watch if it isn't made for swimming (last time I checked an ironman consisted of swim, bike and run)?  It claims it is water resistant but the watch leaks and it will die if your kid wears it in a pool.  Don't waste your money.\", '2015-08-31')\n",
            "('US', 26050402, 'R1PFCOIMT3ND68', 'B00OHD6SLG', 721711830, \"Cool Men's Racer Military Pilot Army Silicone Sports Watch\", 'Watches', 1, 0, 0, 'N', 'Y', 'One Star', 'Lens cracked on the third day', '2015-08-31')\n",
            "('US', 48880662, 'R2G0EK7EUCTDXU', 'B003DIP9BQ', 941077778, \"XOXO Women's XO110 Silver Dial Gold-tone Bracelet Watch\", 'Watches', 5, 0, 0, 'N', 'Y', 'Five Stars', 'very good', '2015-08-31')\n",
            "('US', 13675081, 'RBGAF34UPP636', 'B00L3VGTA0', 667419707, \"Armitron Men's Black Sunray Dial Silvertone Bracelet Watch\", 'Watches', 4, 0, 0, 'N', 'Y', 'My husband like it but he would have liked the dial face ...', \"My husband like it but he would have liked the dial face to be a little smaller. He is not used to the bigger face but getting used to it. The picture product was hard to tell about the dial face and don't think it mention about the dial face being bigger than normal. Besides that everything else is really well made.\", '2015-08-31')\n",
            "('US', 875559, 'R3FVL714L4L8BS', 'B00RCUTIRM', 731342946, \"Akribos XXIV Men's AK787YGBU Quartz Movement Watch with Blue Dial and Yellow Gold Stainless Steel Bracelet\", 'Watches', 5, 0, 0, 'N', 'Y', 'Five Stars', 'Excellent product and seller very good service', '2015-08-31')\n",
            "('US', 4014799, 'R2DOJG0AT3YOK4', 'B00V30U79K', 18936638, 'Topwell Mens Wood watches, Date Time 24hours Wooden watch with Round Multi-Eyed QUARTZ Wrist Watch for Gift', 'Watches', 5, 4, 4, 'N', 'N', 'amazing -- perfect gift', \"This is a very nice watch, i love that it's made of wood but black in color. The face is big and has three silver, decorative yet functional dials. It's extremely lightweight and comfortable to wear. It's so lightweight you could actually forget you're wearing it. The wood is very smooth and the semi-matte finish is very dressy.<br />The links move easily and is worn without catching or squeezing skin/hair. It's easy to adjust so it will fit a variety of  wrist sizesI love that it's water proof because although very dressy it can be worn for every day use.<br />This would make a great gift for any man in your life.<br />I received this product complimentary in exchange for my honest opinion but the opinion expressed is all my own.\", '2015-08-31')\n",
            "('US', 2228523, 'R29HFELXCSF7KD', 'B00STAXIHU', 690763506, \"Fossil Women's ES3822 Georgia Stainless Steel Watch with Blue Leather Band\", 'Watches', 5, 0, 0, 'N', 'Y', 'Five Stars', 'Love. That is pretty much it. Item as described, really beautiful and functional.', '2015-08-31')\n",
            "('US', 16309813, 'R1EZ1QK1I9BD70', 'B00DUW21F2', 87555656, \"Stuhrling Original Men's 574.03 Analog Executive II Stainless Steel Automatic Skeleton Watch with Brown Leather Band\", 'Watches', 5, 0, 0, 'N', 'Y', 'Five Stars', 'husband loves it', '2015-08-31')\n",
            "('US', 45661904, 'R1OXYDAWK2WUJ9', 'B00MO38XL4', 476271516, \"Armitron Sport Women's 25/6422BLK Easy to Read Dial Black Resin Strap Watch\", 'Watches', 5, 0, 0, 'N', 'Y', 'So pretty, strap is so soft', 'So pretty, strap is so soft, easy pliable rubber material. Unfortunately, bezel does not turn. But I recommend this for everyday nursing use.', '2015-08-31')\n",
            "('US', 106740, 'R27YN77RE11XHO', 'B00K8HMHCE', 575505209, \"Swiss Legend Men's 10068-03 Commander II Analog Display Swiss Quartz Blue Watch\", 'Watches', 4, 2, 2, 'N', 'Y', 'but I like it', \"The size and thickness is Huge. the color is eye Popping.The band is durable and ridged . the only problem I have is that it doesn't glow to mush in the dark. but I like it\", '2015-08-31')\n",
            "('US', 42795523, 'RW45AV6JXQPUN', 'B001DK6OKQ', 79293794, \"Stuhrling Original Men's 219.331657 Symphony Eternity Monterey Swiss Quartz Date Watch\", 'Watches', 3, 0, 0, 'N', 'N', 'Three Stars', 'the band broke in first week', '2015-08-31')\n",
            "('US', 10564575, 'R2ISDC90DZMHFM', 'B0094PS284', 842528710, 'LuckyStore 14mm 5X Watch Band Stainless Steel Spring Bars Strap Link Pin Watchmaker New', 'Watches', 5, 0, 0, 'N', 'Y', '14mm watch pin', \"This is exactly what I was looking for!  I fixed my watch band and haven't been happier!  I didn't need 5, but the extra 4 may come in handy.\", '2015-08-31')\n",
            "('US', 2239679, 'R1WVL1E6FMSFR4', 'B00FDLB2S0', 992050854, \"red line Men's RL-50042-YG-01 Stealth Chronograph Black Textured Dial Black Silicone Watch\", 'Watches', 5, 0, 0, 'N', 'Y', 'Five Stars', 'PERFECT', '2015-08-31')\n",
            "('US', 43807131, 'RGQ1YQSNQ3LE5', 'B00EVPMC88', 516415826, 'Seiko Men\\'s SNKL43 \"Seiko 5\" Stainless Steel Automatic Watch', 'Watches', 4, 0, 0, 'N', 'Y', 'Good seiko 5', 'A great automatic, but I give it 4 stars for being too conservative with its small size and the blue is dark and more of a navy color unless light is shining on it and reflecting. Other than that, like all based seiko 5s, it looks great on a Nato strap. I have this bad boy setup on a brown leather strap with a deployable clasp which looks very similar to the Omega Seamaster Aqua Terra. A great watch that can be worn in almost any occasion except when swimming', '2015-08-31')\n",
            "('US', 7189800, 'RE73CRP4JKXW1', 'B00G2R7E3Q', 131804424, \"Invicta Men's 14640 I-Force Analog Display Japanese Quartz Black Watch\", 'Watches', 1, 0, 0, 'N', 'Y', 'Disappointed by the huge size of it', \"Disappointed by the huge size of it, although yes they say in the specs it's a 52&#34; etc...<br />Sent it back. The taxes and p&p cost made me pay for it again.\", '2015-08-31')\n",
            "('US', 15305006, 'R2EQL1V1L6E0C9', 'B004LURNO6', 892860326, 'Nemesis #HST-K Unisex Black Wide Leather Cuff Wrist Watch Band', 'Watches', 5, 0, 0, 'N', 'Y', 'Five Stars', 'Love it', '2015-08-31')\n",
            "('US', 107342, 'RZOQUM3M5CAVH', 'B005OT1POW', 202690497, \"Tommy Hilfiger  Women's 1781145 Sport Stainless Steel  Watch\", 'Watches', 5, 0, 0, 'N', 'Y', 'Five Stars', 'Cool', '2015-08-31')\n",
            "('US', 138028, 'RRJBEIAITDLAQ', 'B007LPRLXG', 973233011, 'GUESS U17531G1 - Bold and Sporty Watch Silver', 'Watches', 2, 0, 0, 'N', 'N', 'i received watch in good condition, however he battery was not working and ...', 'first:<br />i received watch in good condition, however he battery was not working and i changed the battery<br />second:<br />i tried the watch to my hand but unfortunately was not amazing, it is for old ppl more than youth. i am looking to change the model .<br />i dont know if i can change irt from guess agent in Scotland/Edinburgh or not.', '2015-08-31')\n",
            "('US', 52229317, 'R6EMI5RKW73N3', 'B00QK2HAFK', 78116254, \"Armitron Men's 20/5048 Day/Date Function Dial Croco-Grain Leather Strap Watch\", 'Watches', 4, 1, 2, 'Y', 'N', 'Great Watch for the Price', \"This is a good looking men's watch that would go well with most outfits, though it's leather strap pushes it to a more dressy watch. It's a simple watch with a day and date window. It is luminescent on the hour marks but not on the watch hands themselves, which is a little weird.<br /><br />I would be curious to see how long the battery lasts. Aside from the watch band wearing out, that would be the weakest part of this watch in the long term.\", '2015-08-31')\n",
            "('US', 44293218, 'R12NA6QEKA1PRI', 'B003X11UFM', 790174403, \"Stuhrling Original Men's 238.321K43 Ascot Newberry Analog Swiss Quartz Brown Leather Watch\", 'Watches', 3, 3, 3, 'N', 'Y', 'Great looks, medium quality', \"It's a great looking product. One of the best watches I have ever seen. The quality is mediocre but that's alright. Just keep it out of water as much as possible and the leather should hold up alright.\", '2015-08-31')\n",
            "('US', 3669388, 'R2M6EF6NI4VV6I', 'B00A6OEWA4', 985088364, \"AMPM24 Men's Hand-winding Mechanical Watch Black Leather Watchband Skeleton PMW069\", 'Watches', 4, 0, 0, 'N', 'Y', 'Four Stars', 'Good value product', '2015-08-31')\n",
            "('US', 51897929, 'R2H287IH770TN7', 'B006QAX906', 957756572, \"Gotham Men's Silver-Tone Ultra Thin Railroad Open Face Quartz Pocket Watch # GWC15022S\", 'Watches', 5, 0, 0, 'N', 'Y', 'Looks good.', 'Looks good. Not bulky. Keeps good time.', '2015-08-31')\n",
            "('US', 48880662, 'R19SU6JVQQA05B', 'B00BS8U8PU', 132047116, 'Casio Unisex MRW200H-2BV Neo-Display Black Watch with Resin Band', 'Watches', 5, 0, 0, 'N', 'Y', 'Five Stars', 'good', '2015-08-31')\n",
            "('US', 39984561, 'R561PSHO7D095', 'B001F0PTNM', 670846500, \"Hadley-Roma Men's MSM881RB-170 17-mm Brown Oil-Tan Leather Watch Strap\", 'Watches', 5, 0, 0, 'N', 'Y', 'Great leather watch band.', 'This is my 3rd Hadley Roma leather watch band. Others lasted 3+ years. Great quality and design at a good price.', '2015-08-31')\n",
            "('US', 17141249, 'RUITIQHK33YXJ', 'B00Q7DETQU', 763436398, 'Michael Kors Petite Silvertone Darci Watch', 'Watches', 5, 0, 0, 'N', 'Y', 'petite watch - goes great with my engagement ring', 'Gorgeous, petite watch - goes great with my engagement ring ;-)', '2015-08-31')\n",
            "('US', 29140914, 'R21BZGZC61EB1G', 'B00LW3RP0W', 198443125, 'Timex Expedition Rugged Metal Watch', 'Watches', 4, 0, 0, 'N', 'Y', 'Four Stars', 'heavier than expected', '2015-08-31')\n",
            "(None, None, None, None, None, None, None, None, None, None, None, None, None, None, None)\n",
            "('teste', None, None, None, None, None, None, None, None, None, None, None, None, None, None)\n"
          ]
        }
      ]
    },
    {
      "cell_type": "markdown",
      "source": [
        "#**5 - Removendo e Adicionando Linhas e Colunas**\n",
        "\n",
        "Agora iremos realizar a manipulação de arquivos xlsx removendo e adicionando novas colunas.\n",
        "\n",
        "<center><img width=\"50%\" src=\"https://img.freepik.com/vetores-gratis/planilha-em-icones-de-laptop-e-desktop_603843-349.jpg?w=740&t=st=1663783166~exp=1663783766~hmac=1c261434cd4c0bd81b7d469848d4b3c0edc995913b95aded7440dc33f0c4902d\"></center>"
      ],
      "metadata": {
        "id": "buAQAKSs3nm-"
      }
    },
    {
      "cell_type": "markdown",
      "source": [
        "Desta vez vamos importar novamente a planilha de controle de dados da empresa. As rotinas de importação que estamos incluindo aqui não precisam ser executadas várias vezes no mesmo notebook. A repetição aqui é proposital, para fins de fixação."
      ],
      "metadata": {
        "id": "OpExQmuY39UJ"
      }
    },
    {
      "cell_type": "code",
      "source": [
        "# carregando uma planilha\n",
        "from openpyxl import load_workbook\n",
        "\n",
        "workbook = load_workbook(filename='controle_da_empresa.xlsx')\n",
        "\n",
        "# verificando as abas\n",
        "sheet = workbook.active"
      ],
      "metadata": {
        "id": "gyMtnXxS4M1F"
      },
      "execution_count": null,
      "outputs": []
    },
    {
      "cell_type": "markdown",
      "source": [
        "Como vamos sempre modificar as entradas de nossa planilha, iremos utilizar a função para iterar todos os dados criada anteriormente, para realizar as conferencias (função `print_rows()`."
      ],
      "metadata": {
        "id": "rB3N56SY4ix2"
      }
    },
    {
      "cell_type": "code",
      "source": [
        "# testando a função\n",
        "print_rows()"
      ],
      "metadata": {
        "colab": {
          "base_uri": "https://localhost:8080/"
        },
        "id": "6gqnjahQ4zPI",
        "outputId": "ca867258-0902-48e2-f5db-0d70f07692fe"
      },
      "execution_count": null,
      "outputs": [
        {
          "output_type": "stream",
          "name": "stdout",
          "text": [
            "('Data da Venda', 'Item', 'Quantidade', 'Vendedor', 'Preço Unitário', 'Total de Vendas')\n",
            "(datetime.datetime(2020, 1, 2, 0, 0), 'Lente 50mm f/1.4', 2, 'Carlos', 1649, 3298)\n",
            "(datetime.datetime(2020, 1, 2, 0, 0), 'Filtro ND 5 Stop', 2, 'Raquel', 1220, 2440)\n",
            "(datetime.datetime(2020, 1, 3, 0, 0), 'Filtro ND 5 Stop', 2, 'Raquel', 1220, 2440)\n",
            "(datetime.datetime(2020, 1, 3, 0, 0), 'Lente 16-35mm f/2.8', 2, 'Carlos', 8997, 17994)\n",
            "(datetime.datetime(2020, 1, 4, 0, 0), 'Lente 16-35mm f/2.8', 2, 'Fernanda', 8997, 17994)\n",
            "(datetime.datetime(2020, 1, 4, 0, 0), 'Filtro ND 3 Stop', 1, 'Raquel', 1220, 1220)\n",
            "(datetime.datetime(2020, 1, 4, 0, 0), 'Lente 16-35mm f/2.8', 2, 'Carlos', 8997, 17994)\n",
            "(datetime.datetime(2020, 1, 4, 0, 0), 'DJI Ronin-S', 2, 'Theo', 5790, 11580)\n",
            "(datetime.datetime(2020, 1, 4, 0, 0), 'Lente 16-35mm f/2.8', 2, 'Carlos', 8997, 17994)\n",
            "(datetime.datetime(2020, 1, 5, 0, 0), 'Lente 85mm f/1.4', 2, 'Raquel', 9989, 19978)\n",
            "(datetime.datetime(2020, 1, 5, 0, 0), 'DJI Ronin-S', 2, 'Theo', 5790, 11580)\n",
            "(datetime.datetime(2020, 1, 5, 0, 0), 'DJI Ronin-S', 2, 'Fernanda', 5790, 11580)\n",
            "(datetime.datetime(2020, 1, 6, 0, 0), 'Filtro ND 5 Stop', 1, 'Carlos', 1220, 1220)\n",
            "(datetime.datetime(2020, 1, 7, 0, 0), 'Lente 85mm f/1.4', 2, 'Theo', 9989, 19978)\n",
            "(datetime.datetime(2020, 1, 7, 0, 0), 'Filtro ND 3 Stop', 1, 'Raquel', 1220, 1220)\n",
            "(datetime.datetime(2020, 1, 9, 0, 0), 'Canon 6D Mark II', 1, 'Fernanda', 8500, 8500)\n",
            "(datetime.datetime(2020, 1, 10, 0, 0), 'DJI Mavic Air 2', 2, 'Theo', 13580, 27160)\n",
            "(datetime.datetime(2020, 1, 10, 0, 0), 'Filtro ND 5 Stop', 2, 'Raquel', 1220, 2440)\n",
            "(datetime.datetime(2020, 1, 10, 0, 0), 'Filtro ND 3 Stop', 2, 'Theo', 1220, 2440)\n",
            "(datetime.datetime(2020, 1, 10, 0, 0), 'Lente 16-35mm f/2.8', 1, 'Raquel', 8997, 8997)\n",
            "(datetime.datetime(2020, 1, 10, 0, 0), 'DJI Mavic Air 2', 2, 'Raquel', 13580, 27160)\n",
            "(datetime.datetime(2020, 1, 12, 0, 0), 'Lente 50mm f/1.4', 2, 'Fernanda', 1649, 3298)\n",
            "(datetime.datetime(2020, 1, 12, 0, 0), 'DJI Mavic Air 2', 1, 'Carlos', 13580, 13580)\n",
            "(datetime.datetime(2020, 1, 12, 0, 0), 'Filtro ND 3 Stop', 1, 'Carlos', 1220, 1220)\n",
            "(datetime.datetime(2020, 1, 12, 0, 0), 'Filtro ND 5 Stop', 1, 'Fernanda', 1220, 1220)\n",
            "(datetime.datetime(2020, 1, 13, 0, 0), 'Lente 50mm f/1.4', 1, 'Fernanda', 1649, 1649)\n",
            "(datetime.datetime(2020, 1, 13, 0, 0), 'Canon 5D Mark III', 2, 'Fernanda', 13650, 27300)\n",
            "(datetime.datetime(2020, 1, 13, 0, 0), 'Canon 5D Mark III', 2, 'Fernanda', 13650, 27300)\n",
            "(datetime.datetime(2020, 1, 13, 0, 0), 'Lente 50mm f/1.4', 1, 'Carlos', 1649, 1649)\n",
            "(datetime.datetime(2020, 1, 13, 0, 0), 'DJI Ronin-S', 2, 'Carlos', 5790, 11580)\n",
            "(datetime.datetime(2020, 1, 14, 0, 0), 'Lente 16-35mm f/2.8', 2, 'Carlos', 8997, 17994)\n",
            "(datetime.datetime(2020, 1, 14, 0, 0), 'Filtro ND 5 Stop', 2, 'Theo', 1220, 2440)\n",
            "(datetime.datetime(2020, 1, 15, 0, 0), 'Lente 50mm f/1.4', 2, 'Raquel', 1649, 3298)\n",
            "(datetime.datetime(2020, 1, 15, 0, 0), 'DJI Ronin-S', 1, 'Raquel', 5790, 5790)\n",
            "(datetime.datetime(2020, 1, 15, 0, 0), 'Filtro ND 3 Stop', 2, 'Theo', 1220, 2440)\n",
            "(datetime.datetime(2020, 1, 16, 0, 0), 'Filtro ND 3 Stop', 2, 'Raquel', 1220, 2440)\n",
            "(datetime.datetime(2020, 1, 16, 0, 0), 'DJI Mavic Air 2', 2, 'Fernanda', 13580, 27160)\n",
            "(datetime.datetime(2020, 1, 16, 0, 0), 'Lente 85mm f/1.4', 1, 'Carlos', 9989, 9989)\n",
            "(datetime.datetime(2020, 1, 16, 0, 0), 'Filtro ND 5 Stop', 2, 'Carlos', 1220, 2440)\n",
            "(datetime.datetime(2020, 1, 16, 0, 0), 'Filtro ND 2 Stop', 2, 'Fernanda', 1220, 2440)\n",
            "(datetime.datetime(2020, 1, 16, 0, 0), 'Lente 50mm f/1.4', 2, 'Raquel', 1649, 3298)\n",
            "(datetime.datetime(2020, 1, 19, 0, 0), 'Filtro ND 5 Stop', 1, 'Raquel', 1220, 1220)\n",
            "(datetime.datetime(2020, 1, 19, 0, 0), 'Lente 16-35mm f/2.8', 1, 'Raquel', 8997, 8997)\n",
            "(datetime.datetime(2020, 1, 20, 0, 0), 'Canon 5D Mark III', 1, 'Carlos', 13650, 13650)\n",
            "(datetime.datetime(2020, 1, 20, 0, 0), 'DJI Mavic Air 2', 2, 'Theo', 13580, 27160)\n",
            "(datetime.datetime(2020, 1, 20, 0, 0), 'Canon 5D Mark III', 1, 'Raquel', 13650, 13650)\n",
            "(datetime.datetime(2020, 1, 20, 0, 0), 'Lente 85mm f/1.4', 2, 'Raquel', 9989, 19978)\n",
            "(datetime.datetime(2020, 1, 21, 0, 0), 'Filtro ND 3 Stop', 2, 'Carlos', 1220, 2440)\n",
            "(datetime.datetime(2020, 1, 21, 0, 0), 'Canon 6D Mark II', 2, 'Theo', 8500, 17000)\n",
            "(datetime.datetime(2020, 1, 21, 0, 0), 'Lente 16-35mm f/2.8', 2, 'Fernanda', 8997, 17994)\n",
            "(datetime.datetime(2020, 1, 21, 0, 0), 'DJI Ronin-S', 1, 'Carlos', 5790, 5790)\n",
            "(datetime.datetime(2020, 1, 21, 0, 0), 'Filtro ND 3 Stop', 2, 'Raquel', 1220, 2440)\n",
            "(datetime.datetime(2020, 1, 23, 0, 0), 'Canon 6D Mark II', 2, 'Carlos', 8500, 17000)\n",
            "(datetime.datetime(2020, 1, 23, 0, 0), 'DJI Mavic Air 2', 1, 'Carlos', 13580, 13580)\n",
            "(datetime.datetime(2020, 1, 23, 0, 0), 'Filtro ND 5 Stop', 2, 'Fernanda', 1220, 2440)\n",
            "(datetime.datetime(2020, 1, 23, 0, 0), 'Lente 50mm f/1.4', 1, 'Raquel', 1649, 1649)\n",
            "(datetime.datetime(2020, 1, 23, 0, 0), 'Filtro ND 3 Stop', 1, 'Carlos', 1220, 1220)\n",
            "(datetime.datetime(2020, 1, 23, 0, 0), 'Lente 16-35mm f/2.8', 1, 'Fernanda', 8997, 8997)\n",
            "(datetime.datetime(2020, 1, 23, 0, 0), 'Canon 5D Mark III', 2, 'Theo', 13650, 27300)\n",
            "(datetime.datetime(2020, 1, 24, 0, 0), 'Filtro ND 5 Stop', 1, 'Carlos', 1220, 1220)\n",
            "(datetime.datetime(2020, 1, 24, 0, 0), 'Filtro ND 2 Stop', 2, 'Raquel', 1220, 2440)\n",
            "(datetime.datetime(2020, 1, 24, 0, 0), 'Lente 50mm f/1.4', 1, 'Carlos', 1649, 1649)\n",
            "(datetime.datetime(2020, 1, 25, 0, 0), 'Lente 16-35mm f/2.8', 1, 'Raquel', 8997, 8997)\n",
            "(datetime.datetime(2020, 1, 25, 0, 0), 'Filtro ND 5 Stop', 1, 'Fernanda', 1220, 1220)\n",
            "(datetime.datetime(2020, 1, 25, 0, 0), 'Lente 16-35mm f/2.8', 1, 'Theo', 8997, 8997)\n",
            "(datetime.datetime(2020, 1, 25, 0, 0), 'Lente 50mm f/1.4', 1, 'Raquel', 1649, 1649)\n",
            "(datetime.datetime(2020, 1, 25, 0, 0), 'Lente 85mm f/1.4', 2, 'Theo', 9989, 19978)\n",
            "(datetime.datetime(2020, 1, 26, 0, 0), 'Filtro ND 2 Stop', 1, 'Theo', 1220, 1220)\n",
            "(datetime.datetime(2020, 1, 26, 0, 0), 'Canon 5D Mark III', 1, 'Raquel', 13650, 13650)\n",
            "(datetime.datetime(2020, 1, 26, 0, 0), 'Canon 6D Mark II', 1, 'Carlos', 8500, 8500)\n",
            "(datetime.datetime(2020, 1, 26, 0, 0), 'Lente 50mm f/1.4', 1, 'Theo', 1649, 1649)\n",
            "(datetime.datetime(2020, 1, 27, 0, 0), 'Lente 85mm f/1.4', 1, 'Raquel', 9989, 9989)\n",
            "(datetime.datetime(2020, 1, 27, 0, 0), 'Canon 6D Mark II', 2, 'Fernanda', 8500, 17000)\n",
            "(datetime.datetime(2020, 1, 27, 0, 0), 'Filtro ND 2 Stop', 1, 'Carlos', 1220, 1220)\n",
            "(datetime.datetime(2020, 1, 28, 0, 0), 'Canon 5D Mark III', 1, 'Fernanda', 13650, 13650)\n",
            "(datetime.datetime(2020, 1, 28, 0, 0), 'Canon 6D Mark II', 1, 'Theo', 8500, 8500)\n",
            "(datetime.datetime(2020, 1, 28, 0, 0), 'DJI Mavic Air 2', 2, 'Theo', 13580, 27160)\n",
            "(datetime.datetime(2020, 1, 28, 0, 0), 'Canon 6D Mark II', 1, 'Carlos', 8500, 8500)\n",
            "(datetime.datetime(2020, 1, 28, 0, 0), 'Filtro ND 2 Stop', 1, 'Raquel', 1220, 1220)\n",
            "(datetime.datetime(2020, 1, 28, 0, 0), 'Canon 5D Mark III', 2, 'Theo', 13650, 27300)\n",
            "(datetime.datetime(2020, 1, 28, 0, 0), 'DJI Mavic Air 2', 1, 'Carlos', 13580, 13580)\n",
            "(datetime.datetime(2020, 1, 28, 0, 0), 'Filtro ND 5 Stop', 2, 'Raquel', 1220, 2440)\n",
            "(datetime.datetime(2020, 1, 28, 0, 0), 'Filtro ND 3 Stop', 1, 'Raquel', 1220, 1220)\n",
            "(datetime.datetime(2020, 1, 29, 0, 0), 'DJI Ronin-S', 2, 'Fernanda', 5790, 11580)\n",
            "(datetime.datetime(2020, 1, 29, 0, 0), 'Canon 6D Mark II', 1, 'Theo', 8500, 8500)\n",
            "(datetime.datetime(2020, 1, 29, 0, 0), 'Filtro ND 5 Stop', 2, 'Theo', 1220, 2440)\n",
            "(datetime.datetime(2020, 1, 29, 0, 0), 'Lente 16-35mm f/2.8', 2, 'Theo', 8997, 17994)\n",
            "(datetime.datetime(2020, 1, 29, 0, 0), 'Filtro ND 2 Stop', 1, 'Fernanda', 1220, 1220)\n",
            "(datetime.datetime(2020, 1, 30, 0, 0), 'Filtro ND 3 Stop', 2, 'Fernanda', 1220, 2440)\n",
            "(datetime.datetime(2020, 1, 30, 0, 0), 'Filtro ND 5 Stop', 2, 'Raquel', 1220, 2440)\n"
          ]
        }
      ]
    },
    {
      "cell_type": "markdown",
      "source": [
        "##Adicionando Colunas\n",
        "\n",
        "Para adicionar uma coluna, vamos utilizar o método `insert_cols`, com o índice em que ela será inserida como parâmetro. Lembrando no Excel os índices começam com 1."
      ],
      "metadata": {
        "id": "f6GRV8Q95COR"
      }
    },
    {
      "cell_type": "code",
      "source": [
        "# adicionando uma coluna\n",
        "sheet.insert_cols(idx=1)\n",
        "\n",
        "# checando a planilha\n",
        "print_rows()"
      ],
      "metadata": {
        "colab": {
          "base_uri": "https://localhost:8080/"
        },
        "id": "26Yrc7v15Vdc",
        "outputId": "994b82aa-fb88-4af6-e21f-26e65906a54d"
      },
      "execution_count": null,
      "outputs": [
        {
          "output_type": "stream",
          "name": "stdout",
          "text": [
            "(None, 'Data da Venda', 'Item', 'Quantidade', 'Vendedor', 'Preço Unitário', 'Total de Vendas')\n",
            "(None, datetime.datetime(2020, 1, 2, 0, 0), 'Lente 50mm f/1.4', 2, 'Carlos', 1649, 3298)\n",
            "(None, datetime.datetime(2020, 1, 2, 0, 0), 'Filtro ND 5 Stop', 2, 'Raquel', 1220, 2440)\n",
            "(None, datetime.datetime(2020, 1, 3, 0, 0), 'Filtro ND 5 Stop', 2, 'Raquel', 1220, 2440)\n",
            "(None, datetime.datetime(2020, 1, 3, 0, 0), 'Lente 16-35mm f/2.8', 2, 'Carlos', 8997, 17994)\n",
            "(None, datetime.datetime(2020, 1, 4, 0, 0), 'Lente 16-35mm f/2.8', 2, 'Fernanda', 8997, 17994)\n",
            "(None, datetime.datetime(2020, 1, 4, 0, 0), 'Filtro ND 3 Stop', 1, 'Raquel', 1220, 1220)\n",
            "(None, datetime.datetime(2020, 1, 4, 0, 0), 'Lente 16-35mm f/2.8', 2, 'Carlos', 8997, 17994)\n",
            "(None, datetime.datetime(2020, 1, 4, 0, 0), 'DJI Ronin-S', 2, 'Theo', 5790, 11580)\n",
            "(None, datetime.datetime(2020, 1, 4, 0, 0), 'Lente 16-35mm f/2.8', 2, 'Carlos', 8997, 17994)\n",
            "(None, datetime.datetime(2020, 1, 5, 0, 0), 'Lente 85mm f/1.4', 2, 'Raquel', 9989, 19978)\n",
            "(None, datetime.datetime(2020, 1, 5, 0, 0), 'DJI Ronin-S', 2, 'Theo', 5790, 11580)\n",
            "(None, datetime.datetime(2020, 1, 5, 0, 0), 'DJI Ronin-S', 2, 'Fernanda', 5790, 11580)\n",
            "(None, datetime.datetime(2020, 1, 6, 0, 0), 'Filtro ND 5 Stop', 1, 'Carlos', 1220, 1220)\n",
            "(None, datetime.datetime(2020, 1, 7, 0, 0), 'Lente 85mm f/1.4', 2, 'Theo', 9989, 19978)\n",
            "(None, datetime.datetime(2020, 1, 7, 0, 0), 'Filtro ND 3 Stop', 1, 'Raquel', 1220, 1220)\n",
            "(None, datetime.datetime(2020, 1, 9, 0, 0), 'Canon 6D Mark II', 1, 'Fernanda', 8500, 8500)\n",
            "(None, datetime.datetime(2020, 1, 10, 0, 0), 'DJI Mavic Air 2', 2, 'Theo', 13580, 27160)\n",
            "(None, datetime.datetime(2020, 1, 10, 0, 0), 'Filtro ND 5 Stop', 2, 'Raquel', 1220, 2440)\n",
            "(None, datetime.datetime(2020, 1, 10, 0, 0), 'Filtro ND 3 Stop', 2, 'Theo', 1220, 2440)\n",
            "(None, datetime.datetime(2020, 1, 10, 0, 0), 'Lente 16-35mm f/2.8', 1, 'Raquel', 8997, 8997)\n",
            "(None, datetime.datetime(2020, 1, 10, 0, 0), 'DJI Mavic Air 2', 2, 'Raquel', 13580, 27160)\n",
            "(None, datetime.datetime(2020, 1, 12, 0, 0), 'Lente 50mm f/1.4', 2, 'Fernanda', 1649, 3298)\n",
            "(None, datetime.datetime(2020, 1, 12, 0, 0), 'DJI Mavic Air 2', 1, 'Carlos', 13580, 13580)\n",
            "(None, datetime.datetime(2020, 1, 12, 0, 0), 'Filtro ND 3 Stop', 1, 'Carlos', 1220, 1220)\n",
            "(None, datetime.datetime(2020, 1, 12, 0, 0), 'Filtro ND 5 Stop', 1, 'Fernanda', 1220, 1220)\n",
            "(None, datetime.datetime(2020, 1, 13, 0, 0), 'Lente 50mm f/1.4', 1, 'Fernanda', 1649, 1649)\n",
            "(None, datetime.datetime(2020, 1, 13, 0, 0), 'Canon 5D Mark III', 2, 'Fernanda', 13650, 27300)\n",
            "(None, datetime.datetime(2020, 1, 13, 0, 0), 'Canon 5D Mark III', 2, 'Fernanda', 13650, 27300)\n",
            "(None, datetime.datetime(2020, 1, 13, 0, 0), 'Lente 50mm f/1.4', 1, 'Carlos', 1649, 1649)\n",
            "(None, datetime.datetime(2020, 1, 13, 0, 0), 'DJI Ronin-S', 2, 'Carlos', 5790, 11580)\n",
            "(None, datetime.datetime(2020, 1, 14, 0, 0), 'Lente 16-35mm f/2.8', 2, 'Carlos', 8997, 17994)\n",
            "(None, datetime.datetime(2020, 1, 14, 0, 0), 'Filtro ND 5 Stop', 2, 'Theo', 1220, 2440)\n",
            "(None, datetime.datetime(2020, 1, 15, 0, 0), 'Lente 50mm f/1.4', 2, 'Raquel', 1649, 3298)\n",
            "(None, datetime.datetime(2020, 1, 15, 0, 0), 'DJI Ronin-S', 1, 'Raquel', 5790, 5790)\n",
            "(None, datetime.datetime(2020, 1, 15, 0, 0), 'Filtro ND 3 Stop', 2, 'Theo', 1220, 2440)\n",
            "(None, datetime.datetime(2020, 1, 16, 0, 0), 'Filtro ND 3 Stop', 2, 'Raquel', 1220, 2440)\n",
            "(None, datetime.datetime(2020, 1, 16, 0, 0), 'DJI Mavic Air 2', 2, 'Fernanda', 13580, 27160)\n",
            "(None, datetime.datetime(2020, 1, 16, 0, 0), 'Lente 85mm f/1.4', 1, 'Carlos', 9989, 9989)\n",
            "(None, datetime.datetime(2020, 1, 16, 0, 0), 'Filtro ND 5 Stop', 2, 'Carlos', 1220, 2440)\n",
            "(None, datetime.datetime(2020, 1, 16, 0, 0), 'Filtro ND 2 Stop', 2, 'Fernanda', 1220, 2440)\n",
            "(None, datetime.datetime(2020, 1, 16, 0, 0), 'Lente 50mm f/1.4', 2, 'Raquel', 1649, 3298)\n",
            "(None, datetime.datetime(2020, 1, 19, 0, 0), 'Filtro ND 5 Stop', 1, 'Raquel', 1220, 1220)\n",
            "(None, datetime.datetime(2020, 1, 19, 0, 0), 'Lente 16-35mm f/2.8', 1, 'Raquel', 8997, 8997)\n",
            "(None, datetime.datetime(2020, 1, 20, 0, 0), 'Canon 5D Mark III', 1, 'Carlos', 13650, 13650)\n",
            "(None, datetime.datetime(2020, 1, 20, 0, 0), 'DJI Mavic Air 2', 2, 'Theo', 13580, 27160)\n",
            "(None, datetime.datetime(2020, 1, 20, 0, 0), 'Canon 5D Mark III', 1, 'Raquel', 13650, 13650)\n",
            "(None, datetime.datetime(2020, 1, 20, 0, 0), 'Lente 85mm f/1.4', 2, 'Raquel', 9989, 19978)\n",
            "(None, datetime.datetime(2020, 1, 21, 0, 0), 'Filtro ND 3 Stop', 2, 'Carlos', 1220, 2440)\n",
            "(None, datetime.datetime(2020, 1, 21, 0, 0), 'Canon 6D Mark II', 2, 'Theo', 8500, 17000)\n",
            "(None, datetime.datetime(2020, 1, 21, 0, 0), 'Lente 16-35mm f/2.8', 2, 'Fernanda', 8997, 17994)\n",
            "(None, datetime.datetime(2020, 1, 21, 0, 0), 'DJI Ronin-S', 1, 'Carlos', 5790, 5790)\n",
            "(None, datetime.datetime(2020, 1, 21, 0, 0), 'Filtro ND 3 Stop', 2, 'Raquel', 1220, 2440)\n",
            "(None, datetime.datetime(2020, 1, 23, 0, 0), 'Canon 6D Mark II', 2, 'Carlos', 8500, 17000)\n",
            "(None, datetime.datetime(2020, 1, 23, 0, 0), 'DJI Mavic Air 2', 1, 'Carlos', 13580, 13580)\n",
            "(None, datetime.datetime(2020, 1, 23, 0, 0), 'Filtro ND 5 Stop', 2, 'Fernanda', 1220, 2440)\n",
            "(None, datetime.datetime(2020, 1, 23, 0, 0), 'Lente 50mm f/1.4', 1, 'Raquel', 1649, 1649)\n",
            "(None, datetime.datetime(2020, 1, 23, 0, 0), 'Filtro ND 3 Stop', 1, 'Carlos', 1220, 1220)\n",
            "(None, datetime.datetime(2020, 1, 23, 0, 0), 'Lente 16-35mm f/2.8', 1, 'Fernanda', 8997, 8997)\n",
            "(None, datetime.datetime(2020, 1, 23, 0, 0), 'Canon 5D Mark III', 2, 'Theo', 13650, 27300)\n",
            "(None, datetime.datetime(2020, 1, 24, 0, 0), 'Filtro ND 5 Stop', 1, 'Carlos', 1220, 1220)\n",
            "(None, datetime.datetime(2020, 1, 24, 0, 0), 'Filtro ND 2 Stop', 2, 'Raquel', 1220, 2440)\n",
            "(None, datetime.datetime(2020, 1, 24, 0, 0), 'Lente 50mm f/1.4', 1, 'Carlos', 1649, 1649)\n",
            "(None, datetime.datetime(2020, 1, 25, 0, 0), 'Lente 16-35mm f/2.8', 1, 'Raquel', 8997, 8997)\n",
            "(None, datetime.datetime(2020, 1, 25, 0, 0), 'Filtro ND 5 Stop', 1, 'Fernanda', 1220, 1220)\n",
            "(None, datetime.datetime(2020, 1, 25, 0, 0), 'Lente 16-35mm f/2.8', 1, 'Theo', 8997, 8997)\n",
            "(None, datetime.datetime(2020, 1, 25, 0, 0), 'Lente 50mm f/1.4', 1, 'Raquel', 1649, 1649)\n",
            "(None, datetime.datetime(2020, 1, 25, 0, 0), 'Lente 85mm f/1.4', 2, 'Theo', 9989, 19978)\n",
            "(None, datetime.datetime(2020, 1, 26, 0, 0), 'Filtro ND 2 Stop', 1, 'Theo', 1220, 1220)\n",
            "(None, datetime.datetime(2020, 1, 26, 0, 0), 'Canon 5D Mark III', 1, 'Raquel', 13650, 13650)\n",
            "(None, datetime.datetime(2020, 1, 26, 0, 0), 'Canon 6D Mark II', 1, 'Carlos', 8500, 8500)\n",
            "(None, datetime.datetime(2020, 1, 26, 0, 0), 'Lente 50mm f/1.4', 1, 'Theo', 1649, 1649)\n",
            "(None, datetime.datetime(2020, 1, 27, 0, 0), 'Lente 85mm f/1.4', 1, 'Raquel', 9989, 9989)\n",
            "(None, datetime.datetime(2020, 1, 27, 0, 0), 'Canon 6D Mark II', 2, 'Fernanda', 8500, 17000)\n",
            "(None, datetime.datetime(2020, 1, 27, 0, 0), 'Filtro ND 2 Stop', 1, 'Carlos', 1220, 1220)\n",
            "(None, datetime.datetime(2020, 1, 28, 0, 0), 'Canon 5D Mark III', 1, 'Fernanda', 13650, 13650)\n",
            "(None, datetime.datetime(2020, 1, 28, 0, 0), 'Canon 6D Mark II', 1, 'Theo', 8500, 8500)\n",
            "(None, datetime.datetime(2020, 1, 28, 0, 0), 'DJI Mavic Air 2', 2, 'Theo', 13580, 27160)\n",
            "(None, datetime.datetime(2020, 1, 28, 0, 0), 'Canon 6D Mark II', 1, 'Carlos', 8500, 8500)\n",
            "(None, datetime.datetime(2020, 1, 28, 0, 0), 'Filtro ND 2 Stop', 1, 'Raquel', 1220, 1220)\n",
            "(None, datetime.datetime(2020, 1, 28, 0, 0), 'Canon 5D Mark III', 2, 'Theo', 13650, 27300)\n",
            "(None, datetime.datetime(2020, 1, 28, 0, 0), 'DJI Mavic Air 2', 1, 'Carlos', 13580, 13580)\n",
            "(None, datetime.datetime(2020, 1, 28, 0, 0), 'Filtro ND 5 Stop', 2, 'Raquel', 1220, 2440)\n",
            "(None, datetime.datetime(2020, 1, 28, 0, 0), 'Filtro ND 3 Stop', 1, 'Raquel', 1220, 1220)\n",
            "(None, datetime.datetime(2020, 1, 29, 0, 0), 'DJI Ronin-S', 2, 'Fernanda', 5790, 11580)\n",
            "(None, datetime.datetime(2020, 1, 29, 0, 0), 'Canon 6D Mark II', 1, 'Theo', 8500, 8500)\n",
            "(None, datetime.datetime(2020, 1, 29, 0, 0), 'Filtro ND 5 Stop', 2, 'Theo', 1220, 2440)\n",
            "(None, datetime.datetime(2020, 1, 29, 0, 0), 'Lente 16-35mm f/2.8', 2, 'Theo', 8997, 17994)\n",
            "(None, datetime.datetime(2020, 1, 29, 0, 0), 'Filtro ND 2 Stop', 1, 'Fernanda', 1220, 1220)\n",
            "(None, datetime.datetime(2020, 1, 30, 0, 0), 'Filtro ND 3 Stop', 2, 'Fernanda', 1220, 2440)\n",
            "(None, datetime.datetime(2020, 1, 30, 0, 0), 'Filtro ND 5 Stop', 2, 'Raquel', 1220, 2440)\n"
          ]
        }
      ]
    },
    {
      "cell_type": "markdown",
      "source": [
        "Também é possível criar mais de uma coluna por vez, passando o parâmetro `amount` com a quantidade de colunas que desejamos criar."
      ],
      "metadata": {
        "id": "IHNjXYvg5oqL"
      }
    },
    {
      "cell_type": "code",
      "source": [
        "# adicionando uma coluna a partir de um índice\n",
        "sheet.insert_cols(idx=3, amount=3)\n",
        "\n",
        "print_rows()"
      ],
      "metadata": {
        "colab": {
          "base_uri": "https://localhost:8080/"
        },
        "id": "ong_GEPg5wnt",
        "outputId": "5573550d-5fbc-47ea-adfd-dee6a0137b17"
      },
      "execution_count": null,
      "outputs": [
        {
          "output_type": "stream",
          "name": "stdout",
          "text": [
            "(None, 'Data da Venda', None, None, None, 'Item', 'Quantidade', 'Vendedor', 'Preço Unitário', 'Total de Vendas')\n",
            "(None, datetime.datetime(2020, 1, 2, 0, 0), None, None, None, 'Lente 50mm f/1.4', 2, 'Carlos', 1649, 3298)\n",
            "(None, datetime.datetime(2020, 1, 2, 0, 0), None, None, None, 'Filtro ND 5 Stop', 2, 'Raquel', 1220, 2440)\n",
            "(None, datetime.datetime(2020, 1, 3, 0, 0), None, None, None, 'Filtro ND 5 Stop', 2, 'Raquel', 1220, 2440)\n",
            "(None, datetime.datetime(2020, 1, 3, 0, 0), None, None, None, 'Lente 16-35mm f/2.8', 2, 'Carlos', 8997, 17994)\n",
            "(None, datetime.datetime(2020, 1, 4, 0, 0), None, None, None, 'Lente 16-35mm f/2.8', 2, 'Fernanda', 8997, 17994)\n",
            "(None, datetime.datetime(2020, 1, 4, 0, 0), None, None, None, 'Filtro ND 3 Stop', 1, 'Raquel', 1220, 1220)\n",
            "(None, datetime.datetime(2020, 1, 4, 0, 0), None, None, None, 'Lente 16-35mm f/2.8', 2, 'Carlos', 8997, 17994)\n",
            "(None, datetime.datetime(2020, 1, 4, 0, 0), None, None, None, 'DJI Ronin-S', 2, 'Theo', 5790, 11580)\n",
            "(None, datetime.datetime(2020, 1, 4, 0, 0), None, None, None, 'Lente 16-35mm f/2.8', 2, 'Carlos', 8997, 17994)\n",
            "(None, datetime.datetime(2020, 1, 5, 0, 0), None, None, None, 'Lente 85mm f/1.4', 2, 'Raquel', 9989, 19978)\n",
            "(None, datetime.datetime(2020, 1, 5, 0, 0), None, None, None, 'DJI Ronin-S', 2, 'Theo', 5790, 11580)\n",
            "(None, datetime.datetime(2020, 1, 5, 0, 0), None, None, None, 'DJI Ronin-S', 2, 'Fernanda', 5790, 11580)\n",
            "(None, datetime.datetime(2020, 1, 6, 0, 0), None, None, None, 'Filtro ND 5 Stop', 1, 'Carlos', 1220, 1220)\n",
            "(None, datetime.datetime(2020, 1, 7, 0, 0), None, None, None, 'Lente 85mm f/1.4', 2, 'Theo', 9989, 19978)\n",
            "(None, datetime.datetime(2020, 1, 7, 0, 0), None, None, None, 'Filtro ND 3 Stop', 1, 'Raquel', 1220, 1220)\n",
            "(None, datetime.datetime(2020, 1, 9, 0, 0), None, None, None, 'Canon 6D Mark II', 1, 'Fernanda', 8500, 8500)\n",
            "(None, datetime.datetime(2020, 1, 10, 0, 0), None, None, None, 'DJI Mavic Air 2', 2, 'Theo', 13580, 27160)\n",
            "(None, datetime.datetime(2020, 1, 10, 0, 0), None, None, None, 'Filtro ND 5 Stop', 2, 'Raquel', 1220, 2440)\n",
            "(None, datetime.datetime(2020, 1, 10, 0, 0), None, None, None, 'Filtro ND 3 Stop', 2, 'Theo', 1220, 2440)\n",
            "(None, datetime.datetime(2020, 1, 10, 0, 0), None, None, None, 'Lente 16-35mm f/2.8', 1, 'Raquel', 8997, 8997)\n",
            "(None, datetime.datetime(2020, 1, 10, 0, 0), None, None, None, 'DJI Mavic Air 2', 2, 'Raquel', 13580, 27160)\n",
            "(None, datetime.datetime(2020, 1, 12, 0, 0), None, None, None, 'Lente 50mm f/1.4', 2, 'Fernanda', 1649, 3298)\n",
            "(None, datetime.datetime(2020, 1, 12, 0, 0), None, None, None, 'DJI Mavic Air 2', 1, 'Carlos', 13580, 13580)\n",
            "(None, datetime.datetime(2020, 1, 12, 0, 0), None, None, None, 'Filtro ND 3 Stop', 1, 'Carlos', 1220, 1220)\n",
            "(None, datetime.datetime(2020, 1, 12, 0, 0), None, None, None, 'Filtro ND 5 Stop', 1, 'Fernanda', 1220, 1220)\n",
            "(None, datetime.datetime(2020, 1, 13, 0, 0), None, None, None, 'Lente 50mm f/1.4', 1, 'Fernanda', 1649, 1649)\n",
            "(None, datetime.datetime(2020, 1, 13, 0, 0), None, None, None, 'Canon 5D Mark III', 2, 'Fernanda', 13650, 27300)\n",
            "(None, datetime.datetime(2020, 1, 13, 0, 0), None, None, None, 'Canon 5D Mark III', 2, 'Fernanda', 13650, 27300)\n",
            "(None, datetime.datetime(2020, 1, 13, 0, 0), None, None, None, 'Lente 50mm f/1.4', 1, 'Carlos', 1649, 1649)\n",
            "(None, datetime.datetime(2020, 1, 13, 0, 0), None, None, None, 'DJI Ronin-S', 2, 'Carlos', 5790, 11580)\n",
            "(None, datetime.datetime(2020, 1, 14, 0, 0), None, None, None, 'Lente 16-35mm f/2.8', 2, 'Carlos', 8997, 17994)\n",
            "(None, datetime.datetime(2020, 1, 14, 0, 0), None, None, None, 'Filtro ND 5 Stop', 2, 'Theo', 1220, 2440)\n",
            "(None, datetime.datetime(2020, 1, 15, 0, 0), None, None, None, 'Lente 50mm f/1.4', 2, 'Raquel', 1649, 3298)\n",
            "(None, datetime.datetime(2020, 1, 15, 0, 0), None, None, None, 'DJI Ronin-S', 1, 'Raquel', 5790, 5790)\n",
            "(None, datetime.datetime(2020, 1, 15, 0, 0), None, None, None, 'Filtro ND 3 Stop', 2, 'Theo', 1220, 2440)\n",
            "(None, datetime.datetime(2020, 1, 16, 0, 0), None, None, None, 'Filtro ND 3 Stop', 2, 'Raquel', 1220, 2440)\n",
            "(None, datetime.datetime(2020, 1, 16, 0, 0), None, None, None, 'DJI Mavic Air 2', 2, 'Fernanda', 13580, 27160)\n",
            "(None, datetime.datetime(2020, 1, 16, 0, 0), None, None, None, 'Lente 85mm f/1.4', 1, 'Carlos', 9989, 9989)\n",
            "(None, datetime.datetime(2020, 1, 16, 0, 0), None, None, None, 'Filtro ND 5 Stop', 2, 'Carlos', 1220, 2440)\n",
            "(None, datetime.datetime(2020, 1, 16, 0, 0), None, None, None, 'Filtro ND 2 Stop', 2, 'Fernanda', 1220, 2440)\n",
            "(None, datetime.datetime(2020, 1, 16, 0, 0), None, None, None, 'Lente 50mm f/1.4', 2, 'Raquel', 1649, 3298)\n",
            "(None, datetime.datetime(2020, 1, 19, 0, 0), None, None, None, 'Filtro ND 5 Stop', 1, 'Raquel', 1220, 1220)\n",
            "(None, datetime.datetime(2020, 1, 19, 0, 0), None, None, None, 'Lente 16-35mm f/2.8', 1, 'Raquel', 8997, 8997)\n",
            "(None, datetime.datetime(2020, 1, 20, 0, 0), None, None, None, 'Canon 5D Mark III', 1, 'Carlos', 13650, 13650)\n",
            "(None, datetime.datetime(2020, 1, 20, 0, 0), None, None, None, 'DJI Mavic Air 2', 2, 'Theo', 13580, 27160)\n",
            "(None, datetime.datetime(2020, 1, 20, 0, 0), None, None, None, 'Canon 5D Mark III', 1, 'Raquel', 13650, 13650)\n",
            "(None, datetime.datetime(2020, 1, 20, 0, 0), None, None, None, 'Lente 85mm f/1.4', 2, 'Raquel', 9989, 19978)\n",
            "(None, datetime.datetime(2020, 1, 21, 0, 0), None, None, None, 'Filtro ND 3 Stop', 2, 'Carlos', 1220, 2440)\n",
            "(None, datetime.datetime(2020, 1, 21, 0, 0), None, None, None, 'Canon 6D Mark II', 2, 'Theo', 8500, 17000)\n",
            "(None, datetime.datetime(2020, 1, 21, 0, 0), None, None, None, 'Lente 16-35mm f/2.8', 2, 'Fernanda', 8997, 17994)\n",
            "(None, datetime.datetime(2020, 1, 21, 0, 0), None, None, None, 'DJI Ronin-S', 1, 'Carlos', 5790, 5790)\n",
            "(None, datetime.datetime(2020, 1, 21, 0, 0), None, None, None, 'Filtro ND 3 Stop', 2, 'Raquel', 1220, 2440)\n",
            "(None, datetime.datetime(2020, 1, 23, 0, 0), None, None, None, 'Canon 6D Mark II', 2, 'Carlos', 8500, 17000)\n",
            "(None, datetime.datetime(2020, 1, 23, 0, 0), None, None, None, 'DJI Mavic Air 2', 1, 'Carlos', 13580, 13580)\n",
            "(None, datetime.datetime(2020, 1, 23, 0, 0), None, None, None, 'Filtro ND 5 Stop', 2, 'Fernanda', 1220, 2440)\n",
            "(None, datetime.datetime(2020, 1, 23, 0, 0), None, None, None, 'Lente 50mm f/1.4', 1, 'Raquel', 1649, 1649)\n",
            "(None, datetime.datetime(2020, 1, 23, 0, 0), None, None, None, 'Filtro ND 3 Stop', 1, 'Carlos', 1220, 1220)\n",
            "(None, datetime.datetime(2020, 1, 23, 0, 0), None, None, None, 'Lente 16-35mm f/2.8', 1, 'Fernanda', 8997, 8997)\n",
            "(None, datetime.datetime(2020, 1, 23, 0, 0), None, None, None, 'Canon 5D Mark III', 2, 'Theo', 13650, 27300)\n",
            "(None, datetime.datetime(2020, 1, 24, 0, 0), None, None, None, 'Filtro ND 5 Stop', 1, 'Carlos', 1220, 1220)\n",
            "(None, datetime.datetime(2020, 1, 24, 0, 0), None, None, None, 'Filtro ND 2 Stop', 2, 'Raquel', 1220, 2440)\n",
            "(None, datetime.datetime(2020, 1, 24, 0, 0), None, None, None, 'Lente 50mm f/1.4', 1, 'Carlos', 1649, 1649)\n",
            "(None, datetime.datetime(2020, 1, 25, 0, 0), None, None, None, 'Lente 16-35mm f/2.8', 1, 'Raquel', 8997, 8997)\n",
            "(None, datetime.datetime(2020, 1, 25, 0, 0), None, None, None, 'Filtro ND 5 Stop', 1, 'Fernanda', 1220, 1220)\n",
            "(None, datetime.datetime(2020, 1, 25, 0, 0), None, None, None, 'Lente 16-35mm f/2.8', 1, 'Theo', 8997, 8997)\n",
            "(None, datetime.datetime(2020, 1, 25, 0, 0), None, None, None, 'Lente 50mm f/1.4', 1, 'Raquel', 1649, 1649)\n",
            "(None, datetime.datetime(2020, 1, 25, 0, 0), None, None, None, 'Lente 85mm f/1.4', 2, 'Theo', 9989, 19978)\n",
            "(None, datetime.datetime(2020, 1, 26, 0, 0), None, None, None, 'Filtro ND 2 Stop', 1, 'Theo', 1220, 1220)\n",
            "(None, datetime.datetime(2020, 1, 26, 0, 0), None, None, None, 'Canon 5D Mark III', 1, 'Raquel', 13650, 13650)\n",
            "(None, datetime.datetime(2020, 1, 26, 0, 0), None, None, None, 'Canon 6D Mark II', 1, 'Carlos', 8500, 8500)\n",
            "(None, datetime.datetime(2020, 1, 26, 0, 0), None, None, None, 'Lente 50mm f/1.4', 1, 'Theo', 1649, 1649)\n",
            "(None, datetime.datetime(2020, 1, 27, 0, 0), None, None, None, 'Lente 85mm f/1.4', 1, 'Raquel', 9989, 9989)\n",
            "(None, datetime.datetime(2020, 1, 27, 0, 0), None, None, None, 'Canon 6D Mark II', 2, 'Fernanda', 8500, 17000)\n",
            "(None, datetime.datetime(2020, 1, 27, 0, 0), None, None, None, 'Filtro ND 2 Stop', 1, 'Carlos', 1220, 1220)\n",
            "(None, datetime.datetime(2020, 1, 28, 0, 0), None, None, None, 'Canon 5D Mark III', 1, 'Fernanda', 13650, 13650)\n",
            "(None, datetime.datetime(2020, 1, 28, 0, 0), None, None, None, 'Canon 6D Mark II', 1, 'Theo', 8500, 8500)\n",
            "(None, datetime.datetime(2020, 1, 28, 0, 0), None, None, None, 'DJI Mavic Air 2', 2, 'Theo', 13580, 27160)\n",
            "(None, datetime.datetime(2020, 1, 28, 0, 0), None, None, None, 'Canon 6D Mark II', 1, 'Carlos', 8500, 8500)\n",
            "(None, datetime.datetime(2020, 1, 28, 0, 0), None, None, None, 'Filtro ND 2 Stop', 1, 'Raquel', 1220, 1220)\n",
            "(None, datetime.datetime(2020, 1, 28, 0, 0), None, None, None, 'Canon 5D Mark III', 2, 'Theo', 13650, 27300)\n",
            "(None, datetime.datetime(2020, 1, 28, 0, 0), None, None, None, 'DJI Mavic Air 2', 1, 'Carlos', 13580, 13580)\n",
            "(None, datetime.datetime(2020, 1, 28, 0, 0), None, None, None, 'Filtro ND 5 Stop', 2, 'Raquel', 1220, 2440)\n",
            "(None, datetime.datetime(2020, 1, 28, 0, 0), None, None, None, 'Filtro ND 3 Stop', 1, 'Raquel', 1220, 1220)\n",
            "(None, datetime.datetime(2020, 1, 29, 0, 0), None, None, None, 'DJI Ronin-S', 2, 'Fernanda', 5790, 11580)\n",
            "(None, datetime.datetime(2020, 1, 29, 0, 0), None, None, None, 'Canon 6D Mark II', 1, 'Theo', 8500, 8500)\n",
            "(None, datetime.datetime(2020, 1, 29, 0, 0), None, None, None, 'Filtro ND 5 Stop', 2, 'Theo', 1220, 2440)\n",
            "(None, datetime.datetime(2020, 1, 29, 0, 0), None, None, None, 'Lente 16-35mm f/2.8', 2, 'Theo', 8997, 17994)\n",
            "(None, datetime.datetime(2020, 1, 29, 0, 0), None, None, None, 'Filtro ND 2 Stop', 1, 'Fernanda', 1220, 1220)\n",
            "(None, datetime.datetime(2020, 1, 30, 0, 0), None, None, None, 'Filtro ND 3 Stop', 2, 'Fernanda', 1220, 2440)\n",
            "(None, datetime.datetime(2020, 1, 30, 0, 0), None, None, None, 'Filtro ND 5 Stop', 2, 'Raquel', 1220, 2440)\n"
          ]
        }
      ]
    },
    {
      "cell_type": "markdown",
      "source": [
        "##Deletando Colunas\n",
        "\n",
        "É possível deletar as colunas a partir do comando `delete_cols`, passando parâmetros iguais aos que passamos anteriormente.\n",
        "\n",
        "Vamos, por exemplo, deletar as colunas extras que criamos."
      ],
      "metadata": {
        "id": "R0kGaJOe6EYV"
      }
    },
    {
      "cell_type": "code",
      "source": [
        "# deletando as colunas\n",
        "sheet.delete_cols(idx=3, amount=3)\n",
        "\n",
        "print_rows()"
      ],
      "metadata": {
        "colab": {
          "base_uri": "https://localhost:8080/"
        },
        "id": "wnvSYTif6T-z",
        "outputId": "7566c1db-2ea7-448d-da14-d0cc2e24140c"
      },
      "execution_count": null,
      "outputs": [
        {
          "output_type": "stream",
          "name": "stdout",
          "text": [
            "(None, 'Data da Venda', 'Item', 'Quantidade', 'Vendedor', 'Preço Unitário', 'Total de Vendas')\n",
            "(None, datetime.datetime(2020, 1, 2, 0, 0), 'Lente 50mm f/1.4', 2, 'Carlos', 1649, 3298)\n",
            "(None, datetime.datetime(2020, 1, 2, 0, 0), 'Filtro ND 5 Stop', 2, 'Raquel', 1220, 2440)\n",
            "(None, datetime.datetime(2020, 1, 3, 0, 0), 'Filtro ND 5 Stop', 2, 'Raquel', 1220, 2440)\n",
            "(None, datetime.datetime(2020, 1, 3, 0, 0), 'Lente 16-35mm f/2.8', 2, 'Carlos', 8997, 17994)\n",
            "(None, datetime.datetime(2020, 1, 4, 0, 0), 'Lente 16-35mm f/2.8', 2, 'Fernanda', 8997, 17994)\n",
            "(None, datetime.datetime(2020, 1, 4, 0, 0), 'Filtro ND 3 Stop', 1, 'Raquel', 1220, 1220)\n",
            "(None, datetime.datetime(2020, 1, 4, 0, 0), 'Lente 16-35mm f/2.8', 2, 'Carlos', 8997, 17994)\n",
            "(None, datetime.datetime(2020, 1, 4, 0, 0), 'DJI Ronin-S', 2, 'Theo', 5790, 11580)\n",
            "(None, datetime.datetime(2020, 1, 4, 0, 0), 'Lente 16-35mm f/2.8', 2, 'Carlos', 8997, 17994)\n",
            "(None, datetime.datetime(2020, 1, 5, 0, 0), 'Lente 85mm f/1.4', 2, 'Raquel', 9989, 19978)\n",
            "(None, datetime.datetime(2020, 1, 5, 0, 0), 'DJI Ronin-S', 2, 'Theo', 5790, 11580)\n",
            "(None, datetime.datetime(2020, 1, 5, 0, 0), 'DJI Ronin-S', 2, 'Fernanda', 5790, 11580)\n",
            "(None, datetime.datetime(2020, 1, 6, 0, 0), 'Filtro ND 5 Stop', 1, 'Carlos', 1220, 1220)\n",
            "(None, datetime.datetime(2020, 1, 7, 0, 0), 'Lente 85mm f/1.4', 2, 'Theo', 9989, 19978)\n",
            "(None, datetime.datetime(2020, 1, 7, 0, 0), 'Filtro ND 3 Stop', 1, 'Raquel', 1220, 1220)\n",
            "(None, datetime.datetime(2020, 1, 9, 0, 0), 'Canon 6D Mark II', 1, 'Fernanda', 8500, 8500)\n",
            "(None, datetime.datetime(2020, 1, 10, 0, 0), 'DJI Mavic Air 2', 2, 'Theo', 13580, 27160)\n",
            "(None, datetime.datetime(2020, 1, 10, 0, 0), 'Filtro ND 5 Stop', 2, 'Raquel', 1220, 2440)\n",
            "(None, datetime.datetime(2020, 1, 10, 0, 0), 'Filtro ND 3 Stop', 2, 'Theo', 1220, 2440)\n",
            "(None, datetime.datetime(2020, 1, 10, 0, 0), 'Lente 16-35mm f/2.8', 1, 'Raquel', 8997, 8997)\n",
            "(None, datetime.datetime(2020, 1, 10, 0, 0), 'DJI Mavic Air 2', 2, 'Raquel', 13580, 27160)\n",
            "(None, datetime.datetime(2020, 1, 12, 0, 0), 'Lente 50mm f/1.4', 2, 'Fernanda', 1649, 3298)\n",
            "(None, datetime.datetime(2020, 1, 12, 0, 0), 'DJI Mavic Air 2', 1, 'Carlos', 13580, 13580)\n",
            "(None, datetime.datetime(2020, 1, 12, 0, 0), 'Filtro ND 3 Stop', 1, 'Carlos', 1220, 1220)\n",
            "(None, datetime.datetime(2020, 1, 12, 0, 0), 'Filtro ND 5 Stop', 1, 'Fernanda', 1220, 1220)\n",
            "(None, datetime.datetime(2020, 1, 13, 0, 0), 'Lente 50mm f/1.4', 1, 'Fernanda', 1649, 1649)\n",
            "(None, datetime.datetime(2020, 1, 13, 0, 0), 'Canon 5D Mark III', 2, 'Fernanda', 13650, 27300)\n",
            "(None, datetime.datetime(2020, 1, 13, 0, 0), 'Canon 5D Mark III', 2, 'Fernanda', 13650, 27300)\n",
            "(None, datetime.datetime(2020, 1, 13, 0, 0), 'Lente 50mm f/1.4', 1, 'Carlos', 1649, 1649)\n",
            "(None, datetime.datetime(2020, 1, 13, 0, 0), 'DJI Ronin-S', 2, 'Carlos', 5790, 11580)\n",
            "(None, datetime.datetime(2020, 1, 14, 0, 0), 'Lente 16-35mm f/2.8', 2, 'Carlos', 8997, 17994)\n",
            "(None, datetime.datetime(2020, 1, 14, 0, 0), 'Filtro ND 5 Stop', 2, 'Theo', 1220, 2440)\n",
            "(None, datetime.datetime(2020, 1, 15, 0, 0), 'Lente 50mm f/1.4', 2, 'Raquel', 1649, 3298)\n",
            "(None, datetime.datetime(2020, 1, 15, 0, 0), 'DJI Ronin-S', 1, 'Raquel', 5790, 5790)\n",
            "(None, datetime.datetime(2020, 1, 15, 0, 0), 'Filtro ND 3 Stop', 2, 'Theo', 1220, 2440)\n",
            "(None, datetime.datetime(2020, 1, 16, 0, 0), 'Filtro ND 3 Stop', 2, 'Raquel', 1220, 2440)\n",
            "(None, datetime.datetime(2020, 1, 16, 0, 0), 'DJI Mavic Air 2', 2, 'Fernanda', 13580, 27160)\n",
            "(None, datetime.datetime(2020, 1, 16, 0, 0), 'Lente 85mm f/1.4', 1, 'Carlos', 9989, 9989)\n",
            "(None, datetime.datetime(2020, 1, 16, 0, 0), 'Filtro ND 5 Stop', 2, 'Carlos', 1220, 2440)\n",
            "(None, datetime.datetime(2020, 1, 16, 0, 0), 'Filtro ND 2 Stop', 2, 'Fernanda', 1220, 2440)\n",
            "(None, datetime.datetime(2020, 1, 16, 0, 0), 'Lente 50mm f/1.4', 2, 'Raquel', 1649, 3298)\n",
            "(None, datetime.datetime(2020, 1, 19, 0, 0), 'Filtro ND 5 Stop', 1, 'Raquel', 1220, 1220)\n",
            "(None, datetime.datetime(2020, 1, 19, 0, 0), 'Lente 16-35mm f/2.8', 1, 'Raquel', 8997, 8997)\n",
            "(None, datetime.datetime(2020, 1, 20, 0, 0), 'Canon 5D Mark III', 1, 'Carlos', 13650, 13650)\n",
            "(None, datetime.datetime(2020, 1, 20, 0, 0), 'DJI Mavic Air 2', 2, 'Theo', 13580, 27160)\n",
            "(None, datetime.datetime(2020, 1, 20, 0, 0), 'Canon 5D Mark III', 1, 'Raquel', 13650, 13650)\n",
            "(None, datetime.datetime(2020, 1, 20, 0, 0), 'Lente 85mm f/1.4', 2, 'Raquel', 9989, 19978)\n",
            "(None, datetime.datetime(2020, 1, 21, 0, 0), 'Filtro ND 3 Stop', 2, 'Carlos', 1220, 2440)\n",
            "(None, datetime.datetime(2020, 1, 21, 0, 0), 'Canon 6D Mark II', 2, 'Theo', 8500, 17000)\n",
            "(None, datetime.datetime(2020, 1, 21, 0, 0), 'Lente 16-35mm f/2.8', 2, 'Fernanda', 8997, 17994)\n",
            "(None, datetime.datetime(2020, 1, 21, 0, 0), 'DJI Ronin-S', 1, 'Carlos', 5790, 5790)\n",
            "(None, datetime.datetime(2020, 1, 21, 0, 0), 'Filtro ND 3 Stop', 2, 'Raquel', 1220, 2440)\n",
            "(None, datetime.datetime(2020, 1, 23, 0, 0), 'Canon 6D Mark II', 2, 'Carlos', 8500, 17000)\n",
            "(None, datetime.datetime(2020, 1, 23, 0, 0), 'DJI Mavic Air 2', 1, 'Carlos', 13580, 13580)\n",
            "(None, datetime.datetime(2020, 1, 23, 0, 0), 'Filtro ND 5 Stop', 2, 'Fernanda', 1220, 2440)\n",
            "(None, datetime.datetime(2020, 1, 23, 0, 0), 'Lente 50mm f/1.4', 1, 'Raquel', 1649, 1649)\n",
            "(None, datetime.datetime(2020, 1, 23, 0, 0), 'Filtro ND 3 Stop', 1, 'Carlos', 1220, 1220)\n",
            "(None, datetime.datetime(2020, 1, 23, 0, 0), 'Lente 16-35mm f/2.8', 1, 'Fernanda', 8997, 8997)\n",
            "(None, datetime.datetime(2020, 1, 23, 0, 0), 'Canon 5D Mark III', 2, 'Theo', 13650, 27300)\n",
            "(None, datetime.datetime(2020, 1, 24, 0, 0), 'Filtro ND 5 Stop', 1, 'Carlos', 1220, 1220)\n",
            "(None, datetime.datetime(2020, 1, 24, 0, 0), 'Filtro ND 2 Stop', 2, 'Raquel', 1220, 2440)\n",
            "(None, datetime.datetime(2020, 1, 24, 0, 0), 'Lente 50mm f/1.4', 1, 'Carlos', 1649, 1649)\n",
            "(None, datetime.datetime(2020, 1, 25, 0, 0), 'Lente 16-35mm f/2.8', 1, 'Raquel', 8997, 8997)\n",
            "(None, datetime.datetime(2020, 1, 25, 0, 0), 'Filtro ND 5 Stop', 1, 'Fernanda', 1220, 1220)\n",
            "(None, datetime.datetime(2020, 1, 25, 0, 0), 'Lente 16-35mm f/2.8', 1, 'Theo', 8997, 8997)\n",
            "(None, datetime.datetime(2020, 1, 25, 0, 0), 'Lente 50mm f/1.4', 1, 'Raquel', 1649, 1649)\n",
            "(None, datetime.datetime(2020, 1, 25, 0, 0), 'Lente 85mm f/1.4', 2, 'Theo', 9989, 19978)\n",
            "(None, datetime.datetime(2020, 1, 26, 0, 0), 'Filtro ND 2 Stop', 1, 'Theo', 1220, 1220)\n",
            "(None, datetime.datetime(2020, 1, 26, 0, 0), 'Canon 5D Mark III', 1, 'Raquel', 13650, 13650)\n",
            "(None, datetime.datetime(2020, 1, 26, 0, 0), 'Canon 6D Mark II', 1, 'Carlos', 8500, 8500)\n",
            "(None, datetime.datetime(2020, 1, 26, 0, 0), 'Lente 50mm f/1.4', 1, 'Theo', 1649, 1649)\n",
            "(None, datetime.datetime(2020, 1, 27, 0, 0), 'Lente 85mm f/1.4', 1, 'Raquel', 9989, 9989)\n",
            "(None, datetime.datetime(2020, 1, 27, 0, 0), 'Canon 6D Mark II', 2, 'Fernanda', 8500, 17000)\n",
            "(None, datetime.datetime(2020, 1, 27, 0, 0), 'Filtro ND 2 Stop', 1, 'Carlos', 1220, 1220)\n",
            "(None, datetime.datetime(2020, 1, 28, 0, 0), 'Canon 5D Mark III', 1, 'Fernanda', 13650, 13650)\n",
            "(None, datetime.datetime(2020, 1, 28, 0, 0), 'Canon 6D Mark II', 1, 'Theo', 8500, 8500)\n",
            "(None, datetime.datetime(2020, 1, 28, 0, 0), 'DJI Mavic Air 2', 2, 'Theo', 13580, 27160)\n",
            "(None, datetime.datetime(2020, 1, 28, 0, 0), 'Canon 6D Mark II', 1, 'Carlos', 8500, 8500)\n",
            "(None, datetime.datetime(2020, 1, 28, 0, 0), 'Filtro ND 2 Stop', 1, 'Raquel', 1220, 1220)\n",
            "(None, datetime.datetime(2020, 1, 28, 0, 0), 'Canon 5D Mark III', 2, 'Theo', 13650, 27300)\n",
            "(None, datetime.datetime(2020, 1, 28, 0, 0), 'DJI Mavic Air 2', 1, 'Carlos', 13580, 13580)\n",
            "(None, datetime.datetime(2020, 1, 28, 0, 0), 'Filtro ND 5 Stop', 2, 'Raquel', 1220, 2440)\n",
            "(None, datetime.datetime(2020, 1, 28, 0, 0), 'Filtro ND 3 Stop', 1, 'Raquel', 1220, 1220)\n",
            "(None, datetime.datetime(2020, 1, 29, 0, 0), 'DJI Ronin-S', 2, 'Fernanda', 5790, 11580)\n",
            "(None, datetime.datetime(2020, 1, 29, 0, 0), 'Canon 6D Mark II', 1, 'Theo', 8500, 8500)\n",
            "(None, datetime.datetime(2020, 1, 29, 0, 0), 'Filtro ND 5 Stop', 2, 'Theo', 1220, 2440)\n",
            "(None, datetime.datetime(2020, 1, 29, 0, 0), 'Lente 16-35mm f/2.8', 2, 'Theo', 8997, 17994)\n",
            "(None, datetime.datetime(2020, 1, 29, 0, 0), 'Filtro ND 2 Stop', 1, 'Fernanda', 1220, 1220)\n",
            "(None, datetime.datetime(2020, 1, 30, 0, 0), 'Filtro ND 3 Stop', 2, 'Fernanda', 1220, 2440)\n",
            "(None, datetime.datetime(2020, 1, 30, 0, 0), 'Filtro ND 5 Stop', 2, 'Raquel', 1220, 2440)\n"
          ]
        }
      ]
    },
    {
      "cell_type": "markdown",
      "source": [
        "##Manipulando Linhas\n",
        "\n",
        "Da mesma forma que utilizamos o `insert` e `delete` para manipular colunas, podemos utilizar o mesmo tipo de método para manipular as linhas da nossa planiliha. Para isso, em vez de utilizarmos `col`, utilizaremos `row`."
      ],
      "metadata": {
        "id": "TEZ5KG2N6jeg"
      }
    },
    {
      "cell_type": "code",
      "source": [
        "# vamos criar uma nova linha\n",
        "sheet.insert_rows(idx=1)\n",
        "\n",
        "print_rows()"
      ],
      "metadata": {
        "colab": {
          "base_uri": "https://localhost:8080/"
        },
        "id": "Fl11FFqC63Bq",
        "outputId": "825ef930-4ce6-4627-9bc3-78140a18a133"
      },
      "execution_count": null,
      "outputs": [
        {
          "output_type": "stream",
          "name": "stdout",
          "text": [
            "(None, None, None, None, None, None, None)\n",
            "(None, 'Data da Venda', 'Item', 'Quantidade', 'Vendedor', 'Preço Unitário', 'Total de Vendas')\n",
            "(None, datetime.datetime(2020, 1, 2, 0, 0), 'Lente 50mm f/1.4', 2, 'Carlos', 1649, 3298)\n",
            "(None, datetime.datetime(2020, 1, 2, 0, 0), 'Filtro ND 5 Stop', 2, 'Raquel', 1220, 2440)\n",
            "(None, datetime.datetime(2020, 1, 3, 0, 0), 'Filtro ND 5 Stop', 2, 'Raquel', 1220, 2440)\n",
            "(None, datetime.datetime(2020, 1, 3, 0, 0), 'Lente 16-35mm f/2.8', 2, 'Carlos', 8997, 17994)\n",
            "(None, datetime.datetime(2020, 1, 4, 0, 0), 'Lente 16-35mm f/2.8', 2, 'Fernanda', 8997, 17994)\n",
            "(None, datetime.datetime(2020, 1, 4, 0, 0), 'Filtro ND 3 Stop', 1, 'Raquel', 1220, 1220)\n",
            "(None, datetime.datetime(2020, 1, 4, 0, 0), 'Lente 16-35mm f/2.8', 2, 'Carlos', 8997, 17994)\n",
            "(None, datetime.datetime(2020, 1, 4, 0, 0), 'DJI Ronin-S', 2, 'Theo', 5790, 11580)\n",
            "(None, datetime.datetime(2020, 1, 4, 0, 0), 'Lente 16-35mm f/2.8', 2, 'Carlos', 8997, 17994)\n",
            "(None, datetime.datetime(2020, 1, 5, 0, 0), 'Lente 85mm f/1.4', 2, 'Raquel', 9989, 19978)\n",
            "(None, datetime.datetime(2020, 1, 5, 0, 0), 'DJI Ronin-S', 2, 'Theo', 5790, 11580)\n",
            "(None, datetime.datetime(2020, 1, 5, 0, 0), 'DJI Ronin-S', 2, 'Fernanda', 5790, 11580)\n",
            "(None, datetime.datetime(2020, 1, 6, 0, 0), 'Filtro ND 5 Stop', 1, 'Carlos', 1220, 1220)\n",
            "(None, datetime.datetime(2020, 1, 7, 0, 0), 'Lente 85mm f/1.4', 2, 'Theo', 9989, 19978)\n",
            "(None, datetime.datetime(2020, 1, 7, 0, 0), 'Filtro ND 3 Stop', 1, 'Raquel', 1220, 1220)\n",
            "(None, datetime.datetime(2020, 1, 9, 0, 0), 'Canon 6D Mark II', 1, 'Fernanda', 8500, 8500)\n",
            "(None, datetime.datetime(2020, 1, 10, 0, 0), 'DJI Mavic Air 2', 2, 'Theo', 13580, 27160)\n",
            "(None, datetime.datetime(2020, 1, 10, 0, 0), 'Filtro ND 5 Stop', 2, 'Raquel', 1220, 2440)\n",
            "(None, datetime.datetime(2020, 1, 10, 0, 0), 'Filtro ND 3 Stop', 2, 'Theo', 1220, 2440)\n",
            "(None, datetime.datetime(2020, 1, 10, 0, 0), 'Lente 16-35mm f/2.8', 1, 'Raquel', 8997, 8997)\n",
            "(None, datetime.datetime(2020, 1, 10, 0, 0), 'DJI Mavic Air 2', 2, 'Raquel', 13580, 27160)\n",
            "(None, datetime.datetime(2020, 1, 12, 0, 0), 'Lente 50mm f/1.4', 2, 'Fernanda', 1649, 3298)\n",
            "(None, datetime.datetime(2020, 1, 12, 0, 0), 'DJI Mavic Air 2', 1, 'Carlos', 13580, 13580)\n",
            "(None, datetime.datetime(2020, 1, 12, 0, 0), 'Filtro ND 3 Stop', 1, 'Carlos', 1220, 1220)\n",
            "(None, datetime.datetime(2020, 1, 12, 0, 0), 'Filtro ND 5 Stop', 1, 'Fernanda', 1220, 1220)\n",
            "(None, datetime.datetime(2020, 1, 13, 0, 0), 'Lente 50mm f/1.4', 1, 'Fernanda', 1649, 1649)\n",
            "(None, datetime.datetime(2020, 1, 13, 0, 0), 'Canon 5D Mark III', 2, 'Fernanda', 13650, 27300)\n",
            "(None, datetime.datetime(2020, 1, 13, 0, 0), 'Canon 5D Mark III', 2, 'Fernanda', 13650, 27300)\n",
            "(None, datetime.datetime(2020, 1, 13, 0, 0), 'Lente 50mm f/1.4', 1, 'Carlos', 1649, 1649)\n",
            "(None, datetime.datetime(2020, 1, 13, 0, 0), 'DJI Ronin-S', 2, 'Carlos', 5790, 11580)\n",
            "(None, datetime.datetime(2020, 1, 14, 0, 0), 'Lente 16-35mm f/2.8', 2, 'Carlos', 8997, 17994)\n",
            "(None, datetime.datetime(2020, 1, 14, 0, 0), 'Filtro ND 5 Stop', 2, 'Theo', 1220, 2440)\n",
            "(None, datetime.datetime(2020, 1, 15, 0, 0), 'Lente 50mm f/1.4', 2, 'Raquel', 1649, 3298)\n",
            "(None, datetime.datetime(2020, 1, 15, 0, 0), 'DJI Ronin-S', 1, 'Raquel', 5790, 5790)\n",
            "(None, datetime.datetime(2020, 1, 15, 0, 0), 'Filtro ND 3 Stop', 2, 'Theo', 1220, 2440)\n",
            "(None, datetime.datetime(2020, 1, 16, 0, 0), 'Filtro ND 3 Stop', 2, 'Raquel', 1220, 2440)\n",
            "(None, datetime.datetime(2020, 1, 16, 0, 0), 'DJI Mavic Air 2', 2, 'Fernanda', 13580, 27160)\n",
            "(None, datetime.datetime(2020, 1, 16, 0, 0), 'Lente 85mm f/1.4', 1, 'Carlos', 9989, 9989)\n",
            "(None, datetime.datetime(2020, 1, 16, 0, 0), 'Filtro ND 5 Stop', 2, 'Carlos', 1220, 2440)\n",
            "(None, datetime.datetime(2020, 1, 16, 0, 0), 'Filtro ND 2 Stop', 2, 'Fernanda', 1220, 2440)\n",
            "(None, datetime.datetime(2020, 1, 16, 0, 0), 'Lente 50mm f/1.4', 2, 'Raquel', 1649, 3298)\n",
            "(None, datetime.datetime(2020, 1, 19, 0, 0), 'Filtro ND 5 Stop', 1, 'Raquel', 1220, 1220)\n",
            "(None, datetime.datetime(2020, 1, 19, 0, 0), 'Lente 16-35mm f/2.8', 1, 'Raquel', 8997, 8997)\n",
            "(None, datetime.datetime(2020, 1, 20, 0, 0), 'Canon 5D Mark III', 1, 'Carlos', 13650, 13650)\n",
            "(None, datetime.datetime(2020, 1, 20, 0, 0), 'DJI Mavic Air 2', 2, 'Theo', 13580, 27160)\n",
            "(None, datetime.datetime(2020, 1, 20, 0, 0), 'Canon 5D Mark III', 1, 'Raquel', 13650, 13650)\n",
            "(None, datetime.datetime(2020, 1, 20, 0, 0), 'Lente 85mm f/1.4', 2, 'Raquel', 9989, 19978)\n",
            "(None, datetime.datetime(2020, 1, 21, 0, 0), 'Filtro ND 3 Stop', 2, 'Carlos', 1220, 2440)\n",
            "(None, datetime.datetime(2020, 1, 21, 0, 0), 'Canon 6D Mark II', 2, 'Theo', 8500, 17000)\n",
            "(None, datetime.datetime(2020, 1, 21, 0, 0), 'Lente 16-35mm f/2.8', 2, 'Fernanda', 8997, 17994)\n",
            "(None, datetime.datetime(2020, 1, 21, 0, 0), 'DJI Ronin-S', 1, 'Carlos', 5790, 5790)\n",
            "(None, datetime.datetime(2020, 1, 21, 0, 0), 'Filtro ND 3 Stop', 2, 'Raquel', 1220, 2440)\n",
            "(None, datetime.datetime(2020, 1, 23, 0, 0), 'Canon 6D Mark II', 2, 'Carlos', 8500, 17000)\n",
            "(None, datetime.datetime(2020, 1, 23, 0, 0), 'DJI Mavic Air 2', 1, 'Carlos', 13580, 13580)\n",
            "(None, datetime.datetime(2020, 1, 23, 0, 0), 'Filtro ND 5 Stop', 2, 'Fernanda', 1220, 2440)\n",
            "(None, datetime.datetime(2020, 1, 23, 0, 0), 'Lente 50mm f/1.4', 1, 'Raquel', 1649, 1649)\n",
            "(None, datetime.datetime(2020, 1, 23, 0, 0), 'Filtro ND 3 Stop', 1, 'Carlos', 1220, 1220)\n",
            "(None, datetime.datetime(2020, 1, 23, 0, 0), 'Lente 16-35mm f/2.8', 1, 'Fernanda', 8997, 8997)\n",
            "(None, datetime.datetime(2020, 1, 23, 0, 0), 'Canon 5D Mark III', 2, 'Theo', 13650, 27300)\n",
            "(None, datetime.datetime(2020, 1, 24, 0, 0), 'Filtro ND 5 Stop', 1, 'Carlos', 1220, 1220)\n",
            "(None, datetime.datetime(2020, 1, 24, 0, 0), 'Filtro ND 2 Stop', 2, 'Raquel', 1220, 2440)\n",
            "(None, datetime.datetime(2020, 1, 24, 0, 0), 'Lente 50mm f/1.4', 1, 'Carlos', 1649, 1649)\n",
            "(None, datetime.datetime(2020, 1, 25, 0, 0), 'Lente 16-35mm f/2.8', 1, 'Raquel', 8997, 8997)\n",
            "(None, datetime.datetime(2020, 1, 25, 0, 0), 'Filtro ND 5 Stop', 1, 'Fernanda', 1220, 1220)\n",
            "(None, datetime.datetime(2020, 1, 25, 0, 0), 'Lente 16-35mm f/2.8', 1, 'Theo', 8997, 8997)\n",
            "(None, datetime.datetime(2020, 1, 25, 0, 0), 'Lente 50mm f/1.4', 1, 'Raquel', 1649, 1649)\n",
            "(None, datetime.datetime(2020, 1, 25, 0, 0), 'Lente 85mm f/1.4', 2, 'Theo', 9989, 19978)\n",
            "(None, datetime.datetime(2020, 1, 26, 0, 0), 'Filtro ND 2 Stop', 1, 'Theo', 1220, 1220)\n",
            "(None, datetime.datetime(2020, 1, 26, 0, 0), 'Canon 5D Mark III', 1, 'Raquel', 13650, 13650)\n",
            "(None, datetime.datetime(2020, 1, 26, 0, 0), 'Canon 6D Mark II', 1, 'Carlos', 8500, 8500)\n",
            "(None, datetime.datetime(2020, 1, 26, 0, 0), 'Lente 50mm f/1.4', 1, 'Theo', 1649, 1649)\n",
            "(None, datetime.datetime(2020, 1, 27, 0, 0), 'Lente 85mm f/1.4', 1, 'Raquel', 9989, 9989)\n",
            "(None, datetime.datetime(2020, 1, 27, 0, 0), 'Canon 6D Mark II', 2, 'Fernanda', 8500, 17000)\n",
            "(None, datetime.datetime(2020, 1, 27, 0, 0), 'Filtro ND 2 Stop', 1, 'Carlos', 1220, 1220)\n",
            "(None, datetime.datetime(2020, 1, 28, 0, 0), 'Canon 5D Mark III', 1, 'Fernanda', 13650, 13650)\n",
            "(None, datetime.datetime(2020, 1, 28, 0, 0), 'Canon 6D Mark II', 1, 'Theo', 8500, 8500)\n",
            "(None, datetime.datetime(2020, 1, 28, 0, 0), 'DJI Mavic Air 2', 2, 'Theo', 13580, 27160)\n",
            "(None, datetime.datetime(2020, 1, 28, 0, 0), 'Canon 6D Mark II', 1, 'Carlos', 8500, 8500)\n",
            "(None, datetime.datetime(2020, 1, 28, 0, 0), 'Filtro ND 2 Stop', 1, 'Raquel', 1220, 1220)\n",
            "(None, datetime.datetime(2020, 1, 28, 0, 0), 'Canon 5D Mark III', 2, 'Theo', 13650, 27300)\n",
            "(None, datetime.datetime(2020, 1, 28, 0, 0), 'DJI Mavic Air 2', 1, 'Carlos', 13580, 13580)\n",
            "(None, datetime.datetime(2020, 1, 28, 0, 0), 'Filtro ND 5 Stop', 2, 'Raquel', 1220, 2440)\n",
            "(None, datetime.datetime(2020, 1, 28, 0, 0), 'Filtro ND 3 Stop', 1, 'Raquel', 1220, 1220)\n",
            "(None, datetime.datetime(2020, 1, 29, 0, 0), 'DJI Ronin-S', 2, 'Fernanda', 5790, 11580)\n",
            "(None, datetime.datetime(2020, 1, 29, 0, 0), 'Canon 6D Mark II', 1, 'Theo', 8500, 8500)\n",
            "(None, datetime.datetime(2020, 1, 29, 0, 0), 'Filtro ND 5 Stop', 2, 'Theo', 1220, 2440)\n",
            "(None, datetime.datetime(2020, 1, 29, 0, 0), 'Lente 16-35mm f/2.8', 2, 'Theo', 8997, 17994)\n",
            "(None, datetime.datetime(2020, 1, 29, 0, 0), 'Filtro ND 2 Stop', 1, 'Fernanda', 1220, 1220)\n",
            "(None, datetime.datetime(2020, 1, 30, 0, 0), 'Filtro ND 3 Stop', 2, 'Fernanda', 1220, 2440)\n",
            "(None, datetime.datetime(2020, 1, 30, 0, 0), 'Filtro ND 5 Stop', 2, 'Raquel', 1220, 2440)\n"
          ]
        }
      ]
    },
    {
      "cell_type": "code",
      "source": [
        "# criando mais de uma linha de uma única vez\n",
        "sheet.insert_rows(idx=5, amount=5)\n",
        "\n",
        "print_rows()"
      ],
      "metadata": {
        "colab": {
          "base_uri": "https://localhost:8080/"
        },
        "id": "pvDWk_aw57ka",
        "outputId": "7c6086f4-c98c-495b-b920-71a08e3820be"
      },
      "execution_count": null,
      "outputs": [
        {
          "output_type": "stream",
          "name": "stdout",
          "text": [
            "(None, None, None, None, None, None, None)\n",
            "(None, 'Data da Venda', 'Item', 'Quantidade', 'Vendedor', 'Preço Unitário', 'Total de Vendas')\n",
            "(None, datetime.datetime(2020, 1, 2, 0, 0), 'Lente 50mm f/1.4', 2, 'Carlos', 1649, 3298)\n",
            "(None, datetime.datetime(2020, 1, 2, 0, 0), 'Filtro ND 5 Stop', 2, 'Raquel', 1220, 2440)\n",
            "(None, None, None, None, None, None, None)\n",
            "(None, None, None, None, None, None, None)\n",
            "(None, None, None, None, None, None, None)\n",
            "(None, None, None, None, None, None, None)\n",
            "(None, None, None, None, None, None, None)\n",
            "(None, datetime.datetime(2020, 1, 3, 0, 0), 'Filtro ND 5 Stop', 2, 'Raquel', 1220, 2440)\n",
            "(None, datetime.datetime(2020, 1, 3, 0, 0), 'Lente 16-35mm f/2.8', 2, 'Carlos', 8997, 17994)\n",
            "(None, datetime.datetime(2020, 1, 4, 0, 0), 'Lente 16-35mm f/2.8', 2, 'Fernanda', 8997, 17994)\n",
            "(None, datetime.datetime(2020, 1, 4, 0, 0), 'Filtro ND 3 Stop', 1, 'Raquel', 1220, 1220)\n",
            "(None, datetime.datetime(2020, 1, 4, 0, 0), 'Lente 16-35mm f/2.8', 2, 'Carlos', 8997, 17994)\n",
            "(None, datetime.datetime(2020, 1, 4, 0, 0), 'DJI Ronin-S', 2, 'Theo', 5790, 11580)\n",
            "(None, datetime.datetime(2020, 1, 4, 0, 0), 'Lente 16-35mm f/2.8', 2, 'Carlos', 8997, 17994)\n",
            "(None, datetime.datetime(2020, 1, 5, 0, 0), 'Lente 85mm f/1.4', 2, 'Raquel', 9989, 19978)\n",
            "(None, datetime.datetime(2020, 1, 5, 0, 0), 'DJI Ronin-S', 2, 'Theo', 5790, 11580)\n",
            "(None, datetime.datetime(2020, 1, 5, 0, 0), 'DJI Ronin-S', 2, 'Fernanda', 5790, 11580)\n",
            "(None, datetime.datetime(2020, 1, 6, 0, 0), 'Filtro ND 5 Stop', 1, 'Carlos', 1220, 1220)\n",
            "(None, datetime.datetime(2020, 1, 7, 0, 0), 'Lente 85mm f/1.4', 2, 'Theo', 9989, 19978)\n",
            "(None, datetime.datetime(2020, 1, 7, 0, 0), 'Filtro ND 3 Stop', 1, 'Raquel', 1220, 1220)\n",
            "(None, datetime.datetime(2020, 1, 9, 0, 0), 'Canon 6D Mark II', 1, 'Fernanda', 8500, 8500)\n",
            "(None, datetime.datetime(2020, 1, 10, 0, 0), 'DJI Mavic Air 2', 2, 'Theo', 13580, 27160)\n",
            "(None, datetime.datetime(2020, 1, 10, 0, 0), 'Filtro ND 5 Stop', 2, 'Raquel', 1220, 2440)\n",
            "(None, datetime.datetime(2020, 1, 10, 0, 0), 'Filtro ND 3 Stop', 2, 'Theo', 1220, 2440)\n",
            "(None, datetime.datetime(2020, 1, 10, 0, 0), 'Lente 16-35mm f/2.8', 1, 'Raquel', 8997, 8997)\n",
            "(None, datetime.datetime(2020, 1, 10, 0, 0), 'DJI Mavic Air 2', 2, 'Raquel', 13580, 27160)\n",
            "(None, datetime.datetime(2020, 1, 12, 0, 0), 'Lente 50mm f/1.4', 2, 'Fernanda', 1649, 3298)\n",
            "(None, datetime.datetime(2020, 1, 12, 0, 0), 'DJI Mavic Air 2', 1, 'Carlos', 13580, 13580)\n",
            "(None, datetime.datetime(2020, 1, 12, 0, 0), 'Filtro ND 3 Stop', 1, 'Carlos', 1220, 1220)\n",
            "(None, datetime.datetime(2020, 1, 12, 0, 0), 'Filtro ND 5 Stop', 1, 'Fernanda', 1220, 1220)\n",
            "(None, datetime.datetime(2020, 1, 13, 0, 0), 'Lente 50mm f/1.4', 1, 'Fernanda', 1649, 1649)\n",
            "(None, datetime.datetime(2020, 1, 13, 0, 0), 'Canon 5D Mark III', 2, 'Fernanda', 13650, 27300)\n",
            "(None, datetime.datetime(2020, 1, 13, 0, 0), 'Canon 5D Mark III', 2, 'Fernanda', 13650, 27300)\n",
            "(None, datetime.datetime(2020, 1, 13, 0, 0), 'Lente 50mm f/1.4', 1, 'Carlos', 1649, 1649)\n",
            "(None, datetime.datetime(2020, 1, 13, 0, 0), 'DJI Ronin-S', 2, 'Carlos', 5790, 11580)\n",
            "(None, datetime.datetime(2020, 1, 14, 0, 0), 'Lente 16-35mm f/2.8', 2, 'Carlos', 8997, 17994)\n",
            "(None, datetime.datetime(2020, 1, 14, 0, 0), 'Filtro ND 5 Stop', 2, 'Theo', 1220, 2440)\n",
            "(None, datetime.datetime(2020, 1, 15, 0, 0), 'Lente 50mm f/1.4', 2, 'Raquel', 1649, 3298)\n",
            "(None, datetime.datetime(2020, 1, 15, 0, 0), 'DJI Ronin-S', 1, 'Raquel', 5790, 5790)\n",
            "(None, datetime.datetime(2020, 1, 15, 0, 0), 'Filtro ND 3 Stop', 2, 'Theo', 1220, 2440)\n",
            "(None, datetime.datetime(2020, 1, 16, 0, 0), 'Filtro ND 3 Stop', 2, 'Raquel', 1220, 2440)\n",
            "(None, datetime.datetime(2020, 1, 16, 0, 0), 'DJI Mavic Air 2', 2, 'Fernanda', 13580, 27160)\n",
            "(None, datetime.datetime(2020, 1, 16, 0, 0), 'Lente 85mm f/1.4', 1, 'Carlos', 9989, 9989)\n",
            "(None, datetime.datetime(2020, 1, 16, 0, 0), 'Filtro ND 5 Stop', 2, 'Carlos', 1220, 2440)\n",
            "(None, datetime.datetime(2020, 1, 16, 0, 0), 'Filtro ND 2 Stop', 2, 'Fernanda', 1220, 2440)\n",
            "(None, datetime.datetime(2020, 1, 16, 0, 0), 'Lente 50mm f/1.4', 2, 'Raquel', 1649, 3298)\n",
            "(None, datetime.datetime(2020, 1, 19, 0, 0), 'Filtro ND 5 Stop', 1, 'Raquel', 1220, 1220)\n",
            "(None, datetime.datetime(2020, 1, 19, 0, 0), 'Lente 16-35mm f/2.8', 1, 'Raquel', 8997, 8997)\n",
            "(None, datetime.datetime(2020, 1, 20, 0, 0), 'Canon 5D Mark III', 1, 'Carlos', 13650, 13650)\n",
            "(None, datetime.datetime(2020, 1, 20, 0, 0), 'DJI Mavic Air 2', 2, 'Theo', 13580, 27160)\n",
            "(None, datetime.datetime(2020, 1, 20, 0, 0), 'Canon 5D Mark III', 1, 'Raquel', 13650, 13650)\n",
            "(None, datetime.datetime(2020, 1, 20, 0, 0), 'Lente 85mm f/1.4', 2, 'Raquel', 9989, 19978)\n",
            "(None, datetime.datetime(2020, 1, 21, 0, 0), 'Filtro ND 3 Stop', 2, 'Carlos', 1220, 2440)\n",
            "(None, datetime.datetime(2020, 1, 21, 0, 0), 'Canon 6D Mark II', 2, 'Theo', 8500, 17000)\n",
            "(None, datetime.datetime(2020, 1, 21, 0, 0), 'Lente 16-35mm f/2.8', 2, 'Fernanda', 8997, 17994)\n",
            "(None, datetime.datetime(2020, 1, 21, 0, 0), 'DJI Ronin-S', 1, 'Carlos', 5790, 5790)\n",
            "(None, datetime.datetime(2020, 1, 21, 0, 0), 'Filtro ND 3 Stop', 2, 'Raquel', 1220, 2440)\n",
            "(None, datetime.datetime(2020, 1, 23, 0, 0), 'Canon 6D Mark II', 2, 'Carlos', 8500, 17000)\n",
            "(None, datetime.datetime(2020, 1, 23, 0, 0), 'DJI Mavic Air 2', 1, 'Carlos', 13580, 13580)\n",
            "(None, datetime.datetime(2020, 1, 23, 0, 0), 'Filtro ND 5 Stop', 2, 'Fernanda', 1220, 2440)\n",
            "(None, datetime.datetime(2020, 1, 23, 0, 0), 'Lente 50mm f/1.4', 1, 'Raquel', 1649, 1649)\n",
            "(None, datetime.datetime(2020, 1, 23, 0, 0), 'Filtro ND 3 Stop', 1, 'Carlos', 1220, 1220)\n",
            "(None, datetime.datetime(2020, 1, 23, 0, 0), 'Lente 16-35mm f/2.8', 1, 'Fernanda', 8997, 8997)\n",
            "(None, datetime.datetime(2020, 1, 23, 0, 0), 'Canon 5D Mark III', 2, 'Theo', 13650, 27300)\n",
            "(None, datetime.datetime(2020, 1, 24, 0, 0), 'Filtro ND 5 Stop', 1, 'Carlos', 1220, 1220)\n",
            "(None, datetime.datetime(2020, 1, 24, 0, 0), 'Filtro ND 2 Stop', 2, 'Raquel', 1220, 2440)\n",
            "(None, datetime.datetime(2020, 1, 24, 0, 0), 'Lente 50mm f/1.4', 1, 'Carlos', 1649, 1649)\n",
            "(None, datetime.datetime(2020, 1, 25, 0, 0), 'Lente 16-35mm f/2.8', 1, 'Raquel', 8997, 8997)\n",
            "(None, datetime.datetime(2020, 1, 25, 0, 0), 'Filtro ND 5 Stop', 1, 'Fernanda', 1220, 1220)\n",
            "(None, datetime.datetime(2020, 1, 25, 0, 0), 'Lente 16-35mm f/2.8', 1, 'Theo', 8997, 8997)\n",
            "(None, datetime.datetime(2020, 1, 25, 0, 0), 'Lente 50mm f/1.4', 1, 'Raquel', 1649, 1649)\n",
            "(None, datetime.datetime(2020, 1, 25, 0, 0), 'Lente 85mm f/1.4', 2, 'Theo', 9989, 19978)\n",
            "(None, datetime.datetime(2020, 1, 26, 0, 0), 'Filtro ND 2 Stop', 1, 'Theo', 1220, 1220)\n",
            "(None, datetime.datetime(2020, 1, 26, 0, 0), 'Canon 5D Mark III', 1, 'Raquel', 13650, 13650)\n",
            "(None, datetime.datetime(2020, 1, 26, 0, 0), 'Canon 6D Mark II', 1, 'Carlos', 8500, 8500)\n",
            "(None, datetime.datetime(2020, 1, 26, 0, 0), 'Lente 50mm f/1.4', 1, 'Theo', 1649, 1649)\n",
            "(None, datetime.datetime(2020, 1, 27, 0, 0), 'Lente 85mm f/1.4', 1, 'Raquel', 9989, 9989)\n",
            "(None, datetime.datetime(2020, 1, 27, 0, 0), 'Canon 6D Mark II', 2, 'Fernanda', 8500, 17000)\n",
            "(None, datetime.datetime(2020, 1, 27, 0, 0), 'Filtro ND 2 Stop', 1, 'Carlos', 1220, 1220)\n",
            "(None, datetime.datetime(2020, 1, 28, 0, 0), 'Canon 5D Mark III', 1, 'Fernanda', 13650, 13650)\n",
            "(None, datetime.datetime(2020, 1, 28, 0, 0), 'Canon 6D Mark II', 1, 'Theo', 8500, 8500)\n",
            "(None, datetime.datetime(2020, 1, 28, 0, 0), 'DJI Mavic Air 2', 2, 'Theo', 13580, 27160)\n",
            "(None, datetime.datetime(2020, 1, 28, 0, 0), 'Canon 6D Mark II', 1, 'Carlos', 8500, 8500)\n",
            "(None, datetime.datetime(2020, 1, 28, 0, 0), 'Filtro ND 2 Stop', 1, 'Raquel', 1220, 1220)\n",
            "(None, datetime.datetime(2020, 1, 28, 0, 0), 'Canon 5D Mark III', 2, 'Theo', 13650, 27300)\n",
            "(None, datetime.datetime(2020, 1, 28, 0, 0), 'DJI Mavic Air 2', 1, 'Carlos', 13580, 13580)\n",
            "(None, datetime.datetime(2020, 1, 28, 0, 0), 'Filtro ND 5 Stop', 2, 'Raquel', 1220, 2440)\n",
            "(None, datetime.datetime(2020, 1, 28, 0, 0), 'Filtro ND 3 Stop', 1, 'Raquel', 1220, 1220)\n",
            "(None, datetime.datetime(2020, 1, 29, 0, 0), 'DJI Ronin-S', 2, 'Fernanda', 5790, 11580)\n",
            "(None, datetime.datetime(2020, 1, 29, 0, 0), 'Canon 6D Mark II', 1, 'Theo', 8500, 8500)\n",
            "(None, datetime.datetime(2020, 1, 29, 0, 0), 'Filtro ND 5 Stop', 2, 'Theo', 1220, 2440)\n",
            "(None, datetime.datetime(2020, 1, 29, 0, 0), 'Lente 16-35mm f/2.8', 2, 'Theo', 8997, 17994)\n",
            "(None, datetime.datetime(2020, 1, 29, 0, 0), 'Filtro ND 2 Stop', 1, 'Fernanda', 1220, 1220)\n",
            "(None, datetime.datetime(2020, 1, 30, 0, 0), 'Filtro ND 3 Stop', 2, 'Fernanda', 1220, 2440)\n",
            "(None, datetime.datetime(2020, 1, 30, 0, 0), 'Filtro ND 5 Stop', 2, 'Raquel', 1220, 2440)\n"
          ]
        }
      ]
    },
    {
      "cell_type": "code",
      "source": [
        "# deletando as linhas criadas\n",
        "# criando mais de uma linha de uma única vez\n",
        "sheet.delete_rows(idx=5, amount=5)\n",
        "sheet.delete_rows(idx=1)\n",
        "sheet.delete_cols(idx=1)\n",
        "\n",
        "print_rows()"
      ],
      "metadata": {
        "colab": {
          "base_uri": "https://localhost:8080/"
        },
        "id": "cNLTmNyQ5gJy",
        "outputId": "c07e0dea-ae16-45db-893e-d9edb6c14cba"
      },
      "execution_count": null,
      "outputs": [
        {
          "output_type": "stream",
          "name": "stdout",
          "text": [
            "('Data da Venda', 'Item', 'Quantidade', 'Vendedor', 'Preço Unitário', 'Total de Vendas')\n",
            "(datetime.datetime(2020, 1, 2, 0, 0), 'Lente 50mm f/1.4', 2, 'Carlos', 1649, 3298)\n",
            "(datetime.datetime(2020, 1, 2, 0, 0), 'Filtro ND 5 Stop', 2, 'Raquel', 1220, 2440)\n",
            "(datetime.datetime(2020, 1, 3, 0, 0), 'Filtro ND 5 Stop', 2, 'Raquel', 1220, 2440)\n",
            "(datetime.datetime(2020, 1, 3, 0, 0), 'Lente 16-35mm f/2.8', 2, 'Carlos', 8997, 17994)\n",
            "(datetime.datetime(2020, 1, 4, 0, 0), 'Lente 16-35mm f/2.8', 2, 'Fernanda', 8997, 17994)\n",
            "(datetime.datetime(2020, 1, 4, 0, 0), 'Filtro ND 3 Stop', 1, 'Raquel', 1220, 1220)\n",
            "(datetime.datetime(2020, 1, 4, 0, 0), 'Lente 16-35mm f/2.8', 2, 'Carlos', 8997, 17994)\n",
            "(datetime.datetime(2020, 1, 4, 0, 0), 'DJI Ronin-S', 2, 'Theo', 5790, 11580)\n",
            "(datetime.datetime(2020, 1, 4, 0, 0), 'Lente 16-35mm f/2.8', 2, 'Carlos', 8997, 17994)\n",
            "(datetime.datetime(2020, 1, 5, 0, 0), 'Lente 85mm f/1.4', 2, 'Raquel', 9989, 19978)\n",
            "(datetime.datetime(2020, 1, 5, 0, 0), 'DJI Ronin-S', 2, 'Theo', 5790, 11580)\n",
            "(datetime.datetime(2020, 1, 5, 0, 0), 'DJI Ronin-S', 2, 'Fernanda', 5790, 11580)\n",
            "(datetime.datetime(2020, 1, 6, 0, 0), 'Filtro ND 5 Stop', 1, 'Carlos', 1220, 1220)\n",
            "(datetime.datetime(2020, 1, 7, 0, 0), 'Lente 85mm f/1.4', 2, 'Theo', 9989, 19978)\n",
            "(datetime.datetime(2020, 1, 7, 0, 0), 'Filtro ND 3 Stop', 1, 'Raquel', 1220, 1220)\n",
            "(datetime.datetime(2020, 1, 9, 0, 0), 'Canon 6D Mark II', 1, 'Fernanda', 8500, 8500)\n",
            "(datetime.datetime(2020, 1, 10, 0, 0), 'DJI Mavic Air 2', 2, 'Theo', 13580, 27160)\n",
            "(datetime.datetime(2020, 1, 10, 0, 0), 'Filtro ND 5 Stop', 2, 'Raquel', 1220, 2440)\n",
            "(datetime.datetime(2020, 1, 10, 0, 0), 'Filtro ND 3 Stop', 2, 'Theo', 1220, 2440)\n",
            "(datetime.datetime(2020, 1, 10, 0, 0), 'Lente 16-35mm f/2.8', 1, 'Raquel', 8997, 8997)\n",
            "(datetime.datetime(2020, 1, 10, 0, 0), 'DJI Mavic Air 2', 2, 'Raquel', 13580, 27160)\n",
            "(datetime.datetime(2020, 1, 12, 0, 0), 'Lente 50mm f/1.4', 2, 'Fernanda', 1649, 3298)\n",
            "(datetime.datetime(2020, 1, 12, 0, 0), 'DJI Mavic Air 2', 1, 'Carlos', 13580, 13580)\n",
            "(datetime.datetime(2020, 1, 12, 0, 0), 'Filtro ND 3 Stop', 1, 'Carlos', 1220, 1220)\n",
            "(datetime.datetime(2020, 1, 12, 0, 0), 'Filtro ND 5 Stop', 1, 'Fernanda', 1220, 1220)\n",
            "(datetime.datetime(2020, 1, 13, 0, 0), 'Lente 50mm f/1.4', 1, 'Fernanda', 1649, 1649)\n",
            "(datetime.datetime(2020, 1, 13, 0, 0), 'Canon 5D Mark III', 2, 'Fernanda', 13650, 27300)\n",
            "(datetime.datetime(2020, 1, 13, 0, 0), 'Canon 5D Mark III', 2, 'Fernanda', 13650, 27300)\n",
            "(datetime.datetime(2020, 1, 13, 0, 0), 'Lente 50mm f/1.4', 1, 'Carlos', 1649, 1649)\n",
            "(datetime.datetime(2020, 1, 13, 0, 0), 'DJI Ronin-S', 2, 'Carlos', 5790, 11580)\n",
            "(datetime.datetime(2020, 1, 14, 0, 0), 'Lente 16-35mm f/2.8', 2, 'Carlos', 8997, 17994)\n",
            "(datetime.datetime(2020, 1, 14, 0, 0), 'Filtro ND 5 Stop', 2, 'Theo', 1220, 2440)\n",
            "(datetime.datetime(2020, 1, 15, 0, 0), 'Lente 50mm f/1.4', 2, 'Raquel', 1649, 3298)\n",
            "(datetime.datetime(2020, 1, 15, 0, 0), 'DJI Ronin-S', 1, 'Raquel', 5790, 5790)\n",
            "(datetime.datetime(2020, 1, 15, 0, 0), 'Filtro ND 3 Stop', 2, 'Theo', 1220, 2440)\n",
            "(datetime.datetime(2020, 1, 16, 0, 0), 'Filtro ND 3 Stop', 2, 'Raquel', 1220, 2440)\n",
            "(datetime.datetime(2020, 1, 16, 0, 0), 'DJI Mavic Air 2', 2, 'Fernanda', 13580, 27160)\n",
            "(datetime.datetime(2020, 1, 16, 0, 0), 'Lente 85mm f/1.4', 1, 'Carlos', 9989, 9989)\n",
            "(datetime.datetime(2020, 1, 16, 0, 0), 'Filtro ND 5 Stop', 2, 'Carlos', 1220, 2440)\n",
            "(datetime.datetime(2020, 1, 16, 0, 0), 'Filtro ND 2 Stop', 2, 'Fernanda', 1220, 2440)\n",
            "(datetime.datetime(2020, 1, 16, 0, 0), 'Lente 50mm f/1.4', 2, 'Raquel', 1649, 3298)\n",
            "(datetime.datetime(2020, 1, 19, 0, 0), 'Filtro ND 5 Stop', 1, 'Raquel', 1220, 1220)\n",
            "(datetime.datetime(2020, 1, 19, 0, 0), 'Lente 16-35mm f/2.8', 1, 'Raquel', 8997, 8997)\n",
            "(datetime.datetime(2020, 1, 20, 0, 0), 'Canon 5D Mark III', 1, 'Carlos', 13650, 13650)\n",
            "(datetime.datetime(2020, 1, 20, 0, 0), 'DJI Mavic Air 2', 2, 'Theo', 13580, 27160)\n",
            "(datetime.datetime(2020, 1, 20, 0, 0), 'Canon 5D Mark III', 1, 'Raquel', 13650, 13650)\n",
            "(datetime.datetime(2020, 1, 20, 0, 0), 'Lente 85mm f/1.4', 2, 'Raquel', 9989, 19978)\n",
            "(datetime.datetime(2020, 1, 21, 0, 0), 'Filtro ND 3 Stop', 2, 'Carlos', 1220, 2440)\n",
            "(datetime.datetime(2020, 1, 21, 0, 0), 'Canon 6D Mark II', 2, 'Theo', 8500, 17000)\n",
            "(datetime.datetime(2020, 1, 21, 0, 0), 'Lente 16-35mm f/2.8', 2, 'Fernanda', 8997, 17994)\n",
            "(datetime.datetime(2020, 1, 21, 0, 0), 'DJI Ronin-S', 1, 'Carlos', 5790, 5790)\n",
            "(datetime.datetime(2020, 1, 21, 0, 0), 'Filtro ND 3 Stop', 2, 'Raquel', 1220, 2440)\n",
            "(datetime.datetime(2020, 1, 23, 0, 0), 'Canon 6D Mark II', 2, 'Carlos', 8500, 17000)\n",
            "(datetime.datetime(2020, 1, 23, 0, 0), 'DJI Mavic Air 2', 1, 'Carlos', 13580, 13580)\n",
            "(datetime.datetime(2020, 1, 23, 0, 0), 'Filtro ND 5 Stop', 2, 'Fernanda', 1220, 2440)\n",
            "(datetime.datetime(2020, 1, 23, 0, 0), 'Lente 50mm f/1.4', 1, 'Raquel', 1649, 1649)\n",
            "(datetime.datetime(2020, 1, 23, 0, 0), 'Filtro ND 3 Stop', 1, 'Carlos', 1220, 1220)\n",
            "(datetime.datetime(2020, 1, 23, 0, 0), 'Lente 16-35mm f/2.8', 1, 'Fernanda', 8997, 8997)\n",
            "(datetime.datetime(2020, 1, 23, 0, 0), 'Canon 5D Mark III', 2, 'Theo', 13650, 27300)\n",
            "(datetime.datetime(2020, 1, 24, 0, 0), 'Filtro ND 5 Stop', 1, 'Carlos', 1220, 1220)\n",
            "(datetime.datetime(2020, 1, 24, 0, 0), 'Filtro ND 2 Stop', 2, 'Raquel', 1220, 2440)\n",
            "(datetime.datetime(2020, 1, 24, 0, 0), 'Lente 50mm f/1.4', 1, 'Carlos', 1649, 1649)\n",
            "(datetime.datetime(2020, 1, 25, 0, 0), 'Lente 16-35mm f/2.8', 1, 'Raquel', 8997, 8997)\n",
            "(datetime.datetime(2020, 1, 25, 0, 0), 'Filtro ND 5 Stop', 1, 'Fernanda', 1220, 1220)\n",
            "(datetime.datetime(2020, 1, 25, 0, 0), 'Lente 16-35mm f/2.8', 1, 'Theo', 8997, 8997)\n",
            "(datetime.datetime(2020, 1, 25, 0, 0), 'Lente 50mm f/1.4', 1, 'Raquel', 1649, 1649)\n",
            "(datetime.datetime(2020, 1, 25, 0, 0), 'Lente 85mm f/1.4', 2, 'Theo', 9989, 19978)\n",
            "(datetime.datetime(2020, 1, 26, 0, 0), 'Filtro ND 2 Stop', 1, 'Theo', 1220, 1220)\n",
            "(datetime.datetime(2020, 1, 26, 0, 0), 'Canon 5D Mark III', 1, 'Raquel', 13650, 13650)\n",
            "(datetime.datetime(2020, 1, 26, 0, 0), 'Canon 6D Mark II', 1, 'Carlos', 8500, 8500)\n",
            "(datetime.datetime(2020, 1, 26, 0, 0), 'Lente 50mm f/1.4', 1, 'Theo', 1649, 1649)\n",
            "(datetime.datetime(2020, 1, 27, 0, 0), 'Lente 85mm f/1.4', 1, 'Raquel', 9989, 9989)\n",
            "(datetime.datetime(2020, 1, 27, 0, 0), 'Canon 6D Mark II', 2, 'Fernanda', 8500, 17000)\n",
            "(datetime.datetime(2020, 1, 27, 0, 0), 'Filtro ND 2 Stop', 1, 'Carlos', 1220, 1220)\n",
            "(datetime.datetime(2020, 1, 28, 0, 0), 'Canon 5D Mark III', 1, 'Fernanda', 13650, 13650)\n",
            "(datetime.datetime(2020, 1, 28, 0, 0), 'Canon 6D Mark II', 1, 'Theo', 8500, 8500)\n",
            "(datetime.datetime(2020, 1, 28, 0, 0), 'DJI Mavic Air 2', 2, 'Theo', 13580, 27160)\n",
            "(datetime.datetime(2020, 1, 28, 0, 0), 'Canon 6D Mark II', 1, 'Carlos', 8500, 8500)\n",
            "(datetime.datetime(2020, 1, 28, 0, 0), 'Filtro ND 2 Stop', 1, 'Raquel', 1220, 1220)\n",
            "(datetime.datetime(2020, 1, 28, 0, 0), 'Canon 5D Mark III', 2, 'Theo', 13650, 27300)\n",
            "(datetime.datetime(2020, 1, 28, 0, 0), 'DJI Mavic Air 2', 1, 'Carlos', 13580, 13580)\n",
            "(datetime.datetime(2020, 1, 28, 0, 0), 'Filtro ND 5 Stop', 2, 'Raquel', 1220, 2440)\n",
            "(datetime.datetime(2020, 1, 28, 0, 0), 'Filtro ND 3 Stop', 1, 'Raquel', 1220, 1220)\n",
            "(datetime.datetime(2020, 1, 29, 0, 0), 'DJI Ronin-S', 2, 'Fernanda', 5790, 11580)\n",
            "(datetime.datetime(2020, 1, 29, 0, 0), 'Canon 6D Mark II', 1, 'Theo', 8500, 8500)\n",
            "(datetime.datetime(2020, 1, 29, 0, 0), 'Filtro ND 5 Stop', 2, 'Theo', 1220, 2440)\n",
            "(datetime.datetime(2020, 1, 29, 0, 0), 'Lente 16-35mm f/2.8', 2, 'Theo', 8997, 17994)\n",
            "(datetime.datetime(2020, 1, 29, 0, 0), 'Filtro ND 2 Stop', 1, 'Fernanda', 1220, 1220)\n",
            "(datetime.datetime(2020, 1, 30, 0, 0), 'Filtro ND 3 Stop', 2, 'Fernanda', 1220, 2440)\n",
            "(datetime.datetime(2020, 1, 30, 0, 0), 'Filtro ND 5 Stop', 2, 'Raquel', 1220, 2440)\n"
          ]
        }
      ]
    },
    {
      "cell_type": "markdown",
      "source": [
        "#**6 - Navegando Pelas Abas de uma Planilha**\n",
        "\n",
        "Seguindo adiante com nossa manipulação de arquivos xlsx, precisamos aprender com efetividade como acessar e navegar pelas abas de uma planilha.\n",
        "\n",
        "Por isso, vamos ver como utilizar na prática esses recursos com efetividade.\n",
        "\n",
        "Como sempre, lembramos de fazer o upload dos arquivos utilizados e a atualização do pacote.\n",
        "\n",
        "<center><img width=\"50%\" src=\"https://img.freepik.com/vetores-gratis/ilustracao-do-conceito-de-codificacao_114360-939.jpg?w=740&t=st=1663783309~exp=1663783909~hmac=7cf5090d6b7c894e698b2a448ad08c0954688074fdd53b75fc9dcfdf93a5d928\"></center>\n"
      ],
      "metadata": {
        "id": "m6nXkDqY77Tw"
      }
    },
    {
      "cell_type": "markdown",
      "source": [
        "Vamos carregar os dados como temos feito em todos os notebooks anteriores. Foco, dessa vez, para o método sheetnames, que nos mostra o nome das abas pelas quais podemos navegar nesse arquivo."
      ],
      "metadata": {
        "id": "Q4eYX1DC8Srh"
      }
    },
    {
      "cell_type": "code",
      "source": [
        "# carregando uma planilha\n",
        "from openpyxl import load_workbook\n",
        "\n",
        "workbook = load_workbook(filename='controle_da_empresa.xlsx')"
      ],
      "metadata": {
        "id": "ncafgcji8Trd"
      },
      "execution_count": null,
      "outputs": []
    },
    {
      "cell_type": "code",
      "source": [
        "# verificando as abas\n",
        "workbook.sheetnames"
      ],
      "metadata": {
        "colab": {
          "base_uri": "https://localhost:8080/"
        },
        "id": "h-NTu9WO8X8b",
        "outputId": "c092aa12-6fc8-43ae-be95-a127ee5d5ac9"
      },
      "execution_count": null,
      "outputs": [
        {
          "output_type": "execute_result",
          "data": {
            "text/plain": [
              "['Estoque', 'Vendas', 'Funcionários']"
            ]
          },
          "metadata": {},
          "execution_count": 58
        }
      ]
    },
    {
      "cell_type": "markdown",
      "source": [
        "## Escolhendo uma Aba\n",
        "\n",
        "Para carregar uma aba específica, vamos chamar o nome da aba dentro de aspas, simples ou duplas, dentro de colchetes, ao chamar o objeto workbook. É ideal que salvemos esse objeto dentro de uma variável, para facilitar o acesso no futuro."
      ],
      "metadata": {
        "id": "U4YUaVwS8f2B"
      }
    },
    {
      "cell_type": "code",
      "source": [
        "# carregando uma aba específica\n",
        "sheet = workbook['Vendas']"
      ],
      "metadata": {
        "id": "ufsXTkT_8g1e"
      },
      "execution_count": null,
      "outputs": []
    },
    {
      "cell_type": "markdown",
      "source": [
        "## Renomeando uma Aba\n",
        "Uma vez carregada, podemos modificar o nome da aba, através do método `title`."
      ],
      "metadata": {
        "id": "6vUY2IHn9JXc"
      }
    },
    {
      "cell_type": "code",
      "source": [
        "# modificar o nome da aba\n",
        "sheet.title = 'VendasVendas'\n",
        "print(sheet.title)"
      ],
      "metadata": {
        "colab": {
          "base_uri": "https://localhost:8080/"
        },
        "id": "NcqlClyW9K0t",
        "outputId": "1a7d7224-4593-4e5f-f53b-37c3a17b9372"
      },
      "execution_count": null,
      "outputs": [
        {
          "output_type": "stream",
          "name": "stdout",
          "text": [
            "VendasVendas\n"
          ]
        }
      ]
    },
    {
      "cell_type": "markdown",
      "source": [
        "## Criando Novas Abas\n",
        "Também é possível criar uma nova aba, através do método `create_sheet`.\n",
        "\n",
        "Abaixo, podemos conferir que o nome da aba Vendas foi modificado com sucesso, e podemos ver que a aba Nova Aba também foi criada sem problemas."
      ],
      "metadata": {
        "id": "rC37tRe99QZx"
      }
    },
    {
      "cell_type": "code",
      "source": [
        "# criando uma aba nova\n",
        "new_sheet = workbook.create_sheet('Nova Aba')\n",
        "workbook.sheetnames"
      ],
      "metadata": {
        "colab": {
          "base_uri": "https://localhost:8080/"
        },
        "id": "m9v-Ab2G9RA2",
        "outputId": "c34b1a48-8cbe-4bda-aad6-909269ed6ce4"
      },
      "execution_count": null,
      "outputs": [
        {
          "output_type": "execute_result",
          "data": {
            "text/plain": [
              "['Estoque', 'VendasVendas', 'Funcionários', 'Nova Aba']"
            ]
          },
          "metadata": {},
          "execution_count": 61
        }
      ]
    },
    {
      "cell_type": "markdown",
      "source": [
        "Quando criamos uma nova aba, por padrão, ela toma a últimia posição entre as abas existentes. Entretanto, possível modificar isso, passando como argumento um `int` que indica a posição que desejamos que ela assuma.\n",
        "\n",
        "Nesse caso, a indexação é feita pelo Python, por isso, o index 0 é a primeira posição."
      ],
      "metadata": {
        "id": "eCVU38tU9aTz"
      }
    },
    {
      "cell_type": "code",
      "source": [
        "# ao criar uma nova aba, é possível escolher a posição dela\n",
        "nova_aba = workbook.create_sheet('Primeira Aba', 0)\n",
        "workbook.sheetnames"
      ],
      "metadata": {
        "colab": {
          "base_uri": "https://localhost:8080/"
        },
        "id": "6sgcfD799Gtw",
        "outputId": "bcc940ae-1f5f-405f-a416-53bc1d0b6078"
      },
      "execution_count": null,
      "outputs": [
        {
          "output_type": "execute_result",
          "data": {
            "text/plain": [
              "['Primeira Aba', 'Estoque', 'VendasVendas', 'Funcionários', 'Nova Aba']"
            ]
          },
          "metadata": {},
          "execution_count": 62
        }
      ]
    },
    {
      "cell_type": "markdown",
      "source": [
        "## Removendo Abas\n",
        "\n",
        "Da mesma forma que podemos criar, podemos também remover abas. Isso é feito facilmente através do método `remove`, passando como parâmetro a aba a ser excluída."
      ],
      "metadata": {
        "id": "_Jps2qcx9lsH"
      }
    },
    {
      "cell_type": "code",
      "source": [
        "# removendo uma aba\n",
        "workbook.remove(nova_aba)\n",
        "workbook.remove(new_sheet)\n",
        "workbook.sheetnames"
      ],
      "metadata": {
        "colab": {
          "base_uri": "https://localhost:8080/"
        },
        "id": "AYdyffqT9miP",
        "outputId": "26348414-7a01-4cb7-c136-1c093957ad0a"
      },
      "execution_count": null,
      "outputs": [
        {
          "output_type": "execute_result",
          "data": {
            "text/plain": [
              "['Estoque', 'VendasVendas', 'Funcionários']"
            ]
          },
          "metadata": {},
          "execution_count": 63
        }
      ]
    },
    {
      "cell_type": "markdown",
      "source": [
        "## Copiando Abas\n",
        "\n",
        "Por fim, podemos também criar cópias de abas existentes, utilizando o método `copy_worksheet`."
      ],
      "metadata": {
        "id": "91wJZ3Ze9rPw"
      }
    },
    {
      "cell_type": "code",
      "source": [
        "# copiando uma aba\n",
        "workbook.copy_worksheet(sheet)\n",
        "workbook.sheetnames"
      ],
      "metadata": {
        "colab": {
          "base_uri": "https://localhost:8080/"
        },
        "id": "y0aHfjGO9sOw",
        "outputId": "6321d9a5-f074-4b81-d014-1d77cf73ae63"
      },
      "execution_count": null,
      "outputs": [
        {
          "output_type": "execute_result",
          "data": {
            "text/plain": [
              "['Estoque', 'VendasVendas', 'Funcionários', 'VendasVendas Copy']"
            ]
          },
          "metadata": {},
          "execution_count": 64
        }
      ]
    },
    {
      "cell_type": "code",
      "source": [],
      "metadata": {
        "id": "YOl-vHrH7ZM9"
      },
      "execution_count": null,
      "outputs": []
    },
    {
      "cell_type": "markdown",
      "source": [
        "#**7 - Filtros e Fórmulas**\n",
        "\n",
        "Quando estamos analisando dados em uma planilha do Excel, filtros e fórmulas fazem grande parte da nossa rotina de organização e exploração dos dados.\n",
        "\n",
        "Aqui, estamos lidando com planilhas, arquivos xlsx, e mesmo utilizando Python, continuamos contando com essas ferramentas.\n",
        "\n",
        "<center><img width=\"50%\" src=\"https://img.freepik.com/vetores-gratis/ilustracao-do-conceito-de-matematica_114360-3972.jpg?w=740&t=st=1663783471~exp=1663784071~hmac=955c9c78fb059f2cc94d17114cd3385f1e94b76950712ccca0f2bf9c39f738dd\"></center>"
      ],
      "metadata": {
        "id": "RvT7eiycAt3-"
      }
    },
    {
      "cell_type": "code",
      "source": [
        "# carregando uma planilha\n",
        "from openpyxl import load_workbook\n",
        "\n",
        "workbook = load_workbook(filename='controle_da_empresa.xlsx')\n",
        "\n",
        "# verificando as abas\n",
        "workbook.sheetnames"
      ],
      "metadata": {
        "colab": {
          "base_uri": "https://localhost:8080/"
        },
        "id": "W5KAPZXBBGWo",
        "outputId": "b6fd9024-71c4-483e-9b62-625553e0cc59"
      },
      "execution_count": null,
      "outputs": [
        {
          "output_type": "execute_result",
          "data": {
            "text/plain": [
              "['Estoque', 'Vendas', 'Funcionários']"
            ]
          },
          "metadata": {},
          "execution_count": 65
        }
      ]
    },
    {
      "cell_type": "code",
      "source": [
        "# carregando uma aba específica\n",
        "sheet = workbook['Vendas']"
      ],
      "metadata": {
        "id": "uuqnciL8BSxj"
      },
      "execution_count": null,
      "outputs": []
    },
    {
      "cell_type": "markdown",
      "source": [
        "Utilizamos o método `dimensions` para verificar as dimensoes da planilha."
      ],
      "metadata": {
        "id": "uLyCe2JDBbwd"
      }
    },
    {
      "cell_type": "code",
      "source": [
        "sheet.dimensions"
      ],
      "metadata": {
        "colab": {
          "base_uri": "https://localhost:8080/",
          "height": 36
        },
        "id": "ElN8PTATBlgr",
        "outputId": "f7dd7359-7edf-4ccb-d36c-79e060a5512f"
      },
      "execution_count": null,
      "outputs": [
        {
          "output_type": "execute_result",
          "data": {
            "text/plain": [
              "'A1:F91'"
            ],
            "application/vnd.google.colaboratory.intrinsic+json": {
              "type": "string"
            }
          },
          "metadata": {},
          "execution_count": 67
        }
      ]
    },
    {
      "cell_type": "markdown",
      "source": [
        "## Adicionando um Filtro\n",
        "\n",
        "Sabendo o intervalo no qual os nossos dados estão, podemos criar um filtro geral na planilha com o método `auto_filter`, e passando a referência do intervalo dos nossos dados, para facilitar a vida de quem for utilizá-la."
      ],
      "metadata": {
        "id": "v5pzeIjhCv8s"
      }
    },
    {
      "cell_type": "code",
      "source": [
        "# adicionando um filtro\n",
        "sheet.auto_filter.ref = 'A1:F91'"
      ],
      "metadata": {
        "id": "DFKmcNAxDAbC"
      },
      "execution_count": null,
      "outputs": []
    },
    {
      "cell_type": "markdown",
      "source": [
        "## Salvando o Arquivo\n",
        "Sempre que manipulamos os dados aqui, estamos fazendo isso em método de \"consulta\". As mudaças são de fato aplicadas à nossa variável que recebeu os valores contidos na planilha.\n",
        "\n",
        "Entretanto, para fazer modificações **no arquivo**, de fato, precisamos salvar esse arquivo.\n",
        "\n",
        "Aqui, a fim de preservar o arquivo original, vamos criar um arquivo de nome difernte.\n",
        "\n",
        "Basta usar o método `save`, e passar entre parênteses o `filename`, ou seja, o nome do arquivo a ser criado. Não se esqueça de passar a extensão correta como parâmetro."
      ],
      "metadata": {
        "id": "B1xfYJxqD55P"
      }
    },
    {
      "cell_type": "code",
      "source": [
        "# salvando o arquivo modificado\n",
        "workbook.save(filename='controle_filtro.xlsx')"
      ],
      "metadata": {
        "id": "CwoF7cERD7cX"
      },
      "execution_count": null,
      "outputs": []
    },
    {
      "cell_type": "markdown",
      "source": [
        "## Fórmulas\n",
        "\n",
        "Outra ferramenta poderosa que temos à nossa disposição no Excel são as fórmulas.\n",
        "\n",
        "Aqui, conseguimos utilizar as mesmas também.\n",
        "\n",
        "Abaixo, importaremos de dentro dos utilitários da openpyxl o módulo `\u001d\u001dFORMULAE`.\n",
        "\n",
        "Não utilizaremos nada dele diretamente, mas a partir desse módulo, podemos conferir que fórmulas temos à nossa disposição."
      ],
      "metadata": {
        "id": "eiMUt_teELs4"
      }
    },
    {
      "cell_type": "code",
      "source": [
        "# importando o módulo\n",
        "from openpyxl.utils import FORMULAE"
      ],
      "metadata": {
        "id": "tB8Ja5kdEMUZ"
      },
      "execution_count": null,
      "outputs": []
    },
    {
      "cell_type": "code",
      "source": [
        "# verificando as fórmulas\n",
        "FORMULAE"
      ],
      "metadata": {
        "colab": {
          "base_uri": "https://localhost:8080/"
        },
        "id": "x53tkt5eEPDl",
        "outputId": "7fbb2f64-9fbb-4034-b5a3-32f605072ec4"
      },
      "execution_count": null,
      "outputs": [
        {
          "output_type": "execute_result",
          "data": {
            "text/plain": [
              "frozenset({'ABS',\n",
              "           'ACCRINT',\n",
              "           'ACCRINTM',\n",
              "           'ACOS',\n",
              "           'ACOSH',\n",
              "           'AMORDEGRC',\n",
              "           'AMORLINC',\n",
              "           'AND',\n",
              "           'AREAS',\n",
              "           'ASC',\n",
              "           'ASIN',\n",
              "           'ASINH',\n",
              "           'ATAN',\n",
              "           'ATAN2',\n",
              "           'ATANH',\n",
              "           'AVEDEV',\n",
              "           'AVERAGE',\n",
              "           'AVERAGEA',\n",
              "           'AVERAGEIF',\n",
              "           'AVERAGEIFS',\n",
              "           'BAHTTEXT',\n",
              "           'BESSELI',\n",
              "           'BESSELJ',\n",
              "           'BESSELK',\n",
              "           'BESSELY',\n",
              "           'BETADIST',\n",
              "           'BETAINV',\n",
              "           'BIN2DEC',\n",
              "           'BIN2HEX',\n",
              "           'BIN2OCT',\n",
              "           'BINOMDIST',\n",
              "           'CEILING',\n",
              "           'CELL',\n",
              "           'CHAR',\n",
              "           'CHIDIST',\n",
              "           'CHIINV',\n",
              "           'CHITEST',\n",
              "           'CHOOSE',\n",
              "           'CLEAN',\n",
              "           'CODE',\n",
              "           'COLUMN',\n",
              "           'COLUMNS',\n",
              "           'COMBIN',\n",
              "           'COMPLEX',\n",
              "           'CONCATENATE',\n",
              "           'CONFIDENCE',\n",
              "           'CONVERT',\n",
              "           'CORREL',\n",
              "           'COS',\n",
              "           'COSH',\n",
              "           'COUNT',\n",
              "           'COUNTA',\n",
              "           'COUNTBLANK',\n",
              "           'COUNTIF',\n",
              "           'COUNTIFS',\n",
              "           'COUPDAYBS',\n",
              "           'COUPDAYS',\n",
              "           'COUPDAYSNC',\n",
              "           'COUPNCD',\n",
              "           'COUPNUM',\n",
              "           'COUPPCD',\n",
              "           'COVAR',\n",
              "           'CRITBINOM',\n",
              "           'CUBEKPIMEMBER',\n",
              "           'CUBEMEMBER',\n",
              "           'CUBEMEMBERPROPERTY',\n",
              "           'CUBERANKEDMEMBER',\n",
              "           'CUBESET',\n",
              "           'CUBESETCOUNT',\n",
              "           'CUBEVALUE',\n",
              "           'CUMIPMT',\n",
              "           'CUMPRINC',\n",
              "           'DATE',\n",
              "           'DATEDIF',\n",
              "           'DATEVALUE',\n",
              "           'DAVERAGE',\n",
              "           'DAY',\n",
              "           'DAYS360',\n",
              "           'DB',\n",
              "           'DCOUNT',\n",
              "           'DCOUNTA',\n",
              "           'DDB',\n",
              "           'DEC2BIN',\n",
              "           'DEC2HEX',\n",
              "           'DEC2OCT',\n",
              "           'DEGREES',\n",
              "           'DELTA',\n",
              "           'DEVSQ',\n",
              "           'DGET',\n",
              "           'DISC',\n",
              "           'DMAX',\n",
              "           'DMIN',\n",
              "           'DOLLAR',\n",
              "           'DOLLARDE',\n",
              "           'DOLLARFR',\n",
              "           'DPRODUCT',\n",
              "           'DSTDEV',\n",
              "           'DSTDEVP',\n",
              "           'DSUM',\n",
              "           'DURATION',\n",
              "           'DVAR',\n",
              "           'DVARP',\n",
              "           'ECMA.CEILING',\n",
              "           'EDATE',\n",
              "           'EFFECT',\n",
              "           'EOMONTH',\n",
              "           'ERF',\n",
              "           'ERFC',\n",
              "           'ERROR.TYPE',\n",
              "           'EVEN',\n",
              "           'EXACT',\n",
              "           'EXP',\n",
              "           'EXPONDIST',\n",
              "           'FACT',\n",
              "           'FACTDOUBLE',\n",
              "           'FALSE',\n",
              "           'FDIST',\n",
              "           'FIND',\n",
              "           'FINDB',\n",
              "           'FINV',\n",
              "           'FISHER',\n",
              "           'FISHERINV',\n",
              "           'FIXED',\n",
              "           'FLOOR',\n",
              "           'FORECAST',\n",
              "           'FREQUENCY',\n",
              "           'FTEST',\n",
              "           'FV',\n",
              "           'FVSCHEDULE',\n",
              "           'GAMMADIST',\n",
              "           'GAMMAINV',\n",
              "           'GAMMALN',\n",
              "           'GCD',\n",
              "           'GEOMEAN',\n",
              "           'GESTEP',\n",
              "           'GETPIVOTDATA',\n",
              "           'GROWTH',\n",
              "           'HARMEAN',\n",
              "           'HEX2BIN',\n",
              "           'HEX2DEC',\n",
              "           'HEX2OCT',\n",
              "           'HLOOKUP',\n",
              "           'HOUR',\n",
              "           'HYPERLINK',\n",
              "           'HYPGEOMDIST',\n",
              "           'IF',\n",
              "           'IFERROR',\n",
              "           'IMABS',\n",
              "           'IMAGINARY',\n",
              "           'IMARGUMENT',\n",
              "           'IMCONJUGATE',\n",
              "           'IMCOS',\n",
              "           'IMDIV',\n",
              "           'IMEXP',\n",
              "           'IMLN',\n",
              "           'IMLOG10',\n",
              "           'IMLOG2',\n",
              "           'IMPOWER',\n",
              "           'IMPRODUCT',\n",
              "           'IMREAL',\n",
              "           'IMSIN',\n",
              "           'IMSQRT',\n",
              "           'IMSUB',\n",
              "           'IMSUM',\n",
              "           'INDEX',\n",
              "           'INDIRECT',\n",
              "           'INFO',\n",
              "           'INT',\n",
              "           'INTERCEPT',\n",
              "           'INTRATE',\n",
              "           'IPMT',\n",
              "           'IRR',\n",
              "           'ISBLANK',\n",
              "           'ISERR',\n",
              "           'ISERROR',\n",
              "           'ISEVEN',\n",
              "           'ISLOGICAL',\n",
              "           'ISNA',\n",
              "           'ISNONTEXT',\n",
              "           'ISNUMBER',\n",
              "           'ISO.CEILING',\n",
              "           'ISODD',\n",
              "           'ISPMT',\n",
              "           'ISREF',\n",
              "           'ISTEXT',\n",
              "           'JIS',\n",
              "           'KURT',\n",
              "           'LARGE',\n",
              "           'LCM',\n",
              "           'LEFT',\n",
              "           'LEFTB',\n",
              "           'LEN',\n",
              "           'LENB',\n",
              "           'LINEST',\n",
              "           'LN',\n",
              "           'LOG',\n",
              "           'LOG10',\n",
              "           'LOGEST',\n",
              "           'LOGINV',\n",
              "           'LOGNORMDIST',\n",
              "           'LOOKUP',\n",
              "           'LOWER',\n",
              "           'MATCH',\n",
              "           'MAX',\n",
              "           'MAXA',\n",
              "           'MDETERM',\n",
              "           'MDURATION',\n",
              "           'MEDIAN',\n",
              "           'MID',\n",
              "           'MIDB',\n",
              "           'MIN',\n",
              "           'MINA',\n",
              "           'MINUTE',\n",
              "           'MINVERSE',\n",
              "           'MIRR',\n",
              "           'MMULT',\n",
              "           'MOD',\n",
              "           'MODE',\n",
              "           'MONTH',\n",
              "           'MROUND',\n",
              "           'MULTINOMIAL',\n",
              "           'N',\n",
              "           'NA',\n",
              "           'NEGBINOMDIST',\n",
              "           'NETWORKDAYS',\n",
              "           'NETWORKDAYS.INTL',\n",
              "           'NOMINAL',\n",
              "           'NORMDIST',\n",
              "           'NORMINV',\n",
              "           'NORMSDIST',\n",
              "           'NORMSINV',\n",
              "           'NOT',\n",
              "           'NOW',\n",
              "           'NPER',\n",
              "           'NPV',\n",
              "           'OCT2BIN',\n",
              "           'OCT2DEC',\n",
              "           'OCT2HEX',\n",
              "           'ODD',\n",
              "           'ODDFPRICE',\n",
              "           'ODDFYIELD',\n",
              "           'ODDLPRICE',\n",
              "           'ODDLYIELD',\n",
              "           'OFFSET',\n",
              "           'OR',\n",
              "           'PEARSON',\n",
              "           'PERCENTILE',\n",
              "           'PERCENTRANK',\n",
              "           'PERMUT',\n",
              "           'PHONETIC',\n",
              "           'PI',\n",
              "           'PMT',\n",
              "           'POISSON',\n",
              "           'POWER',\n",
              "           'PPMT',\n",
              "           'PRICE',\n",
              "           'PRICEDISC',\n",
              "           'PRICEMAT',\n",
              "           'PROB',\n",
              "           'PRODUCT',\n",
              "           'PROPER',\n",
              "           'PV',\n",
              "           'QUARTILE',\n",
              "           'QUOTIENT',\n",
              "           'RADIANS',\n",
              "           'RAND',\n",
              "           'RANDBETWEEN',\n",
              "           'RANK',\n",
              "           'RATE',\n",
              "           'RECEIVED',\n",
              "           'REPLACE',\n",
              "           'REPLACEB',\n",
              "           'REPT',\n",
              "           'RIGHT',\n",
              "           'RIGHTB',\n",
              "           'ROMAN',\n",
              "           'ROUND',\n",
              "           'ROUNDDOWN',\n",
              "           'ROUNDUP',\n",
              "           'ROW',\n",
              "           'ROWS',\n",
              "           'RSQ',\n",
              "           'RTD',\n",
              "           'SEARCH',\n",
              "           'SEARCHB',\n",
              "           'SECOND',\n",
              "           'SERIESSUM',\n",
              "           'SIGN',\n",
              "           'SIN',\n",
              "           'SINH',\n",
              "           'SKEW',\n",
              "           'SLN',\n",
              "           'SLOPE',\n",
              "           'SMALL',\n",
              "           'SQRT',\n",
              "           'SQRTPI',\n",
              "           'STANDARDIZE',\n",
              "           'STDEV STDEVA',\n",
              "           'STDEVP',\n",
              "           'STDEVPA STEYX',\n",
              "           'SUBSTITUTE',\n",
              "           'SUBTOTAL',\n",
              "           'SUM',\n",
              "           'SUMIF',\n",
              "           'SUMIFS',\n",
              "           'SUMPRODUCT',\n",
              "           'SUMSQ',\n",
              "           'SUMX2MY2',\n",
              "           'SUMX2PY2',\n",
              "           'SUMXMY2',\n",
              "           'SYD',\n",
              "           'T',\n",
              "           'TAN',\n",
              "           'TANH',\n",
              "           'TBILLEQ',\n",
              "           'TBILLPRICE',\n",
              "           'TBILLYIELD',\n",
              "           'TDIST',\n",
              "           'TEXT',\n",
              "           'TIME',\n",
              "           'TIMEVALUE',\n",
              "           'TINV',\n",
              "           'TODAY',\n",
              "           'TRANSPOSE',\n",
              "           'TREND',\n",
              "           'TRIM',\n",
              "           'TRIMMEAN',\n",
              "           'TRUE ADDRESS',\n",
              "           'TRUNC',\n",
              "           'TTEST',\n",
              "           'TYPE',\n",
              "           'UPPER',\n",
              "           'VALUE',\n",
              "           'VAR',\n",
              "           'VARA',\n",
              "           'VARP',\n",
              "           'VARPA',\n",
              "           'VDB',\n",
              "           'VLOOKUP',\n",
              "           'WEEKDAY',\n",
              "           'WEEKNUM',\n",
              "           'WEIBULL',\n",
              "           'WORKDAY ',\n",
              "           'WORKDAY.INTL',\n",
              "           'XIRR',\n",
              "           'XNPV',\n",
              "           'YEAR',\n",
              "           'YEARFRAC',\n",
              "           'YIELD',\n",
              "           'YIELDDISC',\n",
              "           'YIELDMAT',\n",
              "           'ZTEST'})"
            ]
          },
          "metadata": {},
          "execution_count": 71
        }
      ]
    },
    {
      "cell_type": "code",
      "source": [
        "# associando uma fórmula a uma célula\n",
        "sheet['G1'] = 'Valor Médio'\n",
        "sheet['G2'] = '=AVERAGE(E2:E91)'\n",
        "\n",
        "# salvando a planilha para conferência\n",
        "workbook.save(filename='controle_formulas.xlsx')"
      ],
      "metadata": {
        "id": "Hr_321jVERHX"
      },
      "execution_count": null,
      "outputs": []
    },
    {
      "cell_type": "markdown",
      "source": [
        "## Fórmula Condicional\n",
        "Agora, vamos utilizar uma fórmula condicional, o SOMASE (SUMIF). Mais uma vez, o que faremos é simples: adicionar à célula uma string, que na verdade é uma fórmula. Uma vez lá dentro, ela funcionará como fórmula.\n",
        "\n",
        "Aqui, vamos verificar a quantidade de **Canon 6D Mark II** vendidas.\n",
        "\n",
        "Para utilização no Google Sheets em Português, considere o código abaixo:\n",
        "\n",
        "`=SOMASE(B2:B91; \"Canon 6D Mark II\"; C2:C91)`\n",
        "\n",
        "> Atenção para as aspas duplas, necessárias para o Excel, e fazem parte da organização que estabelecemos no Python, simples fora, duplas dentro, para garantir que rode."
      ],
      "metadata": {
        "id": "6IKOiUMuEaWC"
      }
    },
    {
      "cell_type": "code",
      "source": [
        "# fórmula condicional\n",
        "sheet['G3'] = '=SUMIF(B2:B91, \"Canon 6D Mark II\", C2:C91)'\n",
        "\n",
        "# salvando a planilha\n",
        "workbook.save(filename='controle_formulas.xlsx')"
      ],
      "metadata": {
        "id": "3yRnai3pEa8j"
      },
      "execution_count": null,
      "outputs": []
    },
    {
      "cell_type": "markdown",
      "source": [],
      "metadata": {
        "id": "bZwduNZhFXo4"
      }
    },
    {
      "cell_type": "markdown",
      "source": [
        "#**8 - Inserindo Gráficos**\n",
        "\n",
        "Outra parte fundamental de análises e apresentação de resultados utiliando planilhas são os gráficos. Uma forma visual de apresentar os dados sempre é muito bem vinda e pode acrescentar bastante valor aos nossos projetos.\n",
        "\n",
        "Tudo que precisamos fazer com a planliha foi possível com Python até aqui, e esse detalhe não poderia ser diferente. Neste notebook, vamos ver como criar e inserir gráficos em nossas planilhas usando Python e openpyxl.\n",
        "\n",
        "<center><img width=\"50%\" src=\"https://img.freepik.com/vetores-gratis/conjunto-de-elementos-planos-de-graficos_1284-34316.jpg?w=740&t=st=1663783512~exp=1663784112~hmac=35e80ba4487ae18ccf786b532bf7771f8126f24ee3ca76c21f48290749fb9f20\"></center>"
      ],
      "metadata": {
        "id": "Ta96b9jzneaE"
      }
    },
    {
      "cell_type": "markdown",
      "source": [
        "##Carregando os Dados\n",
        "\n",
        "Como de praxe, carregaremos os dados da mesma forma que temos feito. Entretanto, importaremos, também, os módulos BarChart, LineChart e Reference, que possibilitarão a criação dos nossos gráficos.\n",
        "\n",
        "Aqui, veremos os princípios básicos para criação e inserção dos gráficos à planilha, que são similares para outros tipos de gráfico. Para mais detalhes em diferentes tipos de gráficos, e mais exemplos, a [documentação](https://openpyxl.readthedocs.io/en/stable/charts/introduction.html) é uma excelente fonte."
      ],
      "metadata": {
        "id": "mucDn0BooHLU"
      }
    },
    {
      "cell_type": "code",
      "source": [
        "# importando os pacotes\n",
        "from openpyxl import load_workbook, Workbook\n",
        "\n",
        "# importando os pacotes.chart, para plotagem dos gráficos\n",
        "from openpyxl.chart import BarChart, LineChart, Reference \n",
        "\n",
        "workbook = load_workbook(filename='controle_da_empresa.xlsx')\n",
        "\n",
        "# verificando as abas\n",
        "workbook.sheetnames\n",
        "\n",
        "# carregando uma aba específica\n",
        "sheet = workbook['Estoque']"
      ],
      "metadata": {
        "id": "Y4Xfkv-ZoLZn"
      },
      "execution_count": null,
      "outputs": []
    },
    {
      "cell_type": "markdown",
      "source": [
        "## Gráfico de Barras\n",
        "A primeira visualização que utilizaremos é o gráfico de barras.\n",
        "\n",
        "Para criar gráficos, criaremos um objeto BarChart, e o associaremos a uma variável. Então, selecionaremos todas as informações que queremos utilizar, adicionaremos essas informações ao gráfico, e adicionaremos o gráfico à planilha.\n",
        "\n",
        "Essa última parte funciona da mesma forma da inserção de imagens, que vimos anteriormente, mas nesse caso utilizaremos o método `add_chart`, com parâmetros similares aos que passamos para imagens."
      ],
      "metadata": {
        "id": "b_KJQtswoeRB"
      }
    },
    {
      "cell_type": "code",
      "source": [
        "# criando o objeto BarChart\n",
        "chart = BarChart()\n",
        "\n",
        "# adicionando os dados de referência\n",
        "# data = Reference(worksheet=sheet,\n",
        "#                  min_row=1,\n",
        "#                  max_row=91,\n",
        "#                  min_col=2,\n",
        "#                  max_col=6)\n",
        "\n",
        "data = \"Estoque!$B$1:$C$11\"\n",
        "\n",
        "# nomeando os eixos\n",
        "chart.x_axis.title = 'Itens'\n",
        "chart.y_axis.title = 'Estoque Mínimo'\n",
        "\n",
        "# adicionando os dados ao gráfico\n",
        "chart.add_data(data, titles_from_data=True)\n",
        "\n",
        "# adicionando o gráfico à planilha\n",
        "sheet.add_chart(chart, 'H1')"
      ],
      "metadata": {
        "id": "XA1IPQFZohtW"
      },
      "execution_count": null,
      "outputs": []
    },
    {
      "cell_type": "markdown",
      "source": [
        "O resultado foi um gráfico que mostra a diferença entre o **custo de aquisição** e o **preço final** para o consumidor, para cada item em estoque. \n",
        "\n",
        "Como todas as células de interesse foram selecionadas, é possível, no próprio excel, modificar a visualização.\n",
        "\n",
        "Lembre-se de salvar o arquivo modificado para que possa ser feita a conferência."
      ],
      "metadata": {
        "id": "PKz2rUIMo2nO"
      }
    },
    {
      "cell_type": "code",
      "source": [
        "# salvando a planilha com gráfico de barras\n",
        "workbook.save(filename='controle_chart.xlsx')"
      ],
      "metadata": {
        "id": "rjvwWFUMo3HB"
      },
      "execution_count": null,
      "outputs": []
    },
    {
      "cell_type": "markdown",
      "source": [
        "## Gráfico de Linhas\n",
        "Outra visualização bastante importante e usada com bastante frequência é o Gráfico de Linhas.\n",
        "\n",
        "Para esse gráfico, vamos criar uma outra planilha, com dados novos para que possamos criar uma visualização interessante nesse sentido.\n",
        "\n",
        "O princípioé  o mesmo que aplicamos nos notebooks anteriores. Criamos uma planilha, abrimos a aba principal, carregamos dados para dentro dessa planilha.\n",
        "\n",
        "Então, criamos um objeto LineChart, passamos para ele as referências de nossos dados, estilizamos ele, inserimos os dados no gráfico, e o gráfico na planilha.\n",
        "\n",
        "Por fim, salvamos o arquivo da planilha, para que possamos conferir o que fizemos."
      ],
      "metadata": {
        "id": "GnaZnU-BpHMh"
      }
    },
    {
      "cell_type": "code",
      "source": [
        "from openpyxl.chart.axis import DateAxis\n",
        "from datetime import date\n",
        "\n",
        "# criando a planilha\n",
        "wb = Workbook()\n",
        "\n",
        "# acessando a aba\n",
        "ws = wb.active\n",
        "\n",
        "# criando os dados\n",
        "rows = [\n",
        "    ['Date', 'Batch 1', 'Batch 2', 'Batch 3'],\n",
        "    [date(2015,9, 1), 40, 30, 25],\n",
        "    [date(2015,9, 2), 40, 25, 30],\n",
        "    [date(2015,9, 3), 50, 30, 45],\n",
        "    [date(2015,9, 4), 30, 25, 40],\n",
        "    [date(2015,9, 5), 25, 35, 30],\n",
        "    [date(2015,9, 6), 20, 40, 35],\n",
        "]\n",
        "\n",
        "# inserindo os dados\n",
        "for row in rows:\n",
        "    ws.append(row)\n",
        "\n",
        "# criando o gráfico\n",
        "c1 = LineChart()\n",
        "c1.title = \"Line Chart\"\n",
        "c1.style = 13\n",
        "c1.y_axis.title = 'Tamanho'\n",
        "c1.x_axis.title = 'Número de testes'\n",
        "\n",
        "data = Reference(ws, min_col=2, min_row=1, max_col=4, max_row=7)\n",
        "\n",
        "# adicionando as referências\n",
        "c1.add_data(data, titles_from_data=True)\n",
        "\n",
        "# adicionando o gráfico à planilha\n",
        "ws.add_chart(c1, \"A10\")\n",
        "\n",
        "# salvando a planilha\n",
        "wb.save(filename='line_chart.xlsx')"
      ],
      "metadata": {
        "id": "IW03uGB8pNx0"
      },
      "execution_count": null,
      "outputs": []
    },
    {
      "cell_type": "markdown",
      "source": [
        "#**9 -  Integração com Pandas**\n",
        "\n",
        "Já sabemos que o Pandas é uma das principais bibliotecas de Python para manipulação de dados. Por isso, é sempre interessante unir Python com Pandas. Já vimos como é possível abrir arquivos xlsx com o Pandas, mas isso já infere que estaremos trabalhando com data frames, o que pode não ser o intuito no seu projeto.\n",
        "\n",
        "Por isso, é sempre importante saber como levar os dados a um data frame, e depois retorná-los para o formato xlsx, ou o contrário. Essa flexibilidade abre nosso leque de possibilidades e nosso poder analítico, e esse é o foco deste notebook.\n",
        "\n",
        "Mais uma vez, lembrando sobre a atualização da biblioteca e o carregamento dos dados.\n",
        "\n",
        "\n",
        "<center><img width=\"50%\" src=\"https://miro.medium.com/max/720/1*HsgTI2V4XW2gDTxnhtiHHw.png\"></center>\n",
        "\n",
        "\n",
        "<center><img width=\"50%\" src=\"https://img.freepik.com/vetores-gratis/ilustracao-de-icone-dos-desenhos-animados-de-livro-de-leitura-panda-bonito_138676-2683.jpg?w=740&t=st=1663783690~exp=1663784290~hmac=00d3cfd971abe0333ee32079f4a8fde951bfd2d67362d4ae377003f147e20178\"></center>\n"
      ],
      "metadata": {
        "id": "nSGA-Nm3psVx"
      }
    },
    {
      "cell_type": "markdown",
      "source": [
        "## Sobre o Openpyxl\n",
        "O Openpyxl tem ferramentas para converter um xlsx em dataframe, e vice versa. Cada biblioteca tem propriedades que podem ser desejáveis a depender do seu objetivo, e por isso é interessante que saibamos alternar entre elas.\n",
        "\n",
        "Para nosso primeiro caso, vamos abrir o nosso arquivo com Pandas, para simular o recebimento do arquivo como data frame, mas você quer trabalhar com o openpyxl."
      ],
      "metadata": {
        "id": "37RHvCByp4WW"
      }
    },
    {
      "cell_type": "code",
      "source": [
        "# importando o pandas e os dados\n",
        "import pandas as pd\n",
        "df = pd.read_excel('/content/controle_da_empresa.xlsx')\n",
        "\n",
        "# visualizando o data frame\n",
        "df.head()"
      ],
      "metadata": {
        "colab": {
          "base_uri": "https://localhost:8080/",
          "height": 206
        },
        "id": "XFGvdDW1p5hu",
        "outputId": "646a2297-80e0-4037-aadf-7c780d44f217"
      },
      "execution_count": null,
      "outputs": [
        {
          "output_type": "execute_result",
          "data": {
            "text/plain": [
              "   Código                 Item  Estoque Mínimo  Custo da Unidade  \\\n",
              "0  SIG001     Canon 6D Mark II               5              8500   \n",
              "1  SIG002    Canon 5D Mark III               2              9500   \n",
              "2  SIG003     Lente 85mm f/1.4               8              7000   \n",
              "3  SIG004     Lente 50mm f/1.4               8               900   \n",
              "4  SIG005  Lente 16-35mm f/2.8               8              6120   \n",
              "\n",
              "   Preço da Unidade Unidade de Medida  Estoque Atual  \n",
              "0              8500           Unidade             13  \n",
              "1             13650           Unidade              1  \n",
              "2              9989           Unidade              6  \n",
              "3              1649           Unidade             10  \n",
              "4              8997           Unidade             11  "
            ],
            "text/html": [
              "\n",
              "  <div id=\"df-d8c37cf1-b5d2-4e62-aa07-80becb1deccb\">\n",
              "    <div class=\"colab-df-container\">\n",
              "      <div>\n",
              "<style scoped>\n",
              "    .dataframe tbody tr th:only-of-type {\n",
              "        vertical-align: middle;\n",
              "    }\n",
              "\n",
              "    .dataframe tbody tr th {\n",
              "        vertical-align: top;\n",
              "    }\n",
              "\n",
              "    .dataframe thead th {\n",
              "        text-align: right;\n",
              "    }\n",
              "</style>\n",
              "<table border=\"1\" class=\"dataframe\">\n",
              "  <thead>\n",
              "    <tr style=\"text-align: right;\">\n",
              "      <th></th>\n",
              "      <th>Código</th>\n",
              "      <th>Item</th>\n",
              "      <th>Estoque Mínimo</th>\n",
              "      <th>Custo da Unidade</th>\n",
              "      <th>Preço da Unidade</th>\n",
              "      <th>Unidade de Medida</th>\n",
              "      <th>Estoque Atual</th>\n",
              "    </tr>\n",
              "  </thead>\n",
              "  <tbody>\n",
              "    <tr>\n",
              "      <th>0</th>\n",
              "      <td>SIG001</td>\n",
              "      <td>Canon 6D Mark II</td>\n",
              "      <td>5</td>\n",
              "      <td>8500</td>\n",
              "      <td>8500</td>\n",
              "      <td>Unidade</td>\n",
              "      <td>13</td>\n",
              "    </tr>\n",
              "    <tr>\n",
              "      <th>1</th>\n",
              "      <td>SIG002</td>\n",
              "      <td>Canon 5D Mark III</td>\n",
              "      <td>2</td>\n",
              "      <td>9500</td>\n",
              "      <td>13650</td>\n",
              "      <td>Unidade</td>\n",
              "      <td>1</td>\n",
              "    </tr>\n",
              "    <tr>\n",
              "      <th>2</th>\n",
              "      <td>SIG003</td>\n",
              "      <td>Lente 85mm f/1.4</td>\n",
              "      <td>8</td>\n",
              "      <td>7000</td>\n",
              "      <td>9989</td>\n",
              "      <td>Unidade</td>\n",
              "      <td>6</td>\n",
              "    </tr>\n",
              "    <tr>\n",
              "      <th>3</th>\n",
              "      <td>SIG004</td>\n",
              "      <td>Lente 50mm f/1.4</td>\n",
              "      <td>8</td>\n",
              "      <td>900</td>\n",
              "      <td>1649</td>\n",
              "      <td>Unidade</td>\n",
              "      <td>10</td>\n",
              "    </tr>\n",
              "    <tr>\n",
              "      <th>4</th>\n",
              "      <td>SIG005</td>\n",
              "      <td>Lente 16-35mm f/2.8</td>\n",
              "      <td>8</td>\n",
              "      <td>6120</td>\n",
              "      <td>8997</td>\n",
              "      <td>Unidade</td>\n",
              "      <td>11</td>\n",
              "    </tr>\n",
              "  </tbody>\n",
              "</table>\n",
              "</div>\n",
              "      <button class=\"colab-df-convert\" onclick=\"convertToInteractive('df-d8c37cf1-b5d2-4e62-aa07-80becb1deccb')\"\n",
              "              title=\"Convert this dataframe to an interactive table.\"\n",
              "              style=\"display:none;\">\n",
              "        \n",
              "  <svg xmlns=\"http://www.w3.org/2000/svg\" height=\"24px\"viewBox=\"0 0 24 24\"\n",
              "       width=\"24px\">\n",
              "    <path d=\"M0 0h24v24H0V0z\" fill=\"none\"/>\n",
              "    <path d=\"M18.56 5.44l.94 2.06.94-2.06 2.06-.94-2.06-.94-.94-2.06-.94 2.06-2.06.94zm-11 1L8.5 8.5l.94-2.06 2.06-.94-2.06-.94L8.5 2.5l-.94 2.06-2.06.94zm10 10l.94 2.06.94-2.06 2.06-.94-2.06-.94-.94-2.06-.94 2.06-2.06.94z\"/><path d=\"M17.41 7.96l-1.37-1.37c-.4-.4-.92-.59-1.43-.59-.52 0-1.04.2-1.43.59L10.3 9.45l-7.72 7.72c-.78.78-.78 2.05 0 2.83L4 21.41c.39.39.9.59 1.41.59.51 0 1.02-.2 1.41-.59l7.78-7.78 2.81-2.81c.8-.78.8-2.07 0-2.86zM5.41 20L4 18.59l7.72-7.72 1.47 1.35L5.41 20z\"/>\n",
              "  </svg>\n",
              "      </button>\n",
              "      \n",
              "  <style>\n",
              "    .colab-df-container {\n",
              "      display:flex;\n",
              "      flex-wrap:wrap;\n",
              "      gap: 12px;\n",
              "    }\n",
              "\n",
              "    .colab-df-convert {\n",
              "      background-color: #E8F0FE;\n",
              "      border: none;\n",
              "      border-radius: 50%;\n",
              "      cursor: pointer;\n",
              "      display: none;\n",
              "      fill: #1967D2;\n",
              "      height: 32px;\n",
              "      padding: 0 0 0 0;\n",
              "      width: 32px;\n",
              "    }\n",
              "\n",
              "    .colab-df-convert:hover {\n",
              "      background-color: #E2EBFA;\n",
              "      box-shadow: 0px 1px 2px rgba(60, 64, 67, 0.3), 0px 1px 3px 1px rgba(60, 64, 67, 0.15);\n",
              "      fill: #174EA6;\n",
              "    }\n",
              "\n",
              "    [theme=dark] .colab-df-convert {\n",
              "      background-color: #3B4455;\n",
              "      fill: #D2E3FC;\n",
              "    }\n",
              "\n",
              "    [theme=dark] .colab-df-convert:hover {\n",
              "      background-color: #434B5C;\n",
              "      box-shadow: 0px 1px 3px 1px rgba(0, 0, 0, 0.15);\n",
              "      filter: drop-shadow(0px 1px 2px rgba(0, 0, 0, 0.3));\n",
              "      fill: #FFFFFF;\n",
              "    }\n",
              "  </style>\n",
              "\n",
              "      <script>\n",
              "        const buttonEl =\n",
              "          document.querySelector('#df-d8c37cf1-b5d2-4e62-aa07-80becb1deccb button.colab-df-convert');\n",
              "        buttonEl.style.display =\n",
              "          google.colab.kernel.accessAllowed ? 'block' : 'none';\n",
              "\n",
              "        async function convertToInteractive(key) {\n",
              "          const element = document.querySelector('#df-d8c37cf1-b5d2-4e62-aa07-80becb1deccb');\n",
              "          const dataTable =\n",
              "            await google.colab.kernel.invokeFunction('convertToInteractive',\n",
              "                                                     [key], {});\n",
              "          if (!dataTable) return;\n",
              "\n",
              "          const docLinkHtml = 'Like what you see? Visit the ' +\n",
              "            '<a target=\"_blank\" href=https://colab.research.google.com/notebooks/data_table.ipynb>data table notebook</a>'\n",
              "            + ' to learn more about interactive tables.';\n",
              "          element.innerHTML = '';\n",
              "          dataTable['output_type'] = 'display_data';\n",
              "          await google.colab.output.renderOutput(dataTable, element);\n",
              "          const docLink = document.createElement('div');\n",
              "          docLink.innerHTML = docLinkHtml;\n",
              "          element.appendChild(docLink);\n",
              "        }\n",
              "      </script>\n",
              "    </div>\n",
              "  </div>\n",
              "  "
            ]
          },
          "metadata": {},
          "execution_count": 80
        }
      ]
    },
    {
      "cell_type": "markdown",
      "source": [
        "## Transformando para XLSX\n",
        "Uma vez carregado nosso data frame, é hora de trabalhar com o openpyxl. Para isso, vamos importar o módulo `Workbook` e dos utilitários do openpyxl vamos puxar do módulo dataframe, o `dataframe_to_rows`, que, como o nome sugere, transforma o dataframe em linhas, como quando lemos um arquivo xlsx."
      ],
      "metadata": {
        "id": "oxPLmbZLp-fE"
      }
    },
    {
      "cell_type": "code",
      "source": [
        "# importando os pacotes necessários\n",
        "from openpyxl import Workbook\n",
        "from openpyxl.utils.dataframe import dataframe_to_rows"
      ],
      "metadata": {
        "id": "HByDFPELp_Be"
      },
      "execution_count": null,
      "outputs": []
    },
    {
      "cell_type": "markdown",
      "source": [
        "Para podermos ter esses dados em formato xlsx, primeiro, precisamos criar nossa planilha, e acessar a aba principal, para então inserir os dados nas células.\n",
        "\n",
        "Portanto, vamos criar nossa planilha."
      ],
      "metadata": {
        "id": "Lhm5MXf6qDpN"
      }
    },
    {
      "cell_type": "code",
      "source": [
        "# criando a planilha\n",
        "workbook = Workbook()\n",
        "\n",
        "# acessando a aba\n",
        "sheet = workbook.active"
      ],
      "metadata": {
        "id": "3cq293Tfp0yL"
      },
      "execution_count": null,
      "outputs": []
    },
    {
      "cell_type": "markdown",
      "source": [
        "Com nossa planilha aberta, podemos usar um loop for para iterar sobre os dados do data frame, e inserir os mesmos em nossa planilha."
      ],
      "metadata": {
        "id": "NEq2vbfPqLOq"
      }
    },
    {
      "cell_type": "code",
      "source": [
        "# iterando sobre o dataframe, inserindo os dados nas células\n",
        "for row in dataframe_to_rows(df, index=False, header=True):\n",
        "  sheet.append(row)\n",
        "\n",
        "# salvando a planilha\n",
        "workbook.save(filename='salvo_no_openpyxl.xlsx')"
      ],
      "metadata": {
        "id": "hXx8i-ZsqLlJ"
      },
      "execution_count": null,
      "outputs": []
    },
    {
      "cell_type": "markdown",
      "source": [
        "Pronto! Agora podemos utilizar os arquivos que recebemos como csv, em formato xlsx."
      ],
      "metadata": {
        "id": "T-qpzrVdqUgH"
      }
    },
    {
      "cell_type": "markdown",
      "source": [
        "**Ou, usando diretamente o método `df.to_excel`**"
      ],
      "metadata": {
        "id": "PmF61gAwqeXq"
      }
    },
    {
      "cell_type": "code",
      "source": [
        "df.to_excel(\"salvo_no_pandas.xlsx\", sheet_name=\"Nome da aba\", index=False)"
      ],
      "metadata": {
        "id": "BKV22E8ZqfLw"
      },
      "execution_count": null,
      "outputs": []
    },
    {
      "cell_type": "markdown",
      "source": [
        "## Convertendo XLSX para DF\n",
        "\n",
        "Agora que já sabemos ir de Data Frame para XLSX, é hora de fazer o caminho contrário."
      ],
      "metadata": {
        "id": "shoKjiNrrExY"
      }
    },
    {
      "cell_type": "markdown",
      "source": [
        "Já conhecemos todas as possibilidades que o Pandas e outras bibliotecas trabalhando em conjunto com essa nos proporcionam, portajnto, é bastante interessante direcionarmos nossa análise com o Pandas. \n",
        "\n",
        "Aqui, vamos simular o recebimento de um arquivo em formato xlsx, e transformá-lo em um data frame do Pandas."
      ],
      "metadata": {
        "id": "2CVzEnBErIc0"
      }
    },
    {
      "cell_type": "markdown",
      "source": [
        "Uma das primeiras coisas que precisaremos fazer é coletar o nome das colunas, pois quando criarmos nosso data frame, elas aparecerão como a primeira linha, e não como coluna.\n",
        "\n",
        "Depois de carregar os dados, vamos renomear as colunas e apagar a coluna extra. Mas, um passo de cada vez. Primeiro, vamos iterar sobre a primeira linha e coletar os nomes das colunas."
      ],
      "metadata": {
        "id": "Qu1sXcNyrMd9"
      }
    },
    {
      "cell_type": "code",
      "source": [
        "# buscando os nomes das colunas\n",
        "for value in sheet.iter_rows(min_row=1,\n",
        "                           max_row=1,\n",
        "                           min_col=1,\n",
        "                           max_col=7,\n",
        "                           values_only=True):\n",
        "  cols = value\n",
        "  print(cols)"
      ],
      "metadata": {
        "colab": {
          "base_uri": "https://localhost:8080/"
        },
        "id": "khyEHDWorM0q",
        "outputId": "2d28e3c9-819a-47a7-ea30-e89399cb1e69"
      },
      "execution_count": null,
      "outputs": [
        {
          "output_type": "stream",
          "name": "stdout",
          "text": [
            "('Código', 'Item', 'Estoque Mínimo', 'Custo da Unidade', 'Preço da Unidade', 'Unidade de Medida', 'Estoque Atual')\n"
          ]
        }
      ]
    },
    {
      "cell_type": "markdown",
      "source": [
        "Agora, iremos coletar os valores presentes na coluna, e transformar em um data frame com a função `DataFrame` do Pandas.\n",
        "\n",
        "Após isso, utilizaremos a lista de colunas que guardamos na variável `cols` para renomear as colunas, e em seguida vamos excluir a primeira linha, que continha o nome das colunas.\n",
        "\n",
        "Por fim, é só visualizar o data frame."
      ],
      "metadata": {
        "id": "M7-Z5WfMrSEd"
      }
    },
    {
      "cell_type": "code",
      "source": [
        "# coletando os valores para o DF\n",
        "values = sheet.values\n",
        "\n",
        "# criando o dataframe\n",
        "df_xl = pd.DataFrame(values)\n",
        "\n",
        "# nomeando as colunas\n",
        "df_xl.columns = cols\n",
        "\n",
        "# removendo linha repetida\n",
        "df_xl.drop(df_xl.index[0], inplace = True)\n",
        "\n",
        "# visualizando o dataset\n",
        "df_xl.head()"
      ],
      "metadata": {
        "colab": {
          "base_uri": "https://localhost:8080/",
          "height": 206
        },
        "id": "JkiQhco7rScD",
        "outputId": "6753e262-b451-4240-f4d0-7a77ea59d9bf"
      },
      "execution_count": null,
      "outputs": [
        {
          "output_type": "execute_result",
          "data": {
            "text/plain": [
              "   Código                 Item Estoque Mínimo Custo da Unidade  \\\n",
              "1  SIG001     Canon 6D Mark II              5             8500   \n",
              "2  SIG002    Canon 5D Mark III              2             9500   \n",
              "3  SIG003     Lente 85mm f/1.4              8             7000   \n",
              "4  SIG004     Lente 50mm f/1.4              8              900   \n",
              "5  SIG005  Lente 16-35mm f/2.8              8             6120   \n",
              "\n",
              "  Preço da Unidade Unidade de Medida Estoque Atual  \n",
              "1             8500           Unidade            13  \n",
              "2            13650           Unidade             1  \n",
              "3             9989           Unidade             6  \n",
              "4             1649           Unidade            10  \n",
              "5             8997           Unidade            11  "
            ],
            "text/html": [
              "\n",
              "  <div id=\"df-6e2bb562-035a-4508-8393-23acdc6c8d65\">\n",
              "    <div class=\"colab-df-container\">\n",
              "      <div>\n",
              "<style scoped>\n",
              "    .dataframe tbody tr th:only-of-type {\n",
              "        vertical-align: middle;\n",
              "    }\n",
              "\n",
              "    .dataframe tbody tr th {\n",
              "        vertical-align: top;\n",
              "    }\n",
              "\n",
              "    .dataframe thead th {\n",
              "        text-align: right;\n",
              "    }\n",
              "</style>\n",
              "<table border=\"1\" class=\"dataframe\">\n",
              "  <thead>\n",
              "    <tr style=\"text-align: right;\">\n",
              "      <th></th>\n",
              "      <th>Código</th>\n",
              "      <th>Item</th>\n",
              "      <th>Estoque Mínimo</th>\n",
              "      <th>Custo da Unidade</th>\n",
              "      <th>Preço da Unidade</th>\n",
              "      <th>Unidade de Medida</th>\n",
              "      <th>Estoque Atual</th>\n",
              "    </tr>\n",
              "  </thead>\n",
              "  <tbody>\n",
              "    <tr>\n",
              "      <th>1</th>\n",
              "      <td>SIG001</td>\n",
              "      <td>Canon 6D Mark II</td>\n",
              "      <td>5</td>\n",
              "      <td>8500</td>\n",
              "      <td>8500</td>\n",
              "      <td>Unidade</td>\n",
              "      <td>13</td>\n",
              "    </tr>\n",
              "    <tr>\n",
              "      <th>2</th>\n",
              "      <td>SIG002</td>\n",
              "      <td>Canon 5D Mark III</td>\n",
              "      <td>2</td>\n",
              "      <td>9500</td>\n",
              "      <td>13650</td>\n",
              "      <td>Unidade</td>\n",
              "      <td>1</td>\n",
              "    </tr>\n",
              "    <tr>\n",
              "      <th>3</th>\n",
              "      <td>SIG003</td>\n",
              "      <td>Lente 85mm f/1.4</td>\n",
              "      <td>8</td>\n",
              "      <td>7000</td>\n",
              "      <td>9989</td>\n",
              "      <td>Unidade</td>\n",
              "      <td>6</td>\n",
              "    </tr>\n",
              "    <tr>\n",
              "      <th>4</th>\n",
              "      <td>SIG004</td>\n",
              "      <td>Lente 50mm f/1.4</td>\n",
              "      <td>8</td>\n",
              "      <td>900</td>\n",
              "      <td>1649</td>\n",
              "      <td>Unidade</td>\n",
              "      <td>10</td>\n",
              "    </tr>\n",
              "    <tr>\n",
              "      <th>5</th>\n",
              "      <td>SIG005</td>\n",
              "      <td>Lente 16-35mm f/2.8</td>\n",
              "      <td>8</td>\n",
              "      <td>6120</td>\n",
              "      <td>8997</td>\n",
              "      <td>Unidade</td>\n",
              "      <td>11</td>\n",
              "    </tr>\n",
              "  </tbody>\n",
              "</table>\n",
              "</div>\n",
              "      <button class=\"colab-df-convert\" onclick=\"convertToInteractive('df-6e2bb562-035a-4508-8393-23acdc6c8d65')\"\n",
              "              title=\"Convert this dataframe to an interactive table.\"\n",
              "              style=\"display:none;\">\n",
              "        \n",
              "  <svg xmlns=\"http://www.w3.org/2000/svg\" height=\"24px\"viewBox=\"0 0 24 24\"\n",
              "       width=\"24px\">\n",
              "    <path d=\"M0 0h24v24H0V0z\" fill=\"none\"/>\n",
              "    <path d=\"M18.56 5.44l.94 2.06.94-2.06 2.06-.94-2.06-.94-.94-2.06-.94 2.06-2.06.94zm-11 1L8.5 8.5l.94-2.06 2.06-.94-2.06-.94L8.5 2.5l-.94 2.06-2.06.94zm10 10l.94 2.06.94-2.06 2.06-.94-2.06-.94-.94-2.06-.94 2.06-2.06.94z\"/><path d=\"M17.41 7.96l-1.37-1.37c-.4-.4-.92-.59-1.43-.59-.52 0-1.04.2-1.43.59L10.3 9.45l-7.72 7.72c-.78.78-.78 2.05 0 2.83L4 21.41c.39.39.9.59 1.41.59.51 0 1.02-.2 1.41-.59l7.78-7.78 2.81-2.81c.8-.78.8-2.07 0-2.86zM5.41 20L4 18.59l7.72-7.72 1.47 1.35L5.41 20z\"/>\n",
              "  </svg>\n",
              "      </button>\n",
              "      \n",
              "  <style>\n",
              "    .colab-df-container {\n",
              "      display:flex;\n",
              "      flex-wrap:wrap;\n",
              "      gap: 12px;\n",
              "    }\n",
              "\n",
              "    .colab-df-convert {\n",
              "      background-color: #E8F0FE;\n",
              "      border: none;\n",
              "      border-radius: 50%;\n",
              "      cursor: pointer;\n",
              "      display: none;\n",
              "      fill: #1967D2;\n",
              "      height: 32px;\n",
              "      padding: 0 0 0 0;\n",
              "      width: 32px;\n",
              "    }\n",
              "\n",
              "    .colab-df-convert:hover {\n",
              "      background-color: #E2EBFA;\n",
              "      box-shadow: 0px 1px 2px rgba(60, 64, 67, 0.3), 0px 1px 3px 1px rgba(60, 64, 67, 0.15);\n",
              "      fill: #174EA6;\n",
              "    }\n",
              "\n",
              "    [theme=dark] .colab-df-convert {\n",
              "      background-color: #3B4455;\n",
              "      fill: #D2E3FC;\n",
              "    }\n",
              "\n",
              "    [theme=dark] .colab-df-convert:hover {\n",
              "      background-color: #434B5C;\n",
              "      box-shadow: 0px 1px 3px 1px rgba(0, 0, 0, 0.15);\n",
              "      filter: drop-shadow(0px 1px 2px rgba(0, 0, 0, 0.3));\n",
              "      fill: #FFFFFF;\n",
              "    }\n",
              "  </style>\n",
              "\n",
              "      <script>\n",
              "        const buttonEl =\n",
              "          document.querySelector('#df-6e2bb562-035a-4508-8393-23acdc6c8d65 button.colab-df-convert');\n",
              "        buttonEl.style.display =\n",
              "          google.colab.kernel.accessAllowed ? 'block' : 'none';\n",
              "\n",
              "        async function convertToInteractive(key) {\n",
              "          const element = document.querySelector('#df-6e2bb562-035a-4508-8393-23acdc6c8d65');\n",
              "          const dataTable =\n",
              "            await google.colab.kernel.invokeFunction('convertToInteractive',\n",
              "                                                     [key], {});\n",
              "          if (!dataTable) return;\n",
              "\n",
              "          const docLinkHtml = 'Like what you see? Visit the ' +\n",
              "            '<a target=\"_blank\" href=https://colab.research.google.com/notebooks/data_table.ipynb>data table notebook</a>'\n",
              "            + ' to learn more about interactive tables.';\n",
              "          element.innerHTML = '';\n",
              "          dataTable['output_type'] = 'display_data';\n",
              "          await google.colab.output.renderOutput(dataTable, element);\n",
              "          const docLink = document.createElement('div');\n",
              "          docLink.innerHTML = docLinkHtml;\n",
              "          element.appendChild(docLink);\n",
              "        }\n",
              "      </script>\n",
              "    </div>\n",
              "  </div>\n",
              "  "
            ]
          },
          "metadata": {},
          "execution_count": 86
        }
      ]
    },
    {
      "cell_type": "markdown",
      "source": [
        "**Ou pela maneira mais fácil**"
      ],
      "metadata": {
        "id": "9SstaxHbrWS4"
      }
    },
    {
      "cell_type": "code",
      "source": [
        "df = pd.read_excel('/content/controle_da_empresa.xlsx')"
      ],
      "metadata": {
        "id": "GUKsYHJXrPFk"
      },
      "execution_count": null,
      "outputs": []
    }
  ]
}